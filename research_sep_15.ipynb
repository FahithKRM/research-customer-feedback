{
  "nbformat": 4,
  "nbformat_minor": 0,
  "metadata": {
    "colab": {
      "provenance": [],
      "authorship_tag": "ABX9TyP1uK8Upm3fshcAeBJW66+A",
      "include_colab_link": true
    },
    "kernelspec": {
      "name": "python3",
      "display_name": "Python 3"
    },
    "language_info": {
      "name": "python"
    }
  },
  "cells": [
    {
      "cell_type": "markdown",
      "metadata": {
        "id": "view-in-github",
        "colab_type": "text"
      },
      "source": [
        "<a href=\"https://colab.research.google.com/github/FahithKRM/research-customer-feedback/blob/main/research_sep_15.ipynb\" target=\"_parent\"><img src=\"https://colab.research.google.com/assets/colab-badge.svg\" alt=\"Open In Colab\"/></a>"
      ]
    },
    {
      "cell_type": "code",
      "execution_count": 1,
      "metadata": {
        "id": "HBdaRZRI4s2o",
        "colab": {
          "base_uri": "https://localhost:8080/"
        },
        "outputId": "1dd39bc8-faec-486d-b52c-5634320c4561"
      },
      "outputs": [
        {
          "output_type": "stream",
          "name": "stdout",
          "text": [
            "Requirement already satisfied: scikit-learn in /usr/local/lib/python3.12/dist-packages (1.6.1)\n",
            "Requirement already satisfied: nltk in /usr/local/lib/python3.12/dist-packages (3.9.1)\n",
            "Requirement already satisfied: seaborn in /usr/local/lib/python3.12/dist-packages (0.13.2)\n",
            "Requirement already satisfied: numpy>=1.19.5 in /usr/local/lib/python3.12/dist-packages (from scikit-learn) (2.0.2)\n",
            "Requirement already satisfied: scipy>=1.6.0 in /usr/local/lib/python3.12/dist-packages (from scikit-learn) (1.16.1)\n",
            "Requirement already satisfied: joblib>=1.2.0 in /usr/local/lib/python3.12/dist-packages (from scikit-learn) (1.5.2)\n",
            "Requirement already satisfied: threadpoolctl>=3.1.0 in /usr/local/lib/python3.12/dist-packages (from scikit-learn) (3.6.0)\n",
            "Requirement already satisfied: click in /usr/local/lib/python3.12/dist-packages (from nltk) (8.2.1)\n",
            "Requirement already satisfied: regex>=2021.8.3 in /usr/local/lib/python3.12/dist-packages (from nltk) (2024.11.6)\n",
            "Requirement already satisfied: tqdm in /usr/local/lib/python3.12/dist-packages (from nltk) (4.67.1)\n",
            "Requirement already satisfied: pandas>=1.2 in /usr/local/lib/python3.12/dist-packages (from seaborn) (2.2.2)\n",
            "Requirement already satisfied: matplotlib!=3.6.1,>=3.4 in /usr/local/lib/python3.12/dist-packages (from seaborn) (3.10.0)\n",
            "Requirement already satisfied: contourpy>=1.0.1 in /usr/local/lib/python3.12/dist-packages (from matplotlib!=3.6.1,>=3.4->seaborn) (1.3.3)\n",
            "Requirement already satisfied: cycler>=0.10 in /usr/local/lib/python3.12/dist-packages (from matplotlib!=3.6.1,>=3.4->seaborn) (0.12.1)\n",
            "Requirement already satisfied: fonttools>=4.22.0 in /usr/local/lib/python3.12/dist-packages (from matplotlib!=3.6.1,>=3.4->seaborn) (4.59.2)\n",
            "Requirement already satisfied: kiwisolver>=1.3.1 in /usr/local/lib/python3.12/dist-packages (from matplotlib!=3.6.1,>=3.4->seaborn) (1.4.9)\n",
            "Requirement already satisfied: packaging>=20.0 in /usr/local/lib/python3.12/dist-packages (from matplotlib!=3.6.1,>=3.4->seaborn) (25.0)\n",
            "Requirement already satisfied: pillow>=8 in /usr/local/lib/python3.12/dist-packages (from matplotlib!=3.6.1,>=3.4->seaborn) (11.3.0)\n",
            "Requirement already satisfied: pyparsing>=2.3.1 in /usr/local/lib/python3.12/dist-packages (from matplotlib!=3.6.1,>=3.4->seaborn) (3.2.3)\n",
            "Requirement already satisfied: python-dateutil>=2.7 in /usr/local/lib/python3.12/dist-packages (from matplotlib!=3.6.1,>=3.4->seaborn) (2.9.0.post0)\n",
            "Requirement already satisfied: pytz>=2020.1 in /usr/local/lib/python3.12/dist-packages (from pandas>=1.2->seaborn) (2025.2)\n",
            "Requirement already satisfied: tzdata>=2022.7 in /usr/local/lib/python3.12/dist-packages (from pandas>=1.2->seaborn) (2025.2)\n",
            "Requirement already satisfied: six>=1.5 in /usr/local/lib/python3.12/dist-packages (from python-dateutil>=2.7->matplotlib!=3.6.1,>=3.4->seaborn) (1.17.0)\n"
          ]
        },
        {
          "output_type": "stream",
          "name": "stderr",
          "text": [
            "[nltk_data] Downloading package punkt to /root/nltk_data...\n",
            "[nltk_data]   Unzipping tokenizers/punkt.zip.\n",
            "[nltk_data] Downloading package stopwords to /root/nltk_data...\n",
            "[nltk_data]   Unzipping corpora/stopwords.zip.\n",
            "[nltk_data] Downloading package wordnet to /root/nltk_data...\n"
          ]
        },
        {
          "output_type": "stream",
          "name": "stdout",
          "text": [
            "Setup Complete!\n"
          ]
        }
      ],
      "source": [
        "# Install necessary libraries\n",
        "!pip install scikit-learn nltk seaborn\n",
        "\n",
        "# Import libraries\n",
        "import pandas as pd\n",
        "import numpy as np\n",
        "import re\n",
        "import nltk\n",
        "from nltk.corpus import stopwords\n",
        "from nltk.stem import WordNetLemmatizer\n",
        "from sklearn.model_selection import train_test_split\n",
        "from sklearn.feature_extraction.text import TfidfVectorizer\n",
        "from sklearn.linear_model import LogisticRegression\n",
        "from sklearn.metrics import classification_report, accuracy_score, precision_score, recall_score, f1_score\n",
        "import matplotlib.pyplot as plt\n",
        "import seaborn as sns\n",
        "\n",
        "# Download required NLTK data (only needs to be run once)\n",
        "nltk.download('punkt')\n",
        "nltk.download('stopwords')\n",
        "nltk.download('wordnet')\n",
        "\n",
        "print(\"Setup Complete!\")"
      ]
    },
    {
      "cell_type": "code",
      "source": [
        "# --- FOR DEMONSTRATION: Create a sample DataFrame ---\n",
        "# In your actual project, you will load your CSV file here.\n",
        "data = {\n",
        "    'text': [\n",
        "        \"This product is amazing! I love it.\",\n",
        "        \"Absolutely terrible. It broke after one day.\",\n",
        "        \"The screen quality is not good at all.\",\n",
        "        \"It's an okay product, not great but not bad either.\",\n",
        "        \"Overheating issue is a major problem.\",\n",
        "        \"Price is high but the quality is excellent.\",\n",
        "        \"I am very disappointed with the purchase.\",\n",
        "        \"The speaker is barring and the battery life is poor.\",\n",
        "        \"A fantastic device, works perfectly.\",\n",
        "        \"The screen is not responsive, which is frustrating.\"\n",
        "    ],\n",
        "    'sentiment': [1, 0, 0, 1, 0, 1, 0, 0, 1, 0] # 1 for Positive, 0 for Negative\n",
        "}\n",
        "df = pd.DataFrame(data)\n",
        "\n",
        "# --- TO USE YOUR OWN DATA (after uploading) ---\n",
        "# df = pd.read_csv('your_dataset_filename.csv')\n",
        "# You will need to map your star ratings to binary sentiment.\n",
        "# For example: 1-2 stars -> 0 (Negative), 4-5 stars -> 1 (Positive).\n",
        "# df['sentiment'] = df['rating'].apply(lambda x: 1 if x > 3 else 0)\n",
        "# df = df[['text', 'sentiment']] # Keep only the relevant columns\n",
        "\n",
        "# --- Data Preprocessing Function ---\n",
        "# This implements the steps from your presentation [cite: 74, 75]\n",
        "lemmatizer = WordNetLemmatizer()\n",
        "stop_words = set(stopwords.words('english'))\n",
        "\n",
        "def preprocess_text(text):\n",
        "    # Convert to lowercase\n",
        "    text = text.lower()\n",
        "    # Remove HTML tags\n",
        "    text = re.sub(r'<.*?>', '', text)\n",
        "    # Remove special characters and non-ASCII text\n",
        "    text = re.sub(r'[^a-z\\s]', '', text)\n",
        "    # Lemmatization and stop word removal\n",
        "    tokens = [lemmatizer.lemmatize(word) for word in text.split() if word not in stop_words]\n",
        "    return \" \".join(tokens)\n",
        "\n",
        "# Apply preprocessing\n",
        "df['clean_text'] = df['text'].apply(preprocess_text)\n",
        "\n",
        "print(\"Data after preprocessing:\")\n",
        "print(df.head())"
      ],
      "metadata": {
        "colab": {
          "base_uri": "https://localhost:8080/"
        },
        "id": "vXkvOl2PLc5D",
        "outputId": "fa989afa-1f5d-4af6-826c-737baa9421de"
      },
      "execution_count": 2,
      "outputs": [
        {
          "output_type": "stream",
          "name": "stdout",
          "text": [
            "Data after preprocessing:\n",
            "                                                text  sentiment  \\\n",
            "0                This product is amazing! I love it.          1   \n",
            "1       Absolutely terrible. It broke after one day.          0   \n",
            "2             The screen quality is not good at all.          0   \n",
            "3  It's an okay product, not great but not bad ei...          1   \n",
            "4              Overheating issue is a major problem.          0   \n",
            "\n",
            "                          clean_text  \n",
            "0               product amazing love  \n",
            "1  absolutely terrible broke one day  \n",
            "2                screen quality good  \n",
            "3      okay product great bad either  \n",
            "4    overheating issue major problem  \n"
          ]
        }
      ]
    },
    {
      "cell_type": "code",
      "source": [
        "# Split data into training and testing sets\n",
        "X_train, X_test, y_train, y_test_series = train_test_split(\n",
        "    df['clean_text'], df['sentiment'], test_size=0.3, random_state=42\n",
        ")\n",
        "\n",
        "# Convert y_test to a list for easier manipulation later\n",
        "y_test = y_test_series.tolist()\n",
        "\n",
        "# Initialize and fit the TF-IDF Vectorizer\n",
        "vectorizer = TfidfVectorizer(max_features=1000)\n",
        "X_train_tfidf = vectorizer.fit_transform(X_train)\n",
        "X_test_tfidf = vectorizer.transform(X_test)\n",
        "\n",
        "print(\"Data split and vectorized.\")\n",
        "print(\"Training set size:\", X_train_tfidf.shape[0])\n",
        "print(\"Test set size:\", X_test_tfidf.shape[0])"
      ],
      "metadata": {
        "colab": {
          "base_uri": "https://localhost:8080/"
        },
        "id": "GGALk9XQMN2v",
        "outputId": "e1fefa98-7567-470e-f854-f9808d735101"
      },
      "execution_count": 3,
      "outputs": [
        {
          "output_type": "stream",
          "name": "stdout",
          "text": [
            "Data split and vectorized.\n",
            "Training set size: 7\n",
            "Test set size: 3\n"
          ]
        }
      ]
    },
    {
      "cell_type": "markdown",
      "source": [
        "# **Rule-Based Classifier**"
      ],
      "metadata": {
        "id": "3_Squ3zdMxnV"
      }
    },
    {
      "cell_type": "code",
      "source": [
        "# Define negative keywords and negation patterns\n",
        "negative_keywords = ['terrible', 'bad', 'poor', 'disappointed', 'broke', 'issue', 'problem', 'not good', 'barring', 'frustrating']\n",
        "negation_words = ['not', 'never']\n",
        "\n",
        "def rule_based_classifier(texts):\n",
        "    predictions = []\n",
        "    for text in texts:\n",
        "        text_lower = text.lower()\n",
        "        is_negative = False\n",
        "        # Rule: Detect direct negative keywords\n",
        "        if any(keyword in text_lower for keyword in negative_keywords):\n",
        "            is_negative = True\n",
        "\n",
        "        # Rule: Handle simple negations like \"not responsive\"\n",
        "        tokens = text_lower.split()\n",
        "        for i, word in enumerate(tokens):\n",
        "            if word in negation_words and i + 1 < len(tokens):\n",
        "                # e.g., \"not responsive\"\n",
        "                if tokens[i+1] == \"responsive\":\n",
        "                     is_negative = True\n",
        "\n",
        "        predictions.append(0 if is_negative else 1) # 0 for Negative, 1 for Positive\n",
        "    return predictions\n",
        "\n",
        "# Get predictions for the original, unprocessed test text\n",
        "original_test_texts = df.loc[y_test_series.index]['text'].tolist()\n",
        "y_pred_rule_based = rule_based_classifier(original_test_texts)\n",
        "\n",
        "print(\"Rule-Based Model Predictions:\", y_pred_rule_based)"
      ],
      "metadata": {
        "colab": {
          "base_uri": "https://localhost:8080/"
        },
        "id": "yqMCvZuPMaCg",
        "outputId": "7a2059e3-2c77-4d57-f08d-16e2e8c9a1b2"
      },
      "execution_count": 4,
      "outputs": [
        {
          "output_type": "stream",
          "name": "stdout",
          "text": [
            "Rule-Based Model Predictions: [1, 0, 1]\n"
          ]
        }
      ]
    },
    {
      "cell_type": "markdown",
      "source": [
        "# **Machine Learning Classifier (Logistic Regression)**"
      ],
      "metadata": {
        "id": "SzScTDfLNBsK"
      }
    },
    {
      "cell_type": "code",
      "source": [
        "# Initialize and train the Logistic Regression model\n",
        "ml_model = LogisticRegression(random_state=42)\n",
        "ml_model.fit(X_train_tfidf, y_train)\n",
        "\n",
        "# Get predictions\n",
        "y_pred_ml = ml_model.predict(X_test_tfidf).tolist()\n",
        "\n",
        "print(\"ML Model Predictions:\", y_pred_ml)"
      ],
      "metadata": {
        "colab": {
          "base_uri": "https://localhost:8080/"
        },
        "id": "XAuRVx1JMjOf",
        "outputId": "0df96d85-d8d3-4079-a4ef-bdd9feb71a71"
      },
      "execution_count": 5,
      "outputs": [
        {
          "output_type": "stream",
          "name": "stdout",
          "text": [
            "ML Model Predictions: [0, 0, 0]\n"
          ]
        }
      ]
    },
    {
      "cell_type": "markdown",
      "source": [
        "# **Hybrid Classifier**"
      ],
      "metadata": {
        "id": "z3ijttC2NUBl"
      }
    },
    {
      "cell_type": "code",
      "source": [
        "def hybrid_classifier(rule_preds, ml_preds):\n",
        "    hybrid_preds = []\n",
        "    for i in range(len(rule_preds)):\n",
        "        # If the rule-based model predicts Negative (0), trust it.\n",
        "        # This is a simple \"override\" strategy.\n",
        "        if rule_preds[i] == 0:\n",
        "            hybrid_preds.append(0)\n",
        "        # Otherwise, use the ML model's prediction.\n",
        "        else:\n",
        "            hybrid_preds.append(ml_preds[i])\n",
        "    return hybrid_preds\n",
        "\n",
        "y_pred_hybrid = hybrid_classifier(y_pred_rule_based, y_pred_ml)\n",
        "\n",
        "print(\"Hybrid Model Predictions:\", y_pred_hybrid)"
      ],
      "metadata": {
        "colab": {
          "base_uri": "https://localhost:8080/"
        },
        "id": "C_uZwA18MoCQ",
        "outputId": "153865d6-bfc9-48b6-c27d-5e0c0ac89e5f"
      },
      "execution_count": 6,
      "outputs": [
        {
          "output_type": "stream",
          "name": "stdout",
          "text": [
            "Hybrid Model Predictions: [0, 0, 0]\n"
          ]
        }
      ]
    },
    {
      "cell_type": "markdown",
      "source": [
        "# **Comparative Evaluation and Visualization**"
      ],
      "metadata": {
        "id": "xx3-huxDNokT"
      }
    },
    {
      "cell_type": "code",
      "source": [
        "# --- Store results in a dictionary for easy plotting ---\n",
        "results = {\n",
        "    'Model': [],\n",
        "    'Accuracy': [],\n",
        "    'Precision': [],\n",
        "    'Recall': [],\n",
        "    'F1-Score': []\n",
        "}\n",
        "\n",
        "models = {\n",
        "    'Rule-Based': y_pred_rule_based,\n",
        "    'ML-Based': y_pred_ml,\n",
        "    'Hybrid Model': y_pred_hybrid\n",
        "}\n",
        "\n",
        "# --- Calculate and print metrics for each model ---\n",
        "for model_name, y_pred in models.items():\n",
        "    print(f\"--- {model_name} Performance ---\")\n",
        "    print(classification_report(y_test, y_pred, target_names=['Negative (0)', 'Positive (1)'], zero_division=0))\n",
        "\n",
        "    results['Model'].append(model_name)\n",
        "    results['Accuracy'].append(accuracy_score(y_test, y_pred))\n",
        "    # We will calculate precision, recall, f1 for the negative class (label=0) as it's the focus\n",
        "    results['Precision'].append(precision_score(y_test, y_pred, pos_label=0, zero_division=0))\n",
        "    results['Recall'].append(recall_score(y_test, y_pred, pos_label=0, zero_division=0))\n",
        "    results['F1-Score'].append(f1_score(y_test, y_pred, pos_label=0, zero_division=0))\n",
        "\n",
        "# --- Create a DataFrame for plotting ---\n",
        "results_df = pd.DataFrame(results)\n",
        "results_df_melted = results_df.melt(id_vars='Model', var_name='Metric', value_name='Score')\n",
        "\n",
        "# --- Plot the results ---\n",
        "plt.figure(figsize=(12, 7))\n",
        "sns.barplot(x='Metric', y='Score', hue='Model', data=results_df_melted)\n",
        "plt.title('Comparison of Model Performances (for Negative Class)', fontsize=16)\n",
        "plt.ylim(0, 1.05)\n",
        "plt.xlabel('Evaluation Metrics', fontsize=12)\n",
        "plt.ylabel('Scores', fontsize=12)\n",
        "plt.legend(title='Model')\n",
        "plt.grid(axis='y', linestyle='--', alpha=0.7)\n",
        "plt.show()\n",
        "\n",
        "print(\"\\nFinal Results Table:\")\n",
        "print(results_df.round(3))"
      ],
      "metadata": {
        "colab": {
          "base_uri": "https://localhost:8080/",
          "height": 1000
        },
        "id": "HuNMsYJwNw2e",
        "outputId": "185247c5-bc64-4ee7-d57b-2d28ef077132"
      },
      "execution_count": 7,
      "outputs": [
        {
          "output_type": "stream",
          "name": "stdout",
          "text": [
            "--- Rule-Based Performance ---\n",
            "              precision    recall  f1-score   support\n",
            "\n",
            "Negative (0)       1.00      1.00      1.00         1\n",
            "Positive (1)       1.00      1.00      1.00         2\n",
            "\n",
            "    accuracy                           1.00         3\n",
            "   macro avg       1.00      1.00      1.00         3\n",
            "weighted avg       1.00      1.00      1.00         3\n",
            "\n",
            "--- ML-Based Performance ---\n",
            "              precision    recall  f1-score   support\n",
            "\n",
            "Negative (0)       0.33      1.00      0.50         1\n",
            "Positive (1)       0.00      0.00      0.00         2\n",
            "\n",
            "    accuracy                           0.33         3\n",
            "   macro avg       0.17      0.50      0.25         3\n",
            "weighted avg       0.11      0.33      0.17         3\n",
            "\n",
            "--- Hybrid Model Performance ---\n",
            "              precision    recall  f1-score   support\n",
            "\n",
            "Negative (0)       0.33      1.00      0.50         1\n",
            "Positive (1)       0.00      0.00      0.00         2\n",
            "\n",
            "    accuracy                           0.33         3\n",
            "   macro avg       0.17      0.50      0.25         3\n",
            "weighted avg       0.11      0.33      0.17         3\n",
            "\n"
          ]
        },
        {
          "output_type": "display_data",
          "data": {
            "text/plain": [
              "<Figure size 1200x700 with 1 Axes>"
            ],
            "image/png": "[encoded data removed]"
          },
          "metadata": {}
        },
        {
          "output_type": "stream",
          "name": "stdout",
          "text": [
            "\n",
            "Final Results Table:\n",
            "          Model  Accuracy  Precision  Recall  F1-Score\n",
            "0    Rule-Based     1.000      1.000     1.0       1.0\n",
            "1      ML-Based     0.333      0.333     1.0       0.5\n",
            "2  Hybrid Model     0.333      0.333     1.0       0.5\n"
          ]
        }
      ]
    }
  ]
}
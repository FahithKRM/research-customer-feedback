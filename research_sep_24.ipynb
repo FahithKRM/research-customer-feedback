{
  "cells": [
    {
      "cell_type": "markdown",
      "id": "fo2VcL-hUjTx",
      "metadata": {
        "id": "fo2VcL-hUjTx"
      },
      "source": [
        "# Code 1"
      ]
    },
    {
      "cell_type": "code",
      "execution_count": 1,
      "id": "heut6rQLf1Cc",
      "metadata": {
        "colab": {
          "base_uri": "https://localhost:8080/"
        },
        "id": "heut6rQLf1Cc",
        "outputId": "be1a3d94-872c-428e-a94c-ed4c4b03161b"
      },
      "outputs": [
        {
          "output_type": "stream",
          "name": "stdout",
          "text": [
            "Collecting en-core-web-sm==3.8.0\n",
            "  Downloading https://github.com/explosion/spacy-models/releases/download/en_core_web_sm-3.8.0/en_core_web_sm-3.8.0-py3-none-any.whl (12.8 MB)\n",
            "\u001b[2K     \u001b[90m━━━━━━━━━━━━━━━━━━━━━━━━━━━━━━━━━━━━━━━━\u001b[0m \u001b[32m12.8/12.8 MB\u001b[0m \u001b[31m56.3 MB/s\u001b[0m eta \u001b[36m0:00:00\u001b[0m\n",
            "\u001b[?25h\u001b[38;5;2m✔ Download and installation successful\u001b[0m\n",
            "You can now load the package via spacy.load('en_core_web_sm')\n",
            "\u001b[38;5;3m⚠ Restart to reload dependencies\u001b[0m\n",
            "If you are in a Jupyter or Colab notebook, you may need to restart Python in\n",
            "order to load all the package's dependencies. You can do this by selecting the\n",
            "'Restart kernel' or 'Restart runtime' option.\n"
          ]
        },
        {
          "output_type": "stream",
          "name": "stderr",
          "text": [
            "[nltk_data] Downloading package vader_lexicon to /root/nltk_data...\n",
            "[nltk_data] Downloading package punkt to /root/nltk_data...\n",
            "[nltk_data]   Unzipping tokenizers/punkt.zip.\n",
            "[nltk_data] Downloading package stopwords to /root/nltk_data...\n",
            "[nltk_data]   Unzipping corpora/stopwords.zip.\n"
          ]
        },
        {
          "output_type": "stream",
          "name": "stdout",
          "text": [
            "Environment setup complete!\n"
          ]
        }
      ],
      "source": [
        "# Step 1: Set Up Environment and Install Dependencies\n",
        "!pip install -q pandas numpy scikit-learn nltk textblob spacy transformers sentence-transformers\n",
        "!python -m spacy download en_core_web_sm\n",
        "\n",
        "import nltk\n",
        "nltk.download('vader_lexicon')\n",
        "nltk.download('punkt')\n",
        "nltk.download('stopwords')\n",
        "\n",
        "import pandas as pd\n",
        "import numpy as np\n",
        "from sklearn.model_selection import train_test_split\n",
        "from sklearn.feature_extraction.text import TfidfVectorizer\n",
        "from sklearn.linear_model import LogisticRegression\n",
        "from sklearn.svm import SVC\n",
        "from sklearn.ensemble import RandomForestClassifier\n",
        "from sklearn.metrics import accuracy_score, precision_score, recall_score, f1_score, classification_report\n",
        "from nltk.sentiment.vader import SentimentIntensityAnalyzer\n",
        "from textblob import TextBlob\n",
        "import spacy\n",
        "from sklearn.preprocessing import LabelEncoder\n",
        "import matplotlib.pyplot as plt\n",
        "from scipy.sparse import hstack\n",
        "\n",
        "nlp = spacy.load('en_core_web_sm')\n",
        "sia = SentimentIntensityAnalyzer()\n",
        "\n",
        "print(\"Environment setup complete!\")"
      ]
    },
    {
      "cell_type": "code",
      "execution_count": 2,
      "id": "qSIq1WDTpm-Z",
      "metadata": {
        "colab": {
          "base_uri": "https://localhost:8080/"
        },
        "id": "qSIq1WDTpm-Z",
        "outputId": "c3d953d2-ebdf-4642-b6fa-22927ea321f2"
      },
      "outputs": [
        {
          "output_type": "stream",
          "name": "stdout",
          "text": [
            "Mounted at /content/drive\n",
            "Dataset loaded:\n",
            "   fold_id cv_tag  html_id  sent_id  \\\n",
            "0        0  cv000    29590        0   \n",
            "1        0  cv000    29590        1   \n",
            "2        0  cv000    29590        2   \n",
            "3        0  cv000    29590        3   \n",
            "4        0  cv000    29590        4   \n",
            "\n",
            "                                                text  tag  \n",
            "0  films adapted from comic books have had plenty...  pos  \n",
            "1  for starters , it was created by alan moore ( ...  pos  \n",
            "2  to say moore and campbell thoroughly researche...  pos  \n",
            "3  the book ( or \" graphic novel , \" if you will ...  pos  \n",
            "4  in other words , don't dismiss this film becau...  pos  \n",
            "Shape: (64720, 6)\n",
            "Sentiment distribution: tag\n",
            "pos    32937\n",
            "neg    31783\n",
            "Name: count, dtype: int64\n"
          ]
        }
      ],
      "source": [
        "# Step 2: Mount Google Drive and Load Dataset\n",
        "from google.colab import drive\n",
        "drive.mount('/content/drive')\n",
        "\n",
        "# Load dataset (adjust path if needed)\n",
        "data_path = '/content/drive/MyDrive/Dataset/movie_review.csv'  # Update to your path\n",
        "df = pd.read_csv(data_path)\n",
        "\n",
        "print(\"Dataset loaded:\")\n",
        "print(df.head())\n",
        "print(f\"Shape: {df.shape}\")\n",
        "print(\"Sentiment distribution:\", df['tag'].value_counts())"
      ]
    },
    {
      "cell_type": "code",
      "execution_count": 3,
      "id": "KVdvYCXGp9BI",
      "metadata": {
        "colab": {
          "base_uri": "https://localhost:8080/"
        },
        "id": "KVdvYCXGp9BI",
        "outputId": "60f456ba-9291-4449-dec9-0212f6b658fb"
      },
      "outputs": [
        {
          "output_type": "stream",
          "name": "stdout",
          "text": [
            "Encoded classes: ['neg' 'pos']\n",
            "Data prepared. Train shape: (51776,) Test shape: (12944,)\n",
            "Train set issue distribution:\n",
            " issue_encoded\n",
            "1    26364\n",
            "0    25412\n",
            "Name: count, dtype: int64\n",
            "Test set issue distribution:\n",
            " issue_encoded\n",
            "1    6573\n",
            "0    6371\n",
            "Name: count, dtype: int64\n"
          ]
        }
      ],
      "source": [
        "# Step 3: Select Relevant Columns and Preprocess\n",
        "# Keep only 'Issue' and 'Sub-issue'\n",
        "df = df[['text', 'tag']]\n",
        "\n",
        "# Fill NaN in 'Sub-issue' with empty string to avoid errors\n",
        "df['text'] = df['text'].fillna(\"\")\n",
        "df['tag'] = df['tag'].fillna(\"\")\n",
        "\n",
        "# Example: If you want to classify based on 'Issue' only\n",
        "# Use 'Issue' as label\n",
        "le = LabelEncoder()\n",
        "df['issue_encoded'] = le.fit_transform(df['tag'])\n",
        "print(\"Encoded classes:\", le.classes_)\n",
        "\n",
        "# Train-test split (80/20)\n",
        "X = df['text']\n",
        "y = df['issue_encoded']\n",
        "X_train, X_test, y_train, y_test = train_test_split(\n",
        "    X, y, test_size=0.2, random_state=42\n",
        ")\n",
        "\n",
        "print(\"Data prepared. Train shape:\", X_train.shape, \"Test shape:\", X_test.shape)\n",
        "print(\"Train set issue distribution:\\n\", pd.Series(y_train).value_counts())\n",
        "print(\"Test set issue distribution:\\n\", pd.Series(y_test).value_counts())"
      ]
    },
    {
      "cell_type": "code",
      "execution_count": 4,
      "id": "SuyVVlm40QcX",
      "metadata": {
        "colab": {
          "base_uri": "https://localhost:8080/"
        },
        "id": "SuyVVlm40QcX",
        "outputId": "accd0142-4200-4c62-dbc5-694084f3568a"
      },
      "outputs": [
        {
          "output_type": "stream",
          "name": "stdout",
          "text": [
            "Rule-Based Evaluation:\n",
            "              precision    recall  f1-score   support\n",
            "\n",
            "         neg       0.53      0.44      0.48      6371\n",
            "         pos       0.53      0.62      0.57      6573\n",
            "\n",
            "    accuracy                           0.53     12944\n",
            "   macro avg       0.53      0.53      0.53     12944\n",
            "weighted avg       0.53      0.53      0.53     12944\n",
            "\n"
          ]
        }
      ],
      "source": [
        "# Step 4: Rule-Based Model with Enhanced Negation Handling\n",
        "def rule_based_sentiment(text):\n",
        "    # VADER sentiment\n",
        "    vader_score = sia.polarity_scores(text)['compound']\n",
        "\n",
        "    # Enhance with spaCy negation detection\n",
        "    doc = nlp(text)\n",
        "    negation = any(token.dep_ == 'neg' for token in doc)\n",
        "\n",
        "    # Adjust thresholds and handle negations\n",
        "    if negation and vader_score > 0:\n",
        "        return 0  # Flip to Negative if negation detected\n",
        "    elif vader_score > 0.1:  # Tighter threshold for Positive\n",
        "        return 1  # Positive (changed from 2)\n",
        "    elif vader_score < -0.1:  # Tighter threshold for Negative\n",
        "        return 0  # Negative\n",
        "    else:\n",
        "        # Since there's no 'Neutral' in this dataset, we'll assign close scores\n",
        "        # to the closest sentiment or re-evaluate. For now, assign to the dominant class if no strong sentiment.\n",
        "        # This part might need adjustment based on how 'neutral' should be handled in a binary classification context.\n",
        "        # Given the dataset only has 'Negative' and 'Positive', we'll force a binary output.\n",
        "        return 1 if vader_score >= 0 else 0\n",
        "\n",
        "\n",
        "# Apply to test set\n",
        "y_pred_rule = [rule_based_sentiment(text) for text in X_test]\n",
        "\n",
        "# Evaluate Rule-Based\n",
        "print(\"Rule-Based Evaluation:\")\n",
        "# Ensure target_names matches the actual classes present\n",
        "print(classification_report(y_test, y_pred_rule, target_names=le.classes_, zero_division=0))\n",
        "acc_rule = accuracy_score(y_test, y_pred_rule)"
      ]
    },
    {
      "cell_type": "code",
      "execution_count": null,
      "id": "-KyR31py2pkC",
      "metadata": {
        "colab": {
          "base_uri": "https://localhost:8080/"
        },
        "id": "-KyR31py2pkC",
        "outputId": "5f8c81e3-2a77-4c60-fc8c-7ac4b8369fa3"
      },
      "outputs": [
        {
          "name": "stdout",
          "output_type": "stream",
          "text": [
            "Logistic Regression Evaluation:\n",
            "              precision    recall  f1-score   support\n",
            "\n",
            "         neg       0.63      0.63      0.63      6371\n",
            "         pos       0.64      0.64      0.64      6573\n",
            "\n",
            "    accuracy                           0.64     12944\n",
            "   macro avg       0.64      0.64      0.64     12944\n",
            "weighted avg       0.64      0.64      0.64     12944\n",
            "\n",
            "SVM Evaluation:\n",
            "              precision    recall  f1-score   support\n",
            "\n",
            "         neg       0.63      0.64      0.63      6371\n",
            "         pos       0.64      0.63      0.64      6573\n",
            "\n",
            "    accuracy                           0.63     12944\n",
            "   macro avg       0.63      0.63      0.63     12944\n",
            "weighted avg       0.63      0.63      0.63     12944\n",
            "\n",
            "Random Forest Evaluation:\n",
            "              precision    recall  f1-score   support\n",
            "\n",
            "         neg       0.68      0.20      0.31      6371\n",
            "         pos       0.54      0.91      0.68      6573\n",
            "\n",
            "    accuracy                           0.56     12944\n",
            "   macro avg       0.61      0.56      0.49     12944\n",
            "weighted avg       0.61      0.56      0.50     12944\n",
            "\n"
          ]
        }
      ],
      "source": [
        "# Step 5 & 6: ML Models with N-gram Features (TF-IDF with 1-3 grams), Evaluation\n",
        "# Vectorizer for n-grams (reduced features to prevent overfitting)\n",
        "vectorizer = TfidfVectorizer(ngram_range=(1, 3), stop_words='english', max_features=2000)\n",
        "X_train_tfidf = vectorizer.fit_transform(X_train)\n",
        "X_test_tfidf = vectorizer.transform(X_test)\n",
        "\n",
        "# Model 1: Logistic Regression (with regularization)\n",
        "lr_model = LogisticRegression(max_iter=1000, C=0.5)\n",
        "lr_model.fit(X_train_tfidf, y_train)\n",
        "y_pred_lr = lr_model.predict(X_test_tfidf)\n",
        "acc_lr = accuracy_score(y_test, y_pred_lr)\n",
        "print(\"Logistic Regression Evaluation:\")\n",
        "print(classification_report(y_test, y_pred_lr, target_names=le.classes_, zero_division=0))\n",
        "\n",
        "# Model 2: SVM\n",
        "svm_model = SVC(kernel='linear', C=0.5)\n",
        "svm_model.fit(X_train_tfidf, y_train)\n",
        "y_pred_svm = svm_model.predict(X_test_tfidf)\n",
        "acc_svm = accuracy_score(y_test, y_pred_svm)\n",
        "print(\"SVM Evaluation:\")\n",
        "print(classification_report(y_test, y_pred_svm, target_names=le.classes_, zero_division=0))\n",
        "\n",
        "# Model 3: Random Forest\n",
        "rf_model = RandomForestClassifier(n_estimators=100, random_state=42, max_depth=10)\n",
        "rf_model.fit(X_train_tfidf, y_train)\n",
        "y_pred_rf = rf_model.predict(X_test_tfidf)\n",
        "acc_rf = accuracy_score(y_test, y_pred_rf)\n",
        "print(\"Random Forest Evaluation:\")\n",
        "print(classification_report(y_test, y_pred_rf, target_names=le.classes_, zero_division=0))"
      ]
    },
    {
      "cell_type": "markdown",
      "source": [
        "# Separate Testing"
      ],
      "metadata": {
        "id": "ruRrbK7RxPDc"
      },
      "id": "ruRrbK7RxPDc"
    },
    {
      "cell_type": "code",
      "execution_count": null,
      "id": "30062901",
      "metadata": {
        "id": "30062901"
      },
      "outputs": [],
      "source": [
        "from sklearn.model_selection import GridSearchCV\n",
        "\n",
        "# Step 5 & 6: ML Models with N-gram Features (TF-IDF with 1-2 grams), Evaluation\n",
        "# Improved Vectorizer: wider n-grams, higher features, min_df to reduce noise\n",
        "vectorizer = TfidfVectorizer(ngram_range=(1, 2), stop_words='english', max_features=5000, min_df=2)\n",
        "X_train_tfidf = vectorizer.fit_transform(X_train)\n",
        "X_test_tfidf = vectorizer.transform(X_test)\n",
        "\n",
        "# Model 1: Logistic Regression with hyperparameter tuning\n",
        "lr_param_grid = {'C': [0.1, 0.5, 1.0, 5.0]}  # Tune regularization strength\n",
        "lr_model = LogisticRegression(max_iter=1000)\n",
        "lr_grid = GridSearchCV(lr_model, lr_param_grid, cv=3, scoring='accuracy')\n",
        "lr_grid.fit(X_train_tfidf, y_train)\n",
        "y_pred_lr = lr_grid.best_estimator_.predict(X_test_tfidf)\n",
        "acc_lr = accuracy_score(y_test, y_pred_lr)\n",
        "print(\"Logistic Regression Best Params:\", lr_grid.best_params_)\n",
        "print(\"Logistic Regression Evaluation:\")\n",
        "print(classification_report(y_test, y_pred_lr, target_names=le.classes_, zero_division=0))\n",
        "\n",
        "# Model 2: SVM with hyperparameter tuning\n",
        "svm_param_grid = {'C': [0.1, 0.5, 1.0, 5.0]}  # Tune penalty\n",
        "svm_model = SVC(kernel='linear')\n",
        "svm_grid = GridSearchCV(svm_model, svm_param_grid, cv=3, scoring='accuracy')\n",
        "svm_grid.fit(X_train_tfidf, y_train)\n",
        "y_pred_svm = svm_grid.best_estimator_.predict(X_test_tfidf)\n",
        "acc_svm = accuracy_score(y_test, y_pred_svm)\n",
        "print(\"SVM Best Params:\", svm_grid.best_params_)\n",
        "print(\"SVM Evaluation:\")\n",
        "print(classification_report(y_test, y_pred_svm, target_names=le.classes_, zero_division=0))\n",
        "\n",
        "# Model 3: Random Forest with improved params and tuning\n",
        "rf_param_grid = {'n_estimators': [100, 200], 'max_depth': [10, 20, None]}  # Tune depth and trees\n",
        "rf_model = RandomForestClassifier(random_state=42)\n",
        "rf_grid = GridSearchCV(rf_model, rf_param_grid, cv=3, scoring='accuracy')\n",
        "rf_grid.fit(X_train_tfidf, y_train)\n",
        "y_pred_rf = rf_grid.best_estimator_.predict(X_test_tfidf)\n",
        "acc_rf = accuracy_score(y_test, y_pred_rf)\n",
        "print(\"Random Forest Best Params:\", rf_grid.best_params_)\n",
        "print(\"Random Forest Evaluation:\")\n",
        "print(classification_report(y_test, y_pred_rf, target_names=le.classes_, zero_division=0))\n",
        "\n",
        "# New Model 4: Multinomial Naive Bayes (great for TF-IDF text classification)\n",
        "from sklearn.naive_bayes import MultinomialNB\n",
        "nb_model = MultinomialNB(alpha=0.5)  # Smoothing parameter; can tune if needed\n",
        "nb_model.fit(X_train_tfidf, y_train)\n",
        "y_pred_nb = nb_model.predict(X_test_tfidf)\n",
        "acc_nb = accuracy_score(y_test, y_pred_nb)\n",
        "print(\"Multinomial Naive Bayes Evaluation:\")\n",
        "print(classification_report(y_test, y_pred_nb, target_names=le.classes_, zero_division=0))\n",
        "\n",
        "# Optional: Inspect top features from RF (for debugging/improvement)\n",
        "importances = rf_grid.best_estimator_.feature_importances_\n",
        "feature_names = vectorizer.get_feature_names_out()\n",
        "top_features = sorted(zip(importances, feature_names), reverse=True)[:10]\n",
        "print(\"Top 10 Features by Importance:\", top_features)"
      ]
    },
    {
      "cell_type": "code",
      "source": [
        "from sklearn.model_selection import GridSearchCV\n",
        "\n",
        "# Step 5 & 6: ML Models with N-gram Features (TF-IDF with 1-2 grams), Evaluation\n",
        "# Improved Vectorizer: wider n-grams, higher features, min_df to reduce noise\n",
        "vectorizer = TfidfVectorizer(ngram_range=(1, 2), stop_words='english', max_features=5000, min_df=2)\n",
        "X_train_tfidf = vectorizer.fit_transform(X_train)\n",
        "X_test_tfidf = vectorizer.transform(X_test)"
      ],
      "metadata": {
        "id": "zKDF7s2Ozm7N"
      },
      "id": "zKDF7s2Ozm7N",
      "execution_count": 5,
      "outputs": []
    },
    {
      "cell_type": "code",
      "source": [
        "# Model 1: Logistic Regression with hyperparameter tuning c = 0.1\n",
        "lr_param_grid = {'C': [0.1]}  # Tune regularization strength\n",
        "lr_model = LogisticRegression(max_iter=1000)\n",
        "lr_grid = GridSearchCV(lr_model, lr_param_grid, cv=3, scoring='accuracy')\n",
        "lr_grid.fit(X_train_tfidf, y_train)\n",
        "y_pred_lr = lr_grid.best_estimator_.predict(X_test_tfidf)\n",
        "acc_lr = accuracy_score(y_test, y_pred_lr)\n",
        "print(\"Logistic Regression Best Params:\", lr_grid.best_params_)\n",
        "print(\"Logistic Regression Evaluation:\")\n",
        "print(classification_report(y_test, y_pred_lr, target_names=le.classes_, zero_division=0))"
      ],
      "metadata": {
        "colab": {
          "base_uri": "https://localhost:8080/"
        },
        "id": "HQaUF6M4xdyx",
        "outputId": "373d49bf-b2ee-4c05-e64c-e5870cfc22de"
      },
      "id": "HQaUF6M4xdyx",
      "execution_count": 6,
      "outputs": [
        {
          "output_type": "stream",
          "name": "stdout",
          "text": [
            "Logistic Regression Best Params: {'C': 0.1}\n",
            "Logistic Regression Evaluation:\n",
            "              precision    recall  f1-score   support\n",
            "\n",
            "         neg       0.65      0.62      0.63      6371\n",
            "         pos       0.65      0.68      0.67      6573\n",
            "\n",
            "    accuracy                           0.65     12944\n",
            "   macro avg       0.65      0.65      0.65     12944\n",
            "weighted avg       0.65      0.65      0.65     12944\n",
            "\n"
          ]
        }
      ]
    },
    {
      "cell_type": "code",
      "source": [
        "# Model 1: Logistic Regression with hyperparameter tuning c = 0.5\n",
        "lr_param_grid = {'C': [0.5]}  # Tune regularization strength\n",
        "lr_model = LogisticRegression(max_iter=1000)\n",
        "lr_grid = GridSearchCV(lr_model, lr_param_grid, cv=3, scoring='accuracy')\n",
        "lr_grid.fit(X_train_tfidf, y_train)\n",
        "y_pred_lr = lr_grid.best_estimator_.predict(X_test_tfidf)\n",
        "acc_lr = accuracy_score(y_test, y_pred_lr)\n",
        "print(\"Logistic Regression Best Params:\", lr_grid.best_params_)\n",
        "print(\"Logistic Regression Evaluation:\")\n",
        "print(classification_report(y_test, y_pred_lr, target_names=le.classes_, zero_division=0))"
      ],
      "metadata": {
        "colab": {
          "base_uri": "https://localhost:8080/"
        },
        "id": "UNBdwOoOxsAg",
        "outputId": "45afa086-712f-4e6e-e6eb-bc33baf9f248"
      },
      "id": "UNBdwOoOxsAg",
      "execution_count": 7,
      "outputs": [
        {
          "output_type": "stream",
          "name": "stdout",
          "text": [
            "Logistic Regression Best Params: {'C': 0.5}\n",
            "Logistic Regression Evaluation:\n",
            "              precision    recall  f1-score   support\n",
            "\n",
            "         neg       0.66      0.65      0.65      6371\n",
            "         pos       0.66      0.67      0.67      6573\n",
            "\n",
            "    accuracy                           0.66     12944\n",
            "   macro avg       0.66      0.66      0.66     12944\n",
            "weighted avg       0.66      0.66      0.66     12944\n",
            "\n"
          ]
        }
      ]
    },
    {
      "cell_type": "code",
      "source": [
        "# Model 1: Logistic Regression with hyperparameter tuning c = 1.0\n",
        "lr_param_grid = {'C': [1.0]}  # Tune regularization strength\n",
        "lr_model = LogisticRegression(max_iter=1000)\n",
        "lr_grid = GridSearchCV(lr_model, lr_param_grid, cv=3, scoring='accuracy')\n",
        "lr_grid.fit(X_train_tfidf, y_train)\n",
        "y_pred_lr = lr_grid.best_estimator_.predict(X_test_tfidf)\n",
        "acc_lr = accuracy_score(y_test, y_pred_lr)\n",
        "print(\"Logistic Regression Best Params:\", lr_grid.best_params_)\n",
        "print(\"Logistic Regression Evaluation:\")\n",
        "print(classification_report(y_test, y_pred_lr, target_names=le.classes_, zero_division=0))"
      ],
      "metadata": {
        "colab": {
          "base_uri": "https://localhost:8080/"
        },
        "id": "H4n5c0X2xu5s",
        "outputId": "b51dd02f-41c0-43db-ee13-4e41e7dc0a84"
      },
      "id": "H4n5c0X2xu5s",
      "execution_count": 8,
      "outputs": [
        {
          "output_type": "stream",
          "name": "stdout",
          "text": [
            "Logistic Regression Best Params: {'C': 1.0}\n",
            "Logistic Regression Evaluation:\n",
            "              precision    recall  f1-score   support\n",
            "\n",
            "         neg       0.65      0.65      0.65      6371\n",
            "         pos       0.67      0.67      0.67      6573\n",
            "\n",
            "    accuracy                           0.66     12944\n",
            "   macro avg       0.66      0.66      0.66     12944\n",
            "weighted avg       0.66      0.66      0.66     12944\n",
            "\n"
          ]
        }
      ]
    },
    {
      "cell_type": "code",
      "source": [
        "# Model 1: Logistic Regression with hyperparameter tuning c = 5.0\n",
        "lr_param_grid = {'C': [5.0]}  # Tune regularization strength\n",
        "lr_model = LogisticRegression(max_iter=1000)\n",
        "lr_grid = GridSearchCV(lr_model, lr_param_grid, cv=3, scoring='accuracy')\n",
        "lr_grid.fit(X_train_tfidf, y_train)\n",
        "y_pred_lr = lr_grid.best_estimator_.predict(X_test_tfidf)\n",
        "acc_lr = accuracy_score(y_test, y_pred_lr)\n",
        "print(\"Logistic Regression Best Params:\", lr_grid.best_params_)\n",
        "print(\"Logistic Regression Evaluation:\")\n",
        "print(classification_report(y_test, y_pred_lr, target_names=le.classes_, zero_division=0))"
      ],
      "metadata": {
        "colab": {
          "base_uri": "https://localhost:8080/"
        },
        "id": "sZRgCNHwxxKS",
        "outputId": "4993238e-3a72-4461-d414-da5b59cc90ed"
      },
      "id": "sZRgCNHwxxKS",
      "execution_count": 9,
      "outputs": [
        {
          "output_type": "stream",
          "name": "stdout",
          "text": [
            "Logistic Regression Best Params: {'C': 5.0}\n",
            "Logistic Regression Evaluation:\n",
            "              precision    recall  f1-score   support\n",
            "\n",
            "         neg       0.65      0.66      0.65      6371\n",
            "         pos       0.66      0.66      0.66      6573\n",
            "\n",
            "    accuracy                           0.66     12944\n",
            "   macro avg       0.66      0.66      0.66     12944\n",
            "weighted avg       0.66      0.66      0.66     12944\n",
            "\n"
          ]
        }
      ]
    },
    {
      "cell_type": "code",
      "source": [
        "# Model 1: Logistic Regression with hyperparameter tuning c = 10.0\n",
        "lr_param_grid = {'C': [10.0]}  # Tune regularization strength\n",
        "lr_model = LogisticRegression(max_iter=1000)\n",
        "lr_grid = GridSearchCV(lr_model, lr_param_grid, cv=3, scoring='accuracy')\n",
        "lr_grid.fit(X_train_tfidf, y_train)\n",
        "y_pred_lr = lr_grid.best_estimator_.predict(X_test_tfidf)\n",
        "acc_lr = accuracy_score(y_test, y_pred_lr)\n",
        "print(\"Logistic Regression Best Params:\", lr_grid.best_params_)\n",
        "print(\"Logistic Regression Evaluation:\")\n",
        "print(classification_report(y_test, y_pred_lr, target_names=le.classes_, zero_division=0))"
      ],
      "metadata": {
        "colab": {
          "base_uri": "https://localhost:8080/"
        },
        "id": "WggEcK2lzxeU",
        "outputId": "814eee86-46f1-4a8f-851f-9a3c894bb44e"
      },
      "id": "WggEcK2lzxeU",
      "execution_count": 10,
      "outputs": [
        {
          "output_type": "stream",
          "name": "stdout",
          "text": [
            "Logistic Regression Best Params: {'C': 10.0}\n",
            "Logistic Regression Evaluation:\n",
            "              precision    recall  f1-score   support\n",
            "\n",
            "         neg       0.65      0.66      0.65      6371\n",
            "         pos       0.67      0.66      0.66      6573\n",
            "\n",
            "    accuracy                           0.66     12944\n",
            "   macro avg       0.66      0.66      0.66     12944\n",
            "weighted avg       0.66      0.66      0.66     12944\n",
            "\n"
          ]
        }
      ]
    },
    {
      "cell_type": "code",
      "source": [
        "# Model 2: SVM with hyperparameter tuning c = 0.1\n",
        "svm_param_grid = {'C': [0.1]}  # Tune penalty\n",
        "svm_model = SVC(kernel='linear')\n",
        "svm_grid = GridSearchCV(svm_model, svm_param_grid, cv=3, scoring='accuracy')\n",
        "svm_grid.fit(X_train_tfidf, y_train)\n",
        "y_pred_svm = svm_grid.best_estimator_.predict(X_test_tfidf)\n",
        "acc_svm = accuracy_score(y_test, y_pred_svm)\n",
        "print(\"SVM Best Params:\", svm_grid.best_params_)\n",
        "print(\"SVM Evaluation:\")\n",
        "print(classification_report(y_test, y_pred_svm, target_names=le.classes_, zero_division=0))"
      ],
      "metadata": {
        "colab": {
          "base_uri": "https://localhost:8080/"
        },
        "id": "IesAS8RHz60P",
        "outputId": "d3e3ddeb-89e7-434f-94ac-cee87649286f"
      },
      "id": "IesAS8RHz60P",
      "execution_count": 11,
      "outputs": [
        {
          "output_type": "stream",
          "name": "stdout",
          "text": [
            "SVM Best Params: {'C': 0.1}\n",
            "SVM Evaluation:\n",
            "              precision    recall  f1-score   support\n",
            "\n",
            "         neg       0.66      0.61      0.63      6371\n",
            "         pos       0.65      0.69      0.67      6573\n",
            "\n",
            "    accuracy                           0.65     12944\n",
            "   macro avg       0.65      0.65      0.65     12944\n",
            "weighted avg       0.65      0.65      0.65     12944\n",
            "\n"
          ]
        }
      ]
    },
    {
      "cell_type": "code",
      "source": [
        "# Model 2: SVM with hyperparameter tuning c = 0.5\n",
        "svm_param_grid = {'C': [0.5]}  # Tune penalty\n",
        "svm_model = SVC(kernel='linear')\n",
        "svm_grid = GridSearchCV(svm_model, svm_param_grid, cv=3, scoring='accuracy')\n",
        "svm_grid.fit(X_train_tfidf, y_train)\n",
        "y_pred_svm = svm_grid.best_estimator_.predict(X_test_tfidf)\n",
        "acc_svm = accuracy_score(y_test, y_pred_svm)\n",
        "print(\"SVM Best Params:\", svm_grid.best_params_)\n",
        "print(\"SVM Evaluation:\")\n",
        "print(classification_report(y_test, y_pred_svm, target_names=le.classes_, zero_division=0))"
      ],
      "metadata": {
        "colab": {
          "base_uri": "https://localhost:8080/"
        },
        "id": "moDVn6pR0AwW",
        "outputId": "4360d19a-0d89-4241-f443-04ada828338c"
      },
      "id": "moDVn6pR0AwW",
      "execution_count": 13,
      "outputs": [
        {
          "output_type": "stream",
          "name": "stdout",
          "text": [
            "SVM Best Params: {'C': 0.5}\n",
            "SVM Evaluation:\n",
            "              precision    recall  f1-score   support\n",
            "\n",
            "         neg       0.65      0.66      0.66      6371\n",
            "         pos       0.67      0.66      0.66      6573\n",
            "\n",
            "    accuracy                           0.66     12944\n",
            "   macro avg       0.66      0.66      0.66     12944\n",
            "weighted avg       0.66      0.66      0.66     12944\n",
            "\n"
          ]
        }
      ]
    },
    {
      "cell_type": "code",
      "source": [
        "# Model 2: SVM with hyperparameter tuning c = 1.0\n",
        "svm_param_grid = {'C': [1.0]}  # Tune penalty\n",
        "svm_model = SVC(kernel='linear')\n",
        "svm_grid = GridSearchCV(svm_model, svm_param_grid, cv=3, scoring='accuracy')\n",
        "svm_grid.fit(X_train_tfidf, y_train)\n",
        "y_pred_svm = svm_grid.best_estimator_.predict(X_test_tfidf)\n",
        "acc_svm = accuracy_score(y_test, y_pred_svm)\n",
        "print(\"SVM Best Params:\", svm_grid.best_params_)\n",
        "print(\"SVM Evaluation:\")\n",
        "print(classification_report(y_test, y_pred_svm, target_names=le.classes_, zero_division=0))"
      ],
      "metadata": {
        "colab": {
          "base_uri": "https://localhost:8080/"
        },
        "id": "P876tt1y0CyM",
        "outputId": "87a41ab7-5156-4322-ae2e-9459032dc105"
      },
      "id": "P876tt1y0CyM",
      "execution_count": 14,
      "outputs": [
        {
          "output_type": "stream",
          "name": "stdout",
          "text": [
            "SVM Best Params: {'C': 1.0}\n",
            "SVM Evaluation:\n",
            "              precision    recall  f1-score   support\n",
            "\n",
            "         neg       0.65      0.66      0.66      6371\n",
            "         pos       0.67      0.65      0.66      6573\n",
            "\n",
            "    accuracy                           0.66     12944\n",
            "   macro avg       0.66      0.66      0.66     12944\n",
            "weighted avg       0.66      0.66      0.66     12944\n",
            "\n"
          ]
        }
      ]
    },
    {
      "cell_type": "code",
      "source": [
        "# Model 2: SVM with hyperparameter tuning c = 5.0\n",
        "svm_param_grid = {'C': [5.0]}  # Tune penalty\n",
        "svm_model = SVC(kernel='linear')\n",
        "svm_grid = GridSearchCV(svm_model, svm_param_grid, cv=3, scoring='accuracy')\n",
        "svm_grid.fit(X_train_tfidf, y_train)\n",
        "y_pred_svm = svm_grid.best_estimator_.predict(X_test_tfidf)\n",
        "acc_svm = accuracy_score(y_test, y_pred_svm)\n",
        "print(\"SVM Best Params:\", svm_grid.best_params_)\n",
        "print(\"SVM Evaluation:\")\n",
        "print(classification_report(y_test, y_pred_svm, target_names=le.classes_, zero_division=0))"
      ],
      "metadata": {
        "id": "qwI5X69a0H04"
      },
      "id": "qwI5X69a0H04",
      "execution_count": null,
      "outputs": []
    },
    {
      "cell_type": "code",
      "source": [
        "# Model 2: SVM with hyperparameter tuning c = 10.0\n",
        "svm_param_grid = {'C': [10.0]}  # Tune penalty\n",
        "svm_model = SVC(kernel='linear')\n",
        "svm_grid = GridSearchCV(svm_model, svm_param_grid, cv=3, scoring='accuracy')\n",
        "svm_grid.fit(X_train_tfidf, y_train)\n",
        "y_pred_svm = svm_grid.best_estimator_.predict(X_test_tfidf)\n",
        "acc_svm = accuracy_score(y_test, y_pred_svm)\n",
        "print(\"SVM Best Params:\", svm_grid.best_params_)\n",
        "print(\"SVM Evaluation:\")\n",
        "print(classification_report(y_test, y_pred_svm, target_names=le.classes_, zero_division=0))"
      ],
      "metadata": {
        "id": "v2NZDYPX0KzX"
      },
      "id": "v2NZDYPX0KzX",
      "execution_count": null,
      "outputs": []
    },
    {
      "cell_type": "code",
      "source": [
        "# Model 3: Random Forest with improved params and tuning\n",
        "rf_param_grid = {'n_estimators': [100, 200], 'max_depth': [10, 20, None]}  # Tune depth and trees\n",
        "rf_model = RandomForestClassifier(random_state=42)\n",
        "rf_grid = GridSearchCV(rf_model, rf_param_grid, cv=3, scoring='accuracy')\n",
        "rf_grid.fit(X_train_tfidf, y_train)\n",
        "y_pred_rf = rf_grid.best_estimator_.predict(X_test_tfidf)\n",
        "acc_rf = accuracy_score(y_test, y_pred_rf)\n",
        "print(\"Random Forest Best Params:\", rf_grid.best_params_)\n",
        "print(\"Random Forest Evaluation:\")\n",
        "print(classification_report(y_test, y_pred_rf, target_names=le.classes_, zero_division=0))"
      ],
      "metadata": {
        "colab": {
          "base_uri": "https://localhost:8080/"
        },
        "id": "FxGxAJTO0adf",
        "outputId": "3f887381-646e-4ef5-d16b-8e09250e981d"
      },
      "id": "FxGxAJTO0adf",
      "execution_count": 12,
      "outputs": [
        {
          "output_type": "stream",
          "name": "stdout",
          "text": [
            "Random Forest Best Params: {'max_depth': None, 'n_estimators': 200}\n",
            "Random Forest Evaluation:\n",
            "              precision    recall  f1-score   support\n",
            "\n",
            "         neg       0.63      0.63      0.63      6371\n",
            "         pos       0.64      0.65      0.65      6573\n",
            "\n",
            "    accuracy                           0.64     12944\n",
            "   macro avg       0.64      0.64      0.64     12944\n",
            "weighted avg       0.64      0.64      0.64     12944\n",
            "\n"
          ]
        }
      ]
    },
    {
      "cell_type": "code",
      "execution_count": null,
      "id": "rJFS9sa84HxK",
      "metadata": {
        "colab": {
          "base_uri": "https://localhost:8080/"
        },
        "id": "rJFS9sa84HxK",
        "outputId": "976c2fb5-c233-4ac4-f741-0d39604c4d7e"
      },
      "outputs": [
        {
          "name": "stdout",
          "output_type": "stream",
          "text": [
            "Hybrid Model Evaluation:\n",
            "              precision    recall  f1-score   support\n",
            "\n",
            "         neg       0.63      0.62      0.63      6371\n",
            "         pos       0.64      0.64      0.64      6573\n",
            "\n",
            "    accuracy                           0.63     12944\n",
            "   macro avg       0.63      0.63      0.63     12944\n",
            "weighted avg       0.63      0.63      0.63     12944\n",
            "\n"
          ]
        }
      ],
      "source": [
        "# Step 7: Hybrid Approach (Combine Rule-Based Scores with ML Features)\n",
        "rule_scores_train = np.array([sia.polarity_scores(text)['compound'] for text in X_train]).reshape(-1, 1)\n",
        "rule_scores_test = np.array([sia.polarity_scores(text)['compound'] for text in X_test]).reshape(-1, 1)\n",
        "\n",
        "# Combine TF-IDF with rule-based scores\n",
        "X_train_hybrid = hstack((X_train_tfidf, rule_scores_train))\n",
        "X_test_hybrid = hstack((X_test_tfidf, rule_scores_test))\n",
        "\n",
        "# Train Hybrid on Logistic Regression\n",
        "hybrid_model = LogisticRegression(max_iter=1000, C=0.5)\n",
        "hybrid_model.fit(X_train_hybrid, y_train)\n",
        "y_pred_hybrid = hybrid_model.predict(X_test_hybrid)\n",
        "acc_hybrid = accuracy_score(y_test, y_pred_hybrid)\n",
        "print(\"Hybrid Model Evaluation:\")\n",
        "print(classification_report(y_test, y_pred_hybrid, target_names=le.classes_, zero_division=0))"
      ]
    },
    {
      "cell_type": "code",
      "execution_count": null,
      "id": "Bh7tMiVK4P97",
      "metadata": {
        "colab": {
          "base_uri": "https://localhost:8080/",
          "height": 897
        },
        "id": "Bh7tMiVK4P97",
        "outputId": "2a5b869b-36f0-4dfa-ec48-8b5de5af8b77"
      },
      "outputs": [
        {
          "name": "stdout",
          "output_type": "stream",
          "text": [
            "Model Comparison:\n",
            "                 Model  Accuracy  Precision (macro)  Recall (macro)  \\\n",
            "0           Rule-Based  0.531211           0.530824        0.529773   \n",
            "1  Logistic Regression  0.635893           0.635790        0.635767   \n",
            "2                  SVM  0.634734           0.634743        0.634776   \n",
            "3        Random Forest  0.560878           0.611025        0.555366   \n",
            "4               Hybrid  0.632726           0.632624        0.632605   \n",
            "\n",
            "   F1-Score (macro)  \n",
            "0          0.526435  \n",
            "1          0.635775  \n",
            "2          0.634715  \n",
            "3          0.494711  \n",
            "4          0.632612  \n"
          ]
        },
        {
          "data": {
            "image/png": "[encoded data removed]",
            "text/plain": [
              "<Figure size 1000x600 with 1 Axes>"
            ]
          },
          "metadata": {},
          "output_type": "display_data"
        }
      ],
      "source": [
        "# Step 8: Compare All Models\n",
        "results = {\n",
        "    'Model': ['Rule-Based', 'Logistic Regression', 'SVM', 'Random Forest', 'Hybrid'],\n",
        "    'Accuracy': [acc_rule, acc_lr, acc_svm, acc_rf, acc_hybrid],\n",
        "    'Precision (macro)': [precision_score(y_test, y_pred_rule, average='macro', zero_division=0),\n",
        "                         precision_score(y_test, y_pred_lr, average='macro', zero_division=0),\n",
        "                         precision_score(y_test, y_pred_svm, average='macro', zero_division=0),\n",
        "                         precision_score(y_test, y_pred_rf, average='macro', zero_division=0),\n",
        "                         precision_score(y_test, y_pred_hybrid, average='macro', zero_division=0)],\n",
        "    'Recall (macro)': [recall_score(y_test, y_pred_rule, average='macro', zero_division=0),\n",
        "                       recall_score(y_test, y_pred_lr, average='macro', zero_division=0),\n",
        "                       recall_score(y_test, y_pred_svm, average='macro', zero_division=0),\n",
        "                       recall_score(y_test, y_pred_rf, average='macro', zero_division=0),\n",
        "                       recall_score(y_test, y_pred_hybrid, average='macro', zero_division=0)],\n",
        "    'F1-Score (macro)': [f1_score(y_test, y_pred_rule, average='macro', zero_division=0),\n",
        "                         f1_score(y_test, y_pred_lr, average='macro', zero_division=0),\n",
        "                         f1_score(y_test, y_pred_svm, average='macro', zero_division=0),\n",
        "                         f1_score(y_test, y_pred_rf, average='macro', zero_division=0),\n",
        "                         f1_score(y_test, y_pred_hybrid, average='macro', zero_division=0)]\n",
        "}\n",
        "\n",
        "results_df = pd.DataFrame(results)\n",
        "print(\"Model Comparison:\")\n",
        "print(results_df)\n",
        "\n",
        "# Visualize\n",
        "plt.figure(figsize=(10, 6))\n",
        "plt.bar(results_df['Model'], results_df['Accuracy'])\n",
        "plt.xlabel('Models')\n",
        "plt.ylabel('Accuracy')\n",
        "plt.title('Model Performance Comparison')\n",
        "plt.xticks(rotation=45)\n",
        "plt.show()"
      ]
    },
    {
      "cell_type": "code",
      "execution_count": null,
      "id": "TnZJOQm74WMz",
      "metadata": {
        "colab": {
          "base_uri": "https://localhost:8080/"
        },
        "id": "TnZJOQm74WMz",
        "outputId": "99ea1382-f5a8-42f7-9554-b4b7b4b562f4"
      },
      "outputs": [
        {
          "name": "stdout",
          "output_type": "stream",
          "text": [
            "\n",
            "Review: The battery life is amazing, lasts all day!\n",
            "{'Rule-Based': 'pos', 'Logistic Regression': 'pos', 'SVM': 'pos', 'Random Forest': 'pos', 'Hybrid': 'pos'}\n",
            "\n",
            "Review: This product is terrible, broke after a week.\n",
            "{'Rule-Based': 'neg', 'Logistic Regression': 'neg', 'SVM': 'neg', 'Random Forest': 'neg', 'Hybrid': 'neg'}\n",
            "\n",
            "Review: It's okay, nothing special but works fine.\n",
            "{'Rule-Based': 'pos', 'Logistic Regression': 'pos', 'SVM': 'pos', 'Random Forest': 'pos', 'Hybrid': 'pos'}\n",
            "\n",
            "Review: False statements or representation\n",
            "{'Rule-Based': 'pos', 'Logistic Regression': 'neg', 'SVM': 'neg', 'Random Forest': 'pos', 'Hybrid': 'neg'}\n"
          ]
        }
      ],
      "source": [
        "# Step 9: Input Different Reviews and Compare Results\n",
        "def predict_sentiment(new_review):\n",
        "    tfidf_vec = vectorizer.transform([new_review])\n",
        "    rule_score = np.array([sia.polarity_scores(new_review)['compound']]).reshape(-1, 1)\n",
        "    hybrid_vec = hstack((tfidf_vec, rule_score))\n",
        "\n",
        "    rule_pred = rule_based_sentiment(new_review)\n",
        "    lr_pred = lr_model.predict(tfidf_vec)[0]\n",
        "    svm_pred = svm_model.predict(tfidf_vec)[0]\n",
        "    rf_pred = rf_model.predict(tfidf_vec)[0]\n",
        "    hybrid_pred = hybrid_model.predict(hybrid_vec)[0]\n",
        "\n",
        "    # Decode labels - ensure inverse_transform is called with valid predicted labels\n",
        "    # The models might predict 0 or 1, which correspond to 'Negative' and 'Positive'\n",
        "    preds = {\n",
        "        'Rule-Based': le.inverse_transform([rule_pred])[0],\n",
        "        'Logistic Regression': le.inverse_transform([lr_pred])[0],\n",
        "        'SVM': le.inverse_transform([svm_pred])[0],\n",
        "        'Random Forest': le.inverse_transform([rf_pred])[0],\n",
        "        'Hybrid': le.inverse_transform([hybrid_pred])[0]\n",
        "    }\n",
        "    return preds\n",
        "\n",
        "# Test new reviews\n",
        "new_reviews = [\n",
        "    \"The battery life is amazing, lasts all day!\",\n",
        "    \"This product is terrible, broke after a week.\",\n",
        "    \"It's okay, nothing special but works fine.\" ,\n",
        "    \"False statements or representation\"\n",
        "]\n",
        "\n",
        "for review in new_reviews:\n",
        "    print(f\"\\nReview: {review}\")\n",
        "    print(predict_sentiment(review))"
      ]
    }
  ],
  "metadata": {
    "colab": {
      "provenance": []
    },
    "kernelspec": {
      "display_name": "Python 3",
      "name": "python3"
    },
    "language_info": {
      "name": "python"
    }
  },
  "nbformat": 4,
  "nbformat_minor": 5
}
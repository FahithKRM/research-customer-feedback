{
  "cells": [
    {
      "cell_type": "markdown",
      "id": "fo2VcL-hUjTx",
      "metadata": {
        "id": "fo2VcL-hUjTx"
      },
      "source": [
        "# Code 1\n",
        "### Tune Hyperparameter"
      ]
    },
    {
      "cell_type": "code",
      "source": [
        "# **Step 1: Install Dependencies**\n",
        "# This is the first step: Install all required packages at the beginning.\n",
        "# We install quietly (-q) to reduce output clutter.\n",
        "!pip install -q pandas numpy scikit-learn nltk textblob spacy transformers sentence-transformers wandb\n",
        "!python -m spacy download en_core_web_sm\n",
        "\n",
        "# Import all libraries next. Group them by category for clarity.\n",
        "import nltk\n",
        "nltk.download('vader_lexicon')\n",
        "nltk.download('punkt')\n",
        "nltk.download('stopwords')\n",
        "\n",
        "import pandas as pd\n",
        "import numpy as np\n",
        "from sklearn.model_selection import train_test_split\n",
        "from sklearn.feature_extraction.text import TfidfVectorizer\n",
        "from sklearn.linear_model import LogisticRegression\n",
        "from sklearn.svm import SVC\n",
        "from sklearn.ensemble import RandomForestClassifier\n",
        "from sklearn.naive_bayes import MultinomialNB  # Added for improvement\n",
        "from sklearn.metrics import accuracy_score, precision_score, recall_score, f1_score, classification_report\n",
        "from nltk.sentiment.vader import SentimentIntensityAnalyzer\n",
        "from textblob import TextBlob\n",
        "import spacy\n",
        "from sklearn.preprocessing import LabelEncoder\n",
        "import matplotlib.pyplot as plt\n",
        "from scipy.sparse import hstack\n",
        "import wandb  # For sweeps\n",
        "\n",
        "# Load spaCy and VADER\n",
        "nlp = spacy.load('en_core_web_sm')\n",
        "sia = SentimentIntensityAnalyzer()\n",
        "\n",
        "print(\"Step 1: Environment setup and dependencies installed!\")"
      ],
      "metadata": {
        "colab": {
          "base_uri": "https://localhost:8080/"
        },
        "id": "Sh5vXeXEUqDf",
        "outputId": "edc3cc01-a5ea-4334-cb19-5ca15c61cbe2"
      },
      "id": "Sh5vXeXEUqDf",
      "execution_count": 4,
      "outputs": [
        {
          "output_type": "stream",
          "name": "stdout",
          "text": [
            "Collecting en-core-web-sm==3.8.0\n",
            "  Downloading https://github.com/explosion/spacy-models/releases/download/en_core_web_sm-3.8.0/en_core_web_sm-3.8.0-py3-none-any.whl (12.8 MB)\n",
            "\u001b[2K     \u001b[90m━━━━━━━━━━━━━━━━━━━━━━━━━━━━━━━━━━━━━━━━\u001b[0m \u001b[32m12.8/12.8 MB\u001b[0m \u001b[31m30.6 MB/s\u001b[0m eta \u001b[36m0:00:00\u001b[0m\n",
            "\u001b[?25h\u001b[38;5;2m✔ Download and installation successful\u001b[0m\n",
            "You can now load the package via spacy.load('en_core_web_sm')\n",
            "\u001b[38;5;3m⚠ Restart to reload dependencies\u001b[0m\n",
            "If you are in a Jupyter or Colab notebook, you may need to restart Python in\n",
            "order to load all the package's dependencies. You can do this by selecting the\n",
            "'Restart kernel' or 'Restart runtime' option.\n"
          ]
        },
        {
          "output_type": "stream",
          "name": "stderr",
          "text": [
            "[nltk_data] Downloading package vader_lexicon to /root/nltk_data...\n",
            "[nltk_data]   Package vader_lexicon is already up-to-date!\n",
            "[nltk_data] Downloading package punkt to /root/nltk_data...\n",
            "[nltk_data]   Package punkt is already up-to-date!\n",
            "[nltk_data] Downloading package stopwords to /root/nltk_data...\n",
            "[nltk_data]   Package stopwords is already up-to-date!\n"
          ]
        },
        {
          "output_type": "stream",
          "name": "stdout",
          "text": [
            "Step 1: Environment setup and dependencies installed!\n"
          ]
        }
      ]
    },
    {
      "cell_type": "code",
      "source": [
        "# **Step 2: Mount Google Drive and Load Dataset**\n",
        "# Second step: Connect to Google Drive and load your dataset.\n",
        "# This assumes the file is in your Drive; adjust the path if needed.\n",
        "from google.colab import drive\n",
        "drive.mount('/content/drive')\n",
        "\n",
        "# Load dataset\n",
        "data_path = '/content/drive/MyDrive/Dataset/movie_review.csv'  # Update to your actual path\n",
        "df = pd.read_csv(data_path)\n",
        "\n",
        "print(\"Step 2: Dataset loaded:\")\n",
        "print(df.head())\n",
        "print(f\"Shape: {df.shape}\")\n",
        "print(\"Sentiment distribution:\", df['tag'].value_counts())"
      ],
      "metadata": {
        "colab": {
          "base_uri": "https://localhost:8080/"
        },
        "id": "8YRisXlOUwip",
        "outputId": "45d18e9a-5fc7-4948-f478-25536b4def0a"
      },
      "id": "8YRisXlOUwip",
      "execution_count": 5,
      "outputs": [
        {
          "output_type": "stream",
          "name": "stdout",
          "text": [
            "Drive already mounted at /content/drive; to attempt to forcibly remount, call drive.mount(\"/content/drive\", force_remount=True).\n",
            "Step 2: Dataset loaded:\n",
            "   fold_id cv_tag  html_id  sent_id  \\\n",
            "0        0  cv000    29590        0   \n",
            "1        0  cv000    29590        1   \n",
            "2        0  cv000    29590        2   \n",
            "3        0  cv000    29590        3   \n",
            "4        0  cv000    29590        4   \n",
            "\n",
            "                                                text  tag  \n",
            "0  films adapted from comic books have had plenty...  pos  \n",
            "1  for starters , it was created by alan moore ( ...  pos  \n",
            "2  to say moore and campbell thoroughly researche...  pos  \n",
            "3  the book ( or \" graphic novel , \" if you will ...  pos  \n",
            "4  in other words , don't dismiss this film becau...  pos  \n",
            "Shape: (64720, 6)\n",
            "Sentiment distribution: tag\n",
            "pos    32937\n",
            "neg    31783\n",
            "Name: count, dtype: int64\n"
          ]
        }
      ]
    },
    {
      "cell_type": "code",
      "source": [
        "# **Step 3: Data Preprocessing**\n",
        "# Third step: Select columns, handle missing values, encode labels, and preprocess text.\n",
        "# Added lemmatization for better feature quality (improves accuracy).\n",
        "df = df[['text', 'tag']]\n",
        "\n",
        "# Handle NaNs\n",
        "df['text'] = df['text'].fillna(\"\")\n",
        "df['tag'] = df['tag'].fillna(\"\")\n",
        "\n",
        "# Lemmatization function (improvement: normalize words)\n",
        "def preprocess_text(text):\n",
        "    doc = nlp(text)\n",
        "    tokens = [token.lemma_.lower() for token in doc if not token.is_punct and not token.is_stop]\n",
        "    return ' '.join(tokens)\n",
        "\n",
        "# Apply preprocessing\n",
        "df['text'] = df['text'].apply(preprocess_text)\n",
        "\n",
        "# Encode labels (binary: neg=0, pos=1)\n",
        "le = LabelEncoder()\n",
        "df['issue_encoded'] = le.fit_transform(df['tag'])\n",
        "print(\"Encoded classes:\", le.classes_)\n",
        "\n",
        "# Train-test split\n",
        "X = df['text']\n",
        "y = df['issue_encoded']\n",
        "X_train, X_test, y_train, y_test = train_test_split(X, y, test_size=0.2, random_state=42)\n",
        "\n",
        "print(\"Step 3: Data preprocessed. Train shape:\", X_train.shape, \"Test shape:\", X_test.shape)\n",
        "print(\"Train set distribution:\\n\", pd.Series(y_train).value_counts())\n",
        "print(\"Test set distribution:\\n\", pd.Series(y_test).value_counts())"
      ],
      "metadata": {
        "colab": {
          "base_uri": "https://localhost:8080/"
        },
        "id": "z7CY77kIU0s8",
        "outputId": "ae2519e9-d5f0-43cd-c60f-664ff9a231f1"
      },
      "id": "z7CY77kIU0s8",
      "execution_count": 6,
      "outputs": [
        {
          "output_type": "stream",
          "name": "stdout",
          "text": [
            "Encoded classes: ['neg' 'pos']\n",
            "Step 3: Data preprocessed. Train shape: (51776,) Test shape: (12944,)\n",
            "Train set distribution:\n",
            " issue_encoded\n",
            "1    26364\n",
            "0    25412\n",
            "Name: count, dtype: int64\n",
            "Test set distribution:\n",
            " issue_encoded\n",
            "1    6573\n",
            "0    6371\n",
            "Name: count, dtype: int64\n"
          ]
        }
      ]
    },
    {
      "cell_type": "code",
      "source": [
        "# **Step 4: Rule-Based Model**\n",
        "# Fourth step: Define and evaluate the rule-based model using VADER + spaCy negation.\n",
        "def rule_based_sentiment(text):\n",
        "    vader_score = sia.polarity_scores(text)['compound']\n",
        "    doc = nlp(text)\n",
        "    negation = any(token.dep_ == 'neg' for token in doc)\n",
        "    if negation and vader_score > 0:\n",
        "        return 0  # Negative\n",
        "    elif vader_score > 0.1:\n",
        "        return 1  # Positive\n",
        "    elif vader_score < -0.1:\n",
        "        return 0  # Negative\n",
        "    else:\n",
        "        return 1 if vader_score >= 0 else 0\n",
        "\n",
        "# Apply and evaluate\n",
        "y_pred_rule = [rule_based_sentiment(text) for text in X_test]\n",
        "acc_rule = accuracy_score(y_test, y_pred_rule)\n",
        "print(\"Step 4: Rule-Based Evaluation:\")\n",
        "print(classification_report(y_test, y_pred_rule, target_names=le.classes_, zero_division=0))"
      ],
      "metadata": {
        "colab": {
          "base_uri": "https://localhost:8080/"
        },
        "id": "xVrzOiDjfWMg",
        "outputId": "b85f8eab-ba07-46be-9bf9-46ef0ba71da5"
      },
      "id": "xVrzOiDjfWMg",
      "execution_count": 7,
      "outputs": [
        {
          "output_type": "stream",
          "name": "stdout",
          "text": [
            "Step 4: Rule-Based Evaluation:\n",
            "              precision    recall  f1-score   support\n",
            "\n",
            "         neg       0.54      0.34      0.42      6371\n",
            "         pos       0.53      0.72      0.61      6573\n",
            "\n",
            "    accuracy                           0.53     12944\n",
            "   macro avg       0.54      0.53      0.52     12944\n",
            "weighted avg       0.54      0.53      0.52     12944\n",
            "\n"
          ]
        }
      ]
    },
    {
      "cell_type": "code",
      "source": [
        "# **Step 5: Set Up W&B for Hyperparameter Tuning**\n",
        "# Fifth step: Configure and run W&B sweeps for optimization.\n",
        "# This tunes TF-IDF and Logistic Regression/Hybrid to improve to 80-90%.\n",
        "wandb.login()  # Log in with your API key if prompted\n",
        "\n",
        "sweep_config = {\n",
        "    'method': 'bayes',\n",
        "    'name': 'movie_review_sweep_lr_hybrid',\n",
        "    'metric': {'name': 'test_accuracy_hybrid', 'goal': 'maximize'},\n",
        "    'parameters': {\n",
        "        'max_features': {'values': [2000, 5000, 10000]},\n",
        "        'ngram_range': {'values': [(1,1), (1,2), (1,3)]},\n",
        "        'min_df': {'values': [1, 2, 5]},\n",
        "        'C': {'distribution': 'uniform', 'min': 0.1, 'max': 10.0},\n",
        "        'solver': {'values': ['liblinear', 'lbfgs']},\n",
        "        'vader_weight': {'distribution': 'uniform', 'min': 0.5, 'max': 2.0}\n",
        "    },\n",
        "    'early_terminate': {'type': 'hyperband', 'min_iter': 3}\n",
        "}\n",
        "\n",
        "def train_sweep():\n",
        "    run = wandb.init()\n",
        "    config = wandb.config\n",
        "\n",
        "    # Vectorizer\n",
        "    vectorizer = TfidfVectorizer(ngram_range=config.ngram_range, stop_words='english',\n",
        "                                 max_features=config.max_features, min_df=config.min_df)\n",
        "    X_train_tfidf = vectorizer.fit_transform(X_train)\n",
        "    X_test_tfidf = vectorizer.transform(X_test)\n",
        "\n",
        "    # VADER scores (scaled)\n",
        "    rule_scores_train = np.array([sia.polarity_scores(text)['compound'] for text in X_train]).reshape(-1, 1) * config.vader_weight\n",
        "    rule_scores_test = np.array([sia.polarity_scores(text)['compound'] for text in X_test]).reshape(-1, 1) * config.vader_weight\n",
        "\n",
        "    # Hybrid features\n",
        "    X_train_hybrid = hstack((X_train_tfidf, rule_scores_train))\n",
        "    X_test_hybrid = hstack((X_test_tfidf, rule_scores_test))\n",
        "\n",
        "    # Logistic Regression\n",
        "    lr_model = LogisticRegression(max_iter=1000, C=config.C, solver=config.solver)\n",
        "    lr_model.fit(X_train_tfidf, y_train)\n",
        "    y_pred_lr = lr_model.predict(X_test_tfidf)\n",
        "    acc_lr = accuracy_score(y_test, y_pred_lr)\n",
        "\n",
        "    # Hybrid\n",
        "    hybrid_model = LogisticRegression(max_iter=1000, C=config.C, solver=config.solver)\n",
        "    hybrid_model.fit(X_train_hybrid, y_train)\n",
        "    y_pred_hybrid = hybrid_model.predict(X_test_hybrid)\n",
        "    acc_hybrid = accuracy_score(y_test, y_pred_hybrid)\n",
        "\n",
        "    # Log\n",
        "    wandb.log({'test_accuracy_lr': acc_lr, 'test_accuracy_hybrid': acc_hybrid})\n",
        "    run.finish()\n",
        "\n",
        "# Run sweep (adjust count for more trials)\n",
        "sweep_id = wandb.sweep(sweep=sweep_config, project='movie_review_tuning')\n",
        "wandb.agent(sweep_id, function=train_sweep, count=20)\n",
        "\n",
        "print(\"Step 5: Hyperparameter tuning completed. Check W&B dashboard for best params!\")"
      ],
      "metadata": {
        "colab": {
          "base_uri": "https://localhost:8080/",
          "height": 1000
        },
        "id": "0evmfwaofbQm",
        "outputId": "33209706-05ce-4ff7-9cfd-53af531a070b"
      },
      "id": "0evmfwaofbQm",
      "execution_count": 8,
      "outputs": [
        {
          "output_type": "stream",
          "name": "stderr",
          "text": [
            "/usr/local/lib/python3.12/dist-packages/notebook/notebookapp.py:191: SyntaxWarning: invalid escape sequence '\\/'\n",
            "  | |_| | '_ \\/ _` / _` |  _/ -_)\n"
          ]
        },
        {
          "output_type": "display_data",
          "data": {
            "text/plain": [
              "<IPython.core.display.Javascript object>"
            ],
            "application/javascript": [
              "\n",
              "        window._wandbApiKey = new Promise((resolve, reject) => {\n",
              "            function loadScript(url) {\n",
              "            return new Promise(function(resolve, reject) {\n",
              "                let newScript = document.createElement(\"script\");\n",
              "                newScript.onerror = reject;\n",
              "                newScript.onload = resolve;\n",
              "                document.body.appendChild(newScript);\n",
              "                newScript.src = url;\n",
              "            });\n",
              "            }\n",
              "            loadScript(\"https://cdn.jsdelivr.net/npm/postmate/build/postmate.min.js\").then(() => {\n",
              "            const iframe = document.createElement('iframe')\n",
              "            iframe.style.cssText = \"width:0;height:0;border:none\"\n",
              "            document.body.appendChild(iframe)\n",
              "            const handshake = new Postmate({\n",
              "                container: iframe,\n",
              "                url: 'https://wandb.ai/authorize'\n",
              "            });\n",
              "            const timeout = setTimeout(() => reject(\"Couldn't auto authenticate\"), 5000)\n",
              "            handshake.then(function(child) {\n",
              "                child.on('authorize', data => {\n",
              "                    clearTimeout(timeout)\n",
              "                    resolve(data)\n",
              "                });\n",
              "            });\n",
              "            })\n",
              "        });\n",
              "    "
            ]
          },
          "metadata": {}
        },
        {
          "output_type": "stream",
          "name": "stderr",
          "text": [
            "\u001b[34m\u001b[1mwandb\u001b[0m: Logging into wandb.ai. (Learn how to deploy a W&B server locally: https://wandb.me/wandb-server)\n",
            "\u001b[34m\u001b[1mwandb\u001b[0m: You can find your API key in your browser here: https://wandb.ai/authorize\n",
            "wandb: Paste an API key from your profile and hit enter:"
          ]
        },
        {
          "name": "stdout",
          "output_type": "stream",
          "text": [
            " ··········\n"
          ]
        },
        {
          "output_type": "stream",
          "name": "stderr",
          "text": [
            "\u001b[34m\u001b[1mwandb\u001b[0m: \u001b[33mWARNING\u001b[0m If you're specifying your api key in code, ensure this code is not shared publicly.\n",
            "\u001b[34m\u001b[1mwandb\u001b[0m: \u001b[33mWARNING\u001b[0m Consider setting the WANDB_API_KEY environment variable, or running `wandb login` from the command line.\n",
            "\u001b[34m\u001b[1mwandb\u001b[0m: No netrc file found, creating one.\n",
            "\u001b[34m\u001b[1mwandb\u001b[0m: Appending key for api.wandb.ai to your netrc file: /root/.netrc\n",
            "\u001b[34m\u001b[1mwandb\u001b[0m: Currently logged in as: \u001b[33mkrmfahith\u001b[0m (\u001b[33mkrmfaahith\u001b[0m) to \u001b[32mhttps://api.wandb.ai\u001b[0m. Use \u001b[1m`wandb login --relogin`\u001b[0m to force relogin\n"
          ]
        },
        {
          "output_type": "stream",
          "name": "stdout",
          "text": [
            "Create sweep with ID: 4amio5u6\n",
            "Sweep URL: https://wandb.ai/krmfaahith/movie_review_tuning/sweeps/4amio5u6\n"
          ]
        },
        {
          "output_type": "stream",
          "name": "stderr",
          "text": [
            "\u001b[34m\u001b[1mwandb\u001b[0m: Agent Starting Run: h0k7n6zk with config:\n",
            "\u001b[34m\u001b[1mwandb\u001b[0m: \tC: 2.4069510862901473\n",
            "\u001b[34m\u001b[1mwandb\u001b[0m: \tmax_features: 5000\n",
            "\u001b[34m\u001b[1mwandb\u001b[0m: \tmin_df: 2\n",
            "\u001b[34m\u001b[1mwandb\u001b[0m: \tngram_range: [1, 3]\n",
            "\u001b[34m\u001b[1mwandb\u001b[0m: \tsolver: liblinear\n",
            "\u001b[34m\u001b[1mwandb\u001b[0m: \tvader_weight: 1.577853090534516\n"
          ]
        },
        {
          "output_type": "display_data",
          "data": {
            "text/plain": [
              "<IPython.core.display.HTML object>"
            ],
            "text/html": []
          },
          "metadata": {}
        },
        {
          "output_type": "display_data",
          "data": {
            "text/plain": [
              "<IPython.core.display.HTML object>"
            ],
            "text/html": [
              "Tracking run with wandb version 0.21.4"
            ]
          },
          "metadata": {}
        },
        {
          "output_type": "display_data",
          "data": {
            "text/plain": [
              "<IPython.core.display.HTML object>"
            ],
            "text/html": [
              "Run data is saved locally in <code>/content/wandb/run-20250924_164526-h0k7n6zk</code>"
            ]
          },
          "metadata": {}
        },
        {
          "output_type": "display_data",
          "data": {
            "text/plain": [
              "<IPython.core.display.HTML object>"
            ],
            "text/html": [
              "Syncing run <strong><a href='https://wandb.ai/krmfaahith/movie_review_tuning/runs/h0k7n6zk' target=\"_blank\">silvery-sweep-1</a></strong> to <a href='https://wandb.ai/krmfaahith/movie_review_tuning' target=\"_blank\">Weights & Biases</a> (<a href='https://wandb.me/developer-guide' target=\"_blank\">docs</a>)<br>Sweep page: <a href='https://wandb.ai/krmfaahith/movie_review_tuning/sweeps/4amio5u6' target=\"_blank\">https://wandb.ai/krmfaahith/movie_review_tuning/sweeps/4amio5u6</a>"
            ]
          },
          "metadata": {}
        },
        {
          "output_type": "display_data",
          "data": {
            "text/plain": [
              "<IPython.core.display.HTML object>"
            ],
            "text/html": [
              " View project at <a href='https://wandb.ai/krmfaahith/movie_review_tuning' target=\"_blank\">https://wandb.ai/krmfaahith/movie_review_tuning</a>"
            ]
          },
          "metadata": {}
        },
        {
          "output_type": "display_data",
          "data": {
            "text/plain": [
              "<IPython.core.display.HTML object>"
            ],
            "text/html": [
              " View sweep at <a href='https://wandb.ai/krmfaahith/movie_review_tuning/sweeps/4amio5u6' target=\"_blank\">https://wandb.ai/krmfaahith/movie_review_tuning/sweeps/4amio5u6</a>"
            ]
          },
          "metadata": {}
        },
        {
          "output_type": "display_data",
          "data": {
            "text/plain": [
              "<IPython.core.display.HTML object>"
            ],
            "text/html": [
              " View run at <a href='https://wandb.ai/krmfaahith/movie_review_tuning/runs/h0k7n6zk' target=\"_blank\">https://wandb.ai/krmfaahith/movie_review_tuning/runs/h0k7n6zk</a>"
            ]
          },
          "metadata": {}
        },
        {
          "output_type": "stream",
          "name": "stderr",
          "text": [
            "Traceback (most recent call last):\n",
            "  File \"/usr/local/lib/python3.12/dist-packages/wandb/agents/pyagent.py\", line 297, in _run_job\n",
            "    self._function()\n",
            "  File \"/tmp/ipython-input-500809226.py\", line 28, in train_sweep\n",
            "    X_train_tfidf = vectorizer.fit_transform(X_train)\n",
            "                    ^^^^^^^^^^^^^^^^^^^^^^^^^^^^^^^^^\n",
            "  File \"/usr/local/lib/python3.12/dist-packages/sklearn/feature_extraction/text.py\", line 2104, in fit_transform\n",
            "    X = super().fit_transform(raw_documents)\n",
            "        ^^^^^^^^^^^^^^^^^^^^^^^^^^^^^^^^^^^^\n",
            "  File \"/usr/local/lib/python3.12/dist-packages/sklearn/base.py\", line 1382, in wrapper\n",
            "    estimator._validate_params()\n",
            "  File \"/usr/local/lib/python3.12/dist-packages/sklearn/base.py\", line 436, in _validate_params\n",
            "    validate_parameter_constraints(\n",
            "  File \"/usr/local/lib/python3.12/dist-packages/sklearn/utils/_param_validation.py\", line 98, in validate_parameter_constraints\n",
            "    raise InvalidParameterError(\n",
            "sklearn.utils._param_validation.InvalidParameterError: The 'ngram_range' parameter of TfidfVectorizer must be an instance of 'tuple'. Got [1, 3] instead.\n",
            "\n"
          ]
        },
        {
          "output_type": "display_data",
          "data": {
            "text/plain": [
              "<IPython.core.display.HTML object>"
            ],
            "text/html": []
          },
          "metadata": {}
        },
        {
          "output_type": "display_data",
          "data": {
            "text/plain": [
              "<IPython.core.display.HTML object>"
            ],
            "text/html": [
              " View run <strong style=\"color:#cdcd00\">silvery-sweep-1</strong> at: <a href='https://wandb.ai/krmfaahith/movie_review_tuning/runs/h0k7n6zk' target=\"_blank\">https://wandb.ai/krmfaahith/movie_review_tuning/runs/h0k7n6zk</a><br> View project at: <a href='https://wandb.ai/krmfaahith/movie_review_tuning' target=\"_blank\">https://wandb.ai/krmfaahith/movie_review_tuning</a><br>Synced 5 W&B file(s), 0 media file(s), 0 artifact file(s) and 0 other file(s)"
            ]
          },
          "metadata": {}
        },
        {
          "output_type": "display_data",
          "data": {
            "text/plain": [
              "<IPython.core.display.HTML object>"
            ],
            "text/html": [
              "Find logs at: <code>./wandb/run-20250924_164526-h0k7n6zk/logs</code>"
            ]
          },
          "metadata": {}
        },
        {
          "output_type": "stream",
          "name": "stderr",
          "text": [
            "\u001b[34m\u001b[1mwandb\u001b[0m: \u001b[32m\u001b[41mERROR\u001b[0m Run h0k7n6zk errored: The 'ngram_range' parameter of TfidfVectorizer must be an instance of 'tuple'. Got [1, 3] instead.\n",
            "\u001b[34m\u001b[1mwandb\u001b[0m: Agent Starting Run: ypbwurkx with config:\n",
            "\u001b[34m\u001b[1mwandb\u001b[0m: \tC: 7.675852764542397\n",
            "\u001b[34m\u001b[1mwandb\u001b[0m: \tmax_features: 10000\n",
            "\u001b[34m\u001b[1mwandb\u001b[0m: \tmin_df: 1\n",
            "\u001b[34m\u001b[1mwandb\u001b[0m: \tngram_range: [1, 1]\n",
            "\u001b[34m\u001b[1mwandb\u001b[0m: \tsolver: lbfgs\n",
            "\u001b[34m\u001b[1mwandb\u001b[0m: \tvader_weight: 1.206542588699317\n"
          ]
        },
        {
          "output_type": "display_data",
          "data": {
            "text/plain": [
              "<IPython.core.display.HTML object>"
            ],
            "text/html": []
          },
          "metadata": {}
        },
        {
          "output_type": "display_data",
          "data": {
            "text/plain": [
              "<IPython.core.display.HTML object>"
            ],
            "text/html": [
              "Tracking run with wandb version 0.21.4"
            ]
          },
          "metadata": {}
        },
        {
          "output_type": "display_data",
          "data": {
            "text/plain": [
              "<IPython.core.display.HTML object>"
            ],
            "text/html": [
              "Run data is saved locally in <code>/content/wandb/run-20250924_164531-ypbwurkx</code>"
            ]
          },
          "metadata": {}
        },
        {
          "output_type": "display_data",
          "data": {
            "text/plain": [
              "<IPython.core.display.HTML object>"
            ],
            "text/html": [
              "Syncing run <strong><a href='https://wandb.ai/krmfaahith/movie_review_tuning/runs/ypbwurkx' target=\"_blank\">clean-sweep-2</a></strong> to <a href='https://wandb.ai/krmfaahith/movie_review_tuning' target=\"_blank\">Weights & Biases</a> (<a href='https://wandb.me/developer-guide' target=\"_blank\">docs</a>)<br>Sweep page: <a href='https://wandb.ai/krmfaahith/movie_review_tuning/sweeps/4amio5u6' target=\"_blank\">https://wandb.ai/krmfaahith/movie_review_tuning/sweeps/4amio5u6</a>"
            ]
          },
          "metadata": {}
        },
        {
          "output_type": "display_data",
          "data": {
            "text/plain": [
              "<IPython.core.display.HTML object>"
            ],
            "text/html": [
              " View project at <a href='https://wandb.ai/krmfaahith/movie_review_tuning' target=\"_blank\">https://wandb.ai/krmfaahith/movie_review_tuning</a>"
            ]
          },
          "metadata": {}
        },
        {
          "output_type": "display_data",
          "data": {
            "text/plain": [
              "<IPython.core.display.HTML object>"
            ],
            "text/html": [
              " View sweep at <a href='https://wandb.ai/krmfaahith/movie_review_tuning/sweeps/4amio5u6' target=\"_blank\">https://wandb.ai/krmfaahith/movie_review_tuning/sweeps/4amio5u6</a>"
            ]
          },
          "metadata": {}
        },
        {
          "output_type": "display_data",
          "data": {
            "text/plain": [
              "<IPython.core.display.HTML object>"
            ],
            "text/html": [
              " View run at <a href='https://wandb.ai/krmfaahith/movie_review_tuning/runs/ypbwurkx' target=\"_blank\">https://wandb.ai/krmfaahith/movie_review_tuning/runs/ypbwurkx</a>"
            ]
          },
          "metadata": {}
        },
        {
          "output_type": "stream",
          "name": "stderr",
          "text": [
            "Traceback (most recent call last):\n",
            "  File \"/usr/local/lib/python3.12/dist-packages/wandb/agents/pyagent.py\", line 297, in _run_job\n",
            "    self._function()\n",
            "  File \"/tmp/ipython-input-500809226.py\", line 28, in train_sweep\n",
            "    X_train_tfidf = vectorizer.fit_transform(X_train)\n",
            "                    ^^^^^^^^^^^^^^^^^^^^^^^^^^^^^^^^^\n",
            "  File \"/usr/local/lib/python3.12/dist-packages/sklearn/feature_extraction/text.py\", line 2104, in fit_transform\n",
            "    X = super().fit_transform(raw_documents)\n",
            "        ^^^^^^^^^^^^^^^^^^^^^^^^^^^^^^^^^^^^\n",
            "  File \"/usr/local/lib/python3.12/dist-packages/sklearn/base.py\", line 1382, in wrapper\n",
            "    estimator._validate_params()\n",
            "  File \"/usr/local/lib/python3.12/dist-packages/sklearn/base.py\", line 436, in _validate_params\n",
            "    validate_parameter_constraints(\n",
            "  File \"/usr/local/lib/python3.12/dist-packages/sklearn/utils/_param_validation.py\", line 98, in validate_parameter_constraints\n",
            "    raise InvalidParameterError(\n",
            "sklearn.utils._param_validation.InvalidParameterError: The 'ngram_range' parameter of TfidfVectorizer must be an instance of 'tuple'. Got [1, 1] instead.\n",
            "\n"
          ]
        },
        {
          "output_type": "display_data",
          "data": {
            "text/plain": [
              "<IPython.core.display.HTML object>"
            ],
            "text/html": []
          },
          "metadata": {}
        },
        {
          "output_type": "display_data",
          "data": {
            "text/plain": [
              "<IPython.core.display.HTML object>"
            ],
            "text/html": [
              " View run <strong style=\"color:#cdcd00\">clean-sweep-2</strong> at: <a href='https://wandb.ai/krmfaahith/movie_review_tuning/runs/ypbwurkx' target=\"_blank\">https://wandb.ai/krmfaahith/movie_review_tuning/runs/ypbwurkx</a><br> View project at: <a href='https://wandb.ai/krmfaahith/movie_review_tuning' target=\"_blank\">https://wandb.ai/krmfaahith/movie_review_tuning</a><br>Synced 5 W&B file(s), 0 media file(s), 0 artifact file(s) and 0 other file(s)"
            ]
          },
          "metadata": {}
        },
        {
          "output_type": "display_data",
          "data": {
            "text/plain": [
              "<IPython.core.display.HTML object>"
            ],
            "text/html": [
              "Find logs at: <code>./wandb/run-20250924_164531-ypbwurkx/logs</code>"
            ]
          },
          "metadata": {}
        },
        {
          "output_type": "stream",
          "name": "stderr",
          "text": [
            "\u001b[34m\u001b[1mwandb\u001b[0m: \u001b[32m\u001b[41mERROR\u001b[0m Run ypbwurkx errored: The 'ngram_range' parameter of TfidfVectorizer must be an instance of 'tuple'. Got [1, 1] instead.\n",
            "\u001b[34m\u001b[1mwandb\u001b[0m: Agent Starting Run: o6nm0cs7 with config:\n",
            "\u001b[34m\u001b[1mwandb\u001b[0m: \tC: 0.452398256653578\n",
            "\u001b[34m\u001b[1mwandb\u001b[0m: \tmax_features: 2000\n",
            "\u001b[34m\u001b[1mwandb\u001b[0m: \tmin_df: 1\n",
            "\u001b[34m\u001b[1mwandb\u001b[0m: \tngram_range: [1, 3]\n",
            "\u001b[34m\u001b[1mwandb\u001b[0m: \tsolver: lbfgs\n",
            "\u001b[34m\u001b[1mwandb\u001b[0m: \tvader_weight: 0.5094527373858899\n"
          ]
        },
        {
          "output_type": "display_data",
          "data": {
            "text/plain": [
              "<IPython.core.display.HTML object>"
            ],
            "text/html": []
          },
          "metadata": {}
        },
        {
          "output_type": "display_data",
          "data": {
            "text/plain": [
              "<IPython.core.display.HTML object>"
            ],
            "text/html": [
              "Tracking run with wandb version 0.21.4"
            ]
          },
          "metadata": {}
        },
        {
          "output_type": "display_data",
          "data": {
            "text/plain": [
              "<IPython.core.display.HTML object>"
            ],
            "text/html": [
              "Run data is saved locally in <code>/content/wandb/run-20250924_164537-o6nm0cs7</code>"
            ]
          },
          "metadata": {}
        },
        {
          "output_type": "display_data",
          "data": {
            "text/plain": [
              "<IPython.core.display.HTML object>"
            ],
            "text/html": [
              "Syncing run <strong><a href='https://wandb.ai/krmfaahith/movie_review_tuning/runs/o6nm0cs7' target=\"_blank\">visionary-sweep-3</a></strong> to <a href='https://wandb.ai/krmfaahith/movie_review_tuning' target=\"_blank\">Weights & Biases</a> (<a href='https://wandb.me/developer-guide' target=\"_blank\">docs</a>)<br>Sweep page: <a href='https://wandb.ai/krmfaahith/movie_review_tuning/sweeps/4amio5u6' target=\"_blank\">https://wandb.ai/krmfaahith/movie_review_tuning/sweeps/4amio5u6</a>"
            ]
          },
          "metadata": {}
        },
        {
          "output_type": "display_data",
          "data": {
            "text/plain": [
              "<IPython.core.display.HTML object>"
            ],
            "text/html": [
              " View project at <a href='https://wandb.ai/krmfaahith/movie_review_tuning' target=\"_blank\">https://wandb.ai/krmfaahith/movie_review_tuning</a>"
            ]
          },
          "metadata": {}
        },
        {
          "output_type": "display_data",
          "data": {
            "text/plain": [
              "<IPython.core.display.HTML object>"
            ],
            "text/html": [
              " View sweep at <a href='https://wandb.ai/krmfaahith/movie_review_tuning/sweeps/4amio5u6' target=\"_blank\">https://wandb.ai/krmfaahith/movie_review_tuning/sweeps/4amio5u6</a>"
            ]
          },
          "metadata": {}
        },
        {
          "output_type": "display_data",
          "data": {
            "text/plain": [
              "<IPython.core.display.HTML object>"
            ],
            "text/html": [
              " View run at <a href='https://wandb.ai/krmfaahith/movie_review_tuning/runs/o6nm0cs7' target=\"_blank\">https://wandb.ai/krmfaahith/movie_review_tuning/runs/o6nm0cs7</a>"
            ]
          },
          "metadata": {}
        },
        {
          "output_type": "stream",
          "name": "stderr",
          "text": [
            "Traceback (most recent call last):\n",
            "  File \"/usr/local/lib/python3.12/dist-packages/wandb/agents/pyagent.py\", line 297, in _run_job\n",
            "    self._function()\n",
            "  File \"/tmp/ipython-input-500809226.py\", line 28, in train_sweep\n",
            "    X_train_tfidf = vectorizer.fit_transform(X_train)\n",
            "                    ^^^^^^^^^^^^^^^^^^^^^^^^^^^^^^^^^\n",
            "  File \"/usr/local/lib/python3.12/dist-packages/sklearn/feature_extraction/text.py\", line 2104, in fit_transform\n",
            "    X = super().fit_transform(raw_documents)\n",
            "        ^^^^^^^^^^^^^^^^^^^^^^^^^^^^^^^^^^^^\n",
            "  File \"/usr/local/lib/python3.12/dist-packages/sklearn/base.py\", line 1382, in wrapper\n",
            "    estimator._validate_params()\n",
            "  File \"/usr/local/lib/python3.12/dist-packages/sklearn/base.py\", line 436, in _validate_params\n",
            "    validate_parameter_constraints(\n",
            "  File \"/usr/local/lib/python3.12/dist-packages/sklearn/utils/_param_validation.py\", line 98, in validate_parameter_constraints\n",
            "    raise InvalidParameterError(\n",
            "sklearn.utils._param_validation.InvalidParameterError: The 'ngram_range' parameter of TfidfVectorizer must be an instance of 'tuple'. Got [1, 3] instead.\n",
            "\n"
          ]
        },
        {
          "output_type": "display_data",
          "data": {
            "text/plain": [
              "<IPython.core.display.HTML object>"
            ],
            "text/html": []
          },
          "metadata": {}
        },
        {
          "output_type": "display_data",
          "data": {
            "text/plain": [
              "<IPython.core.display.HTML object>"
            ],
            "text/html": [
              " View run <strong style=\"color:#cdcd00\">visionary-sweep-3</strong> at: <a href='https://wandb.ai/krmfaahith/movie_review_tuning/runs/o6nm0cs7' target=\"_blank\">https://wandb.ai/krmfaahith/movie_review_tuning/runs/o6nm0cs7</a><br> View project at: <a href='https://wandb.ai/krmfaahith/movie_review_tuning' target=\"_blank\">https://wandb.ai/krmfaahith/movie_review_tuning</a><br>Synced 5 W&B file(s), 0 media file(s), 0 artifact file(s) and 0 other file(s)"
            ]
          },
          "metadata": {}
        },
        {
          "output_type": "display_data",
          "data": {
            "text/plain": [
              "<IPython.core.display.HTML object>"
            ],
            "text/html": [
              "Find logs at: <code>./wandb/run-20250924_164537-o6nm0cs7/logs</code>"
            ]
          },
          "metadata": {}
        },
        {
          "output_type": "stream",
          "name": "stderr",
          "text": [
            "\u001b[34m\u001b[1mwandb\u001b[0m: \u001b[32m\u001b[41mERROR\u001b[0m Run o6nm0cs7 errored: The 'ngram_range' parameter of TfidfVectorizer must be an instance of 'tuple'. Got [1, 3] instead.\n",
            "\u001b[34m\u001b[1mwandb\u001b[0m: \u001b[32m\u001b[41mERROR\u001b[0m Detected 3 failed runs in the first 60 seconds, killing sweep.\n",
            "\u001b[34m\u001b[1mwandb\u001b[0m: To disable this check set WANDB_AGENT_DISABLE_FLAPPING=true\n"
          ]
        },
        {
          "output_type": "stream",
          "name": "stdout",
          "text": [
            "Step 5: Hyperparameter tuning completed. Check W&B dashboard for best params!\n"
          ]
        }
      ]
    },
    {
      "cell_type": "code",
      "source": [
        "# **Step 6: Train ML Models with Best Hyperparameters**\n",
        "# Sixth step: Use best params from sweeps (example values; replace with your actual best from W&B).\n",
        "# Train baseline ML models + added Naive Bayes for improvement.\n",
        "# Example best params: Adjust based on sweep results.\n",
        "best_max_features = 5000\n",
        "best_ngram_range = (1, 2)\n",
        "best_min_df = 2\n",
        "best_C = 2.5\n",
        "best_solver = 'liblinear'\n",
        "best_vader_weight = 1.2\n",
        "\n",
        "vectorizer = TfidfVectorizer(ngram_range=best_ngram_range, stop_words='english',\n",
        "                             max_features=best_max_features, min_df=best_min_df)\n",
        "X_train_tfidf = vectorizer.fit_transform(X_train)\n",
        "X_test_tfidf = vectorizer.transform(X_test)\n",
        "\n",
        "# Logistic Regression\n",
        "lr_model = LogisticRegression(max_iter=1000, C=best_C, solver=best_solver)\n",
        "lr_model.fit(X_train_tfidf, y_train)\n",
        "y_pred_lr = lr_model.predict(X_test_tfidf)\n",
        "acc_lr = accuracy_score(y_test, y_pred_lr)\n",
        "print(\"Step 6: Logistic Regression Evaluation:\")\n",
        "print(classification_report(y_test, y_pred_lr, target_names=le.classes_, zero_division=0))\n",
        "\n",
        "# SVM\n",
        "svm_model = SVC(kernel='linear', C=best_C)\n",
        "svm_model.fit(X_train_tfidf, y_train)\n",
        "y_pred_svm = svm_model.predict(X_test_tfidf)\n",
        "acc_svm = accuracy_score(y_test, y_pred_svm)\n",
        "print(\"SVM Evaluation:\")\n",
        "print(classification_report(y_test, y_pred_svm, target_names=le.classes_, zero_division=0))\n",
        "\n",
        "# Random Forest\n",
        "rf_model = RandomForestClassifier(n_estimators=100, random_state=42, max_depth=10)\n",
        "rf_model.fit(X_train_tfidf, y_train)\n",
        "y_pred_rf = rf_model.predict(X_test_tfidf)\n",
        "acc_rf = accuracy_score(y_test, y_pred_rf)\n",
        "print(\"Random Forest Evaluation:\")\n",
        "print(classification_report(y_test, y_pred_rf, target_names=le.classes_, zero_division=0))\n",
        "\n",
        "# Naive Bayes (added for improvement)\n",
        "nb_model = MultinomialNB(alpha=0.5)\n",
        "nb_model.fit(X_train_tfidf, y_train)\n",
        "y_pred_nb = nb_model.predict(X_test_tfidf)\n",
        "acc_nb = accuracy_score(y_test, y_pred_nb)\n",
        "print(\"Naive Bayes Evaluation:\")\n",
        "print(classification_report(y_test, y_pred_nb, target_names=le.classes_, zero_division=0))"
      ],
      "metadata": {
        "id": "ai0uIndefetM"
      },
      "id": "ai0uIndefetM",
      "execution_count": null,
      "outputs": []
    },
    {
      "cell_type": "code",
      "source": [
        "# **Step 7: Hybrid Model with Best Hyperparameters**\n",
        "# Seventh step: Train Hybrid model (TF-IDF + scaled VADER).\n",
        "rule_scores_train = np.array([sia.polarity_scores(text)['compound'] for text in X_train]).reshape(-1, 1) * best_vader_weight\n",
        "rule_scores_test = np.array([sia.polarity_scores(text)['compound'] for text in X_test]).reshape(-1, 1) * best_vader_weight\n",
        "\n",
        "X_train_hybrid = hstack((X_train_tfidf, rule_scores_train))\n",
        "X_test_hybrid = hstack((X_test_tfidf, rule_scores_test))\n",
        "\n",
        "hybrid_model = LogisticRegression(max_iter=1000, C=best_C, solver=best_solver)\n",
        "hybrid_model.fit(X_train_hybrid, y_train)\n",
        "y_pred_hybrid = hybrid_model.predict(X_test_hybrid)\n",
        "acc_hybrid = accuracy_score(y_test, y_pred_hybrid)\n",
        "print(\"Step 7: Hybrid Model Evaluation:\")\n",
        "print(classification_report(y_test, y_pred_hybrid, target_names=le.classes_, zero_division=0))"
      ],
      "metadata": {
        "id": "ITBvh5ibfhzb"
      },
      "id": "ITBvh5ibfhzb",
      "execution_count": null,
      "outputs": []
    },
    {
      "cell_type": "code",
      "source": [
        "# **Step 8: Compare All Models**\n",
        "# Eighth step: Compare results in a table and visualize.\n",
        "results = {\n",
        "    'Model': ['Rule-Based', 'Logistic Regression', 'SVM', 'Random Forest', 'Naive Bayes', 'Hybrid'],\n",
        "    'Accuracy': [acc_rule, acc_lr, acc_svm, acc_rf, acc_nb, acc_hybrid],\n",
        "    'Precision (macro)': [precision_score(y_test, pred, average='macro', zero_division=0) for pred in [y_pred_rule, y_pred_lr, y_pred_svm, y_pred_rf, y_pred_nb, y_pred_hybrid]],\n",
        "    'Recall (macro)': [recall_score(y_test, pred, average='macro', zero_division=0) for pred in [y_pred_rule, y_pred_lr, y_pred_svm, y_pred_rf, y_pred_nb, y_pred_hybrid]],\n",
        "    'F1-Score (macro)': [f1_score(y_test, pred, average='macro', zero_division=0) for pred in [y_pred_rule, y_pred_lr, y_pred_svm, y_pred_rf, y_pred_nb, y_pred_hybrid]]\n",
        "}\n",
        "\n",
        "results_df = pd.DataFrame(results)\n",
        "print(\"Step 8: Model Comparison:\")\n",
        "print(results_df)\n",
        "\n",
        "# Visualize\n",
        "plt.figure(figsize=(10, 6))\n",
        "plt.bar(results_df['Model'], results_df['Accuracy'])\n",
        "plt.xlabel('Models')\n",
        "plt.ylabel('Accuracy')\n",
        "plt.title('Model Performance Comparison')\n",
        "plt.xticks(rotation=45)\n",
        "plt.show()"
      ],
      "metadata": {
        "id": "aTer4aK_fkXD"
      },
      "id": "aTer4aK_fkXD",
      "execution_count": null,
      "outputs": []
    },
    {
      "cell_type": "code",
      "source": [
        "# **Step 9: Prediction Function for New Reviews**\n",
        "# Ninth (final) step: Function to predict on new inputs using optimized models.\n",
        "def predict_sentiment(new_review):\n",
        "    processed_review = preprocess_text(new_review)  # Apply same preprocessing\n",
        "    tfidf_vec = vectorizer.transform([processed_review])\n",
        "    rule_score = np.array([sia.polarity_scores(processed_review)['compound']]).reshape(-1, 1) * best_vader_weight\n",
        "    hybrid_vec = hstack((tfidf_vec, rule_score))\n",
        "\n",
        "    rule_pred = rule_based_sentiment(processed_review)\n",
        "    lr_pred = lr_model.predict(tfidf_vec)[0]\n",
        "    hybrid_pred = hybrid_model.predict(hybrid_vec)[0]\n",
        "\n",
        "    return {\n",
        "        'Rule-Based': le.inverse_transform([rule_pred])[0],\n",
        "        'Logistic Regression': le.inverse_transform([lr_pred])[0],\n",
        "        'Hybrid': le.inverse_transform([hybrid_pred])[0]\n",
        "    }\n",
        "\n",
        "# Test examples\n",
        "new_reviews = [\n",
        "    \"The battery life is amazing, lasts all day!\",\n",
        "    \"This product is terrible, broke after a week.\",\n",
        "    \"It's okay, nothing special but works fine.\",\n",
        "    \"False statements or representation\"\n",
        "]\n",
        "\n",
        "for review in new_reviews:\n",
        "    print(f\"\\nStep 9: Review: {review}\")\n",
        "    print(predict_sentiment(review))\n",
        "\n",
        "print(\"All steps completed!\")"
      ],
      "metadata": {
        "id": "jjFtSwgLUmOR"
      },
      "id": "jjFtSwgLUmOR",
      "execution_count": null,
      "outputs": []
    },
    {
      "cell_type": "markdown",
      "source": [
        "# Code 2\n",
        "### *Tune Hyperparameter*"
      ],
      "metadata": {
        "id": "D4NY30n5qURb"
      },
      "id": "D4NY30n5qURb"
    },
    {
      "cell_type": "code",
      "source": [
        "# **Step 1: Install Dependencies**\n",
        "# Install all required packages at the start.\n",
        "!pip install -q pandas numpy scikit-learn nltk textblob spacy transformers sentence-transformers wandb\n",
        "!python -m spacy download en_core_web_sm\n",
        "\n",
        "# Import libraries\n",
        "import nltk\n",
        "nltk.download('vader_lexicon')\n",
        "nltk.download('punkt')\n",
        "nltk.download('stopwords')\n",
        "\n",
        "import pandas as pd\n",
        "import numpy as np\n",
        "from sklearn.model_selection import train_test_split\n",
        "from sklearn.feature_extraction.text import TfidfVectorizer\n",
        "from sklearn.linear_model import LogisticRegression\n",
        "from sklearn.svm import SVC\n",
        "from sklearn.ensemble import RandomForestClassifier\n",
        "from sklearn.naive_bayes import MultinomialNB\n",
        "from sklearn.metrics import accuracy_score, precision_score, recall_score, f1_score, classification_report\n",
        "from nltk.sentiment.vader import SentimentIntensityAnalyzer\n",
        "from textblob import TextBlob\n",
        "import spacy\n",
        "from sklearn.preprocessing import LabelEncoder\n",
        "import matplotlib.pyplot as plt\n",
        "from scipy.sparse import hstack\n",
        "import wandb\n",
        "\n",
        "# Load spaCy and VADER\n",
        "nlp = spacy.load('en_core_web_sm')\n",
        "sia = SentimentIntensityAnalyzer()\n",
        "\n",
        "print(\"Step 1: Environment setup and dependencies installed!\")"
      ],
      "metadata": {
        "colab": {
          "base_uri": "https://localhost:8080/"
        },
        "id": "jIKxDZgWqoI9",
        "outputId": "e6ee2138-6c8c-4610-8001-2bf88f8a57ef"
      },
      "id": "jIKxDZgWqoI9",
      "execution_count": 1,
      "outputs": [
        {
          "output_type": "stream",
          "name": "stdout",
          "text": [
            "Collecting en-core-web-sm==3.8.0\n",
            "  Downloading https://github.com/explosion/spacy-models/releases/download/en_core_web_sm-3.8.0/en_core_web_sm-3.8.0-py3-none-any.whl (12.8 MB)\n",
            "\u001b[2K     \u001b[90m━━━━━━━━━━━━━━━━━━━━━━━━━━━━━━━━━━━━━━━━\u001b[0m \u001b[32m12.8/12.8 MB\u001b[0m \u001b[31m41.8 MB/s\u001b[0m eta \u001b[36m0:00:00\u001b[0m\n",
            "\u001b[?25h\u001b[38;5;2m✔ Download and installation successful\u001b[0m\n",
            "You can now load the package via spacy.load('en_core_web_sm')\n",
            "\u001b[38;5;3m⚠ Restart to reload dependencies\u001b[0m\n",
            "If you are in a Jupyter or Colab notebook, you may need to restart Python in\n",
            "order to load all the package's dependencies. You can do this by selecting the\n",
            "'Restart kernel' or 'Restart runtime' option.\n"
          ]
        },
        {
          "output_type": "stream",
          "name": "stderr",
          "text": [
            "[nltk_data] Downloading package vader_lexicon to /root/nltk_data...\n",
            "[nltk_data]   Package vader_lexicon is already up-to-date!\n",
            "[nltk_data] Downloading package punkt to /root/nltk_data...\n",
            "[nltk_data]   Package punkt is already up-to-date!\n",
            "[nltk_data] Downloading package stopwords to /root/nltk_data...\n",
            "[nltk_data]   Package stopwords is already up-to-date!\n"
          ]
        },
        {
          "output_type": "stream",
          "name": "stdout",
          "text": [
            "Step 1: Environment setup and dependencies installed!\n"
          ]
        }
      ]
    },
    {
      "cell_type": "code",
      "source": [
        "# **Step 2: Mount Google Drive and Load Dataset**\n",
        "# Connect to Google Drive and load the movie_review.csv dataset.\n",
        "from google.colab import drive\n",
        "drive.mount('/content/drive')\n",
        "\n",
        "# Load dataset (adjust path if needed)\n",
        "data_path = '/content/drive/MyDrive/Dataset/movie_review.csv'\n",
        "df = pd.read_csv(data_path)\n",
        "\n",
        "print(\"Step 2: Dataset loaded:\")\n",
        "print(df.head())\n",
        "print(f\"Shape: {df.shape}\")\n",
        "print(\"Sentiment distribution:\", df['tag'].value_counts())"
      ],
      "metadata": {
        "colab": {
          "base_uri": "https://localhost:8080/"
        },
        "id": "Ee8SIx2Rqru_",
        "outputId": "4f5dfb48-5f71-417d-c970-d7bc092bf9e7"
      },
      "id": "Ee8SIx2Rqru_",
      "execution_count": 2,
      "outputs": [
        {
          "output_type": "stream",
          "name": "stdout",
          "text": [
            "Drive already mounted at /content/drive; to attempt to forcibly remount, call drive.mount(\"/content/drive\", force_remount=True).\n",
            "Step 2: Dataset loaded:\n",
            "   fold_id cv_tag  html_id  sent_id  \\\n",
            "0        0  cv000    29590        0   \n",
            "1        0  cv000    29590        1   \n",
            "2        0  cv000    29590        2   \n",
            "3        0  cv000    29590        3   \n",
            "4        0  cv000    29590        4   \n",
            "\n",
            "                                                text  tag  \n",
            "0  films adapted from comic books have had plenty...  pos  \n",
            "1  for starters , it was created by alan moore ( ...  pos  \n",
            "2  to say moore and campbell thoroughly researche...  pos  \n",
            "3  the book ( or \" graphic novel , \" if you will ...  pos  \n",
            "4  in other words , don't dismiss this film becau...  pos  \n",
            "Shape: (64720, 6)\n",
            "Sentiment distribution: tag\n",
            "pos    32937\n",
            "neg    31783\n",
            "Name: count, dtype: int64\n"
          ]
        }
      ]
    },
    {
      "cell_type": "code",
      "source": [
        "# **Step 3: Data Preprocessing**\n",
        "# Select columns, handle NaNs, encode labels, and preprocess text with lemmatization.\n",
        "df = df[['text', 'tag']]\n",
        "df['text'] = df['text'].fillna(\"\")\n",
        "df['tag'] = df['tag'].fillna(\"\")\n",
        "\n",
        "# Lemmatization for better feature quality\n",
        "def preprocess_text(text):\n",
        "    doc = nlp(text)\n",
        "    tokens = [token.lemma_.lower() for token in doc if not token.is_punct and not token.is_stop]\n",
        "    return ' '.join(tokens)\n",
        "\n",
        "df['text'] = df['text'].apply(preprocess_text)\n",
        "\n",
        "# Encode labels\n",
        "le = LabelEncoder()\n",
        "df['issue_encoded'] = le.fit_transform(df['tag'])\n",
        "print(\"Encoded classes:\", le.classes_)\n",
        "\n",
        "# Train-test split\n",
        "X = df['text']\n",
        "y = df['issue_encoded']\n",
        "X_train, X_test, y_train, y_test = train_test_split(X, y, test_size=0.2, random_state=42)\n",
        "\n",
        "print(\"Step 3: Data preprocessed. Train shape:\", X_train.shape, \"Test shape:\", X_test.shape)\n",
        "print(\"Train set distribution:\\n\", pd.Series(y_train).value_counts())\n",
        "print(\"Test set distribution:\\n\", pd.Series(y_test).value_counts())"
      ],
      "metadata": {
        "colab": {
          "base_uri": "https://localhost:8080/"
        },
        "id": "mbFsfChlqvCf",
        "outputId": "b3145fa9-2d5a-49f2-e59c-56fe98c8de1d"
      },
      "id": "mbFsfChlqvCf",
      "execution_count": 3,
      "outputs": [
        {
          "output_type": "stream",
          "name": "stdout",
          "text": [
            "Encoded classes: ['neg' 'pos']\n",
            "Step 3: Data preprocessed. Train shape: (51776,) Test shape: (12944,)\n",
            "Train set distribution:\n",
            " issue_encoded\n",
            "1    26364\n",
            "0    25412\n",
            "Name: count, dtype: int64\n",
            "Test set distribution:\n",
            " issue_encoded\n",
            "1    6573\n",
            "0    6371\n",
            "Name: count, dtype: int64\n"
          ]
        }
      ]
    },
    {
      "cell_type": "code",
      "source": [
        "# **Step 4: Rule-Based Model**\n",
        "# Define and evaluate VADER + spaCy negation model.\n",
        "def rule_based_sentiment(text):\n",
        "    vader_score = sia.polarity_scores(text)['compound']\n",
        "    doc = nlp(text)\n",
        "    negation = any(token.dep_ == 'neg' for token in doc)\n",
        "    if negation and vader_score > 0:\n",
        "        return 0  # Negative\n",
        "    elif vader_score > 0.1:\n",
        "        return 1  # Positive\n",
        "    elif vader_score < -0.1:\n",
        "        return 0  # Negative\n",
        "    else:\n",
        "        return 1 if vader_score >= 0 else 0\n",
        "\n",
        "y_pred_rule = [rule_based_sentiment(text) for text in X_test]\n",
        "acc_rule = accuracy_score(y_test, y_pred_rule)\n",
        "print(\"Step 4: Rule-Based Evaluation:\")\n",
        "print(classification_report(y_test, y_pred_rule, target_names=le.classes_, zero_division=0))"
      ],
      "metadata": {
        "colab": {
          "base_uri": "https://localhost:8080/"
        },
        "id": "34M2GlMaqys2",
        "outputId": "36a08860-1d06-451f-97a3-fe7f3e32286f"
      },
      "id": "34M2GlMaqys2",
      "execution_count": 4,
      "outputs": [
        {
          "output_type": "stream",
          "name": "stdout",
          "text": [
            "Step 4: Rule-Based Evaluation:\n",
            "              precision    recall  f1-score   support\n",
            "\n",
            "         neg       0.54      0.34      0.42      6371\n",
            "         pos       0.53      0.72      0.61      6573\n",
            "\n",
            "    accuracy                           0.53     12944\n",
            "   macro avg       0.54      0.53      0.52     12944\n",
            "weighted avg       0.54      0.53      0.52     12944\n",
            "\n"
          ]
        }
      ]
    },
    {
      "cell_type": "code",
      "source": [
        "# **Step 5: Hyperparameter Tuning with W&B Sweeps**\n",
        "# Configure and run sweeps to optimize TF-IDF and Logistic Regression/Hybrid.\n",
        "# Fixed: ngram_range uses tuples instead of lists.\n",
        "wandb.login()  # Log in with your API key\n",
        "\n",
        "sweep_config = {\n",
        "    'method': 'bayes',\n",
        "    'name': 'movie_review_sweep_lr_hybrid',\n",
        "    'metric': {'name': 'test_accuracy_hybrid', 'goal': 'maximize'},\n",
        "    'parameters': {\n",
        "        'max_features': {'values': [2000, 5000, 10000]},\n",
        "        'ngram_range': {'values': [(1,1), (1,2), (1,3)]},  # Fixed: tuples\n",
        "        'min_df': {'values': [1, 2, 5]},\n",
        "        'C': {'distribution': 'uniform', 'min': 0.1, 'max': 10.0},\n",
        "        'solver': {'values': ['liblinear', 'lbfgs']},\n",
        "        'vader_weight': {'distribution': 'uniform', 'min': 0.5, 'max': 2.0}\n",
        "    },\n",
        "    'early_terminate': {'type': 'hyperband', 'min_iter': 3}\n",
        "}\n",
        "\n",
        "def train_sweep():\n",
        "    run = wandb.init()\n",
        "    config = wandb.config\n",
        "\n",
        "    # Vectorizer\n",
        "    vectorizer = TfidfVectorizer(ngram_range=config.ngram_range, stop_words='english',\n",
        "                                 max_features=config.max_features, min_df=config.min_df)\n",
        "    X_train_tfidf = vectorizer.fit_transform(X_train)\n",
        "    X_test_tfidf = vectorizer.transform(X_test)\n",
        "\n",
        "    # VADER scores (scaled)\n",
        "    rule_scores_train = np.array([sia.polarity_scores(text)['compound'] for text in X_train]).reshape(-1, 1) * config.vader_weight\n",
        "    rule_scores_test = np.array([sia.polarity_scores(text)['compound'] for text in X_test]).reshape(-1, 1) * config.vader_weight\n",
        "\n",
        "    # Hybrid features\n",
        "    X_train_hybrid = hstack((X_train_tfidf, rule_scores_train))\n",
        "    X_test_hybrid = hstack((X_test_tfidf, rule_scores_test))\n",
        "\n",
        "    # Logistic Regression\n",
        "    lr_model = LogisticRegression(max_iter=1000, C=config.C, solver=config.solver)\n",
        "    lr_model.fit(X_train_tfidf, y_train)\n",
        "    y_pred_lr = lr_model.predict(X_test_tfidf)\n",
        "    acc_lr = accuracy_score(y_test, y_pred_lr)\n",
        "    lr_report = classification_report(y_test, y_pred_lr, target_names=le.classes_, zero_division=0, output_dict=True)\n",
        "\n",
        "    # Hybrid\n",
        "    hybrid_model = LogisticRegression(max_iter=1000, C=config.C, solver=config.solver)\n",
        "    hybrid_model.fit(X_train_hybrid, y_train)\n",
        "    y_pred_hybrid = hybrid_model.predict(X_test_hybrid)\n",
        "    acc_hybrid = accuracy_score(y_test, y_pred_hybrid)\n",
        "    hybrid_report = classification_report(y_test, y_pred_hybrid, target_names=le.classes_, zero_division=0, output_dict=True)\n",
        "\n",
        "    # Log metrics\n",
        "    wandb.log({\n",
        "        'test_accuracy_lr': acc_lr,\n",
        "        'test_accuracy_hybrid': acc_hybrid,\n",
        "        'test_precision_lr': lr_report['weighted avg']['precision'],\n",
        "        'test_recall_lr': lr_report['weighted avg']['recall'],\n",
        "        'test_f1_lr': lr_report['weighted avg']['f1-score'],\n",
        "        'test_precision_hybrid': hybrid_report['weighted avg']['precision'],\n",
        "        'test_recall_hybrid': hybrid_report['weighted avg']['recall'],\n",
        "        'test_f1_hybrid': hybrid_report['weighted avg']['f1-score']\n",
        "    })\n",
        "    print(f\"Run with C={config.C}, max_features={config.max_features}, ngram_range={config.ngram_range}\")\n",
        "    print(f\"LR Accuracy: {acc_lr}\")\n",
        "    print(f\"Hybrid Accuracy: {acc_hybrid}\")\n",
        "    print(\"Logistic Regression Report:\")\n",
        "    print(classification_report(y_test, y_pred_lr, target_names=le.classes_, zero_division=0))\n",
        "    print(\"Hybrid Model Report:\")\n",
        "    print(classification_report(y_test, y_pred_hybrid, target_names=le.classes_, zero_division=0))\n",
        "\n",
        "    run.finish()\n",
        "\n",
        "# Initialize and run sweep\n",
        "sweep_id = wandb.sweep(sweep=sweep_config, project='movie_review_tuning')\n",
        "wandb.agent(sweep_id, function=train_sweep, count=20)\n",
        "\n",
        "print(\"Step 5: Hyperparameter tuning completed. Check W&B dashboard for best params!\")"
      ],
      "metadata": {
        "colab": {
          "base_uri": "https://localhost:8080/",
          "height": 1000
        },
        "id": "q7ILnh4fq3hy",
        "outputId": "4a383c7a-af52-4aec-c332-b517537b55a3"
      },
      "id": "q7ILnh4fq3hy",
      "execution_count": 5,
      "outputs": [
        {
          "output_type": "stream",
          "name": "stderr",
          "text": [
            "\u001b[34m\u001b[1mwandb\u001b[0m: Currently logged in as: \u001b[33mkrmfahith\u001b[0m (\u001b[33mkrmfaahith\u001b[0m) to \u001b[32mhttps://api.wandb.ai\u001b[0m. Use \u001b[1m`wandb login --relogin`\u001b[0m to force relogin\n"
          ]
        },
        {
          "output_type": "stream",
          "name": "stdout",
          "text": [
            "Create sweep with ID: 7rbs4twg\n",
            "Sweep URL: https://wandb.ai/krmfaahith/movie_review_tuning/sweeps/7rbs4twg\n"
          ]
        },
        {
          "output_type": "stream",
          "name": "stderr",
          "text": [
            "\u001b[34m\u001b[1mwandb\u001b[0m: Agent Starting Run: 2htd5iui with config:\n",
            "\u001b[34m\u001b[1mwandb\u001b[0m: \tC: 2.881880275717074\n",
            "\u001b[34m\u001b[1mwandb\u001b[0m: \tmax_features: 2000\n",
            "\u001b[34m\u001b[1mwandb\u001b[0m: \tmin_df: 1\n",
            "\u001b[34m\u001b[1mwandb\u001b[0m: \tngram_range: [1, 3]\n",
            "\u001b[34m\u001b[1mwandb\u001b[0m: \tsolver: lbfgs\n",
            "\u001b[34m\u001b[1mwandb\u001b[0m: \tvader_weight: 1.3012761402857902\n"
          ]
        },
        {
          "output_type": "display_data",
          "data": {
            "text/plain": [
              "<IPython.core.display.HTML object>"
            ],
            "text/html": []
          },
          "metadata": {}
        },
        {
          "output_type": "display_data",
          "data": {
            "text/plain": [
              "<IPython.core.display.HTML object>"
            ],
            "text/html": [
              "Tracking run with wandb version 0.21.4"
            ]
          },
          "metadata": {}
        },
        {
          "output_type": "display_data",
          "data": {
            "text/plain": [
              "<IPython.core.display.HTML object>"
            ],
            "text/html": [
              "Run data is saved locally in <code>/content/wandb/run-20250924_171933-2htd5iui</code>"
            ]
          },
          "metadata": {}
        },
        {
          "output_type": "display_data",
          "data": {
            "text/plain": [
              "<IPython.core.display.HTML object>"
            ],
            "text/html": [
              "Syncing run <strong><a href='https://wandb.ai/krmfaahith/movie_review_tuning/runs/2htd5iui' target=\"_blank\">kind-sweep-1</a></strong> to <a href='https://wandb.ai/krmfaahith/movie_review_tuning' target=\"_blank\">Weights & Biases</a> (<a href='https://wandb.me/developer-guide' target=\"_blank\">docs</a>)<br>Sweep page: <a href='https://wandb.ai/krmfaahith/movie_review_tuning/sweeps/7rbs4twg' target=\"_blank\">https://wandb.ai/krmfaahith/movie_review_tuning/sweeps/7rbs4twg</a>"
            ]
          },
          "metadata": {}
        },
        {
          "output_type": "display_data",
          "data": {
            "text/plain": [
              "<IPython.core.display.HTML object>"
            ],
            "text/html": [
              " View project at <a href='https://wandb.ai/krmfaahith/movie_review_tuning' target=\"_blank\">https://wandb.ai/krmfaahith/movie_review_tuning</a>"
            ]
          },
          "metadata": {}
        },
        {
          "output_type": "display_data",
          "data": {
            "text/plain": [
              "<IPython.core.display.HTML object>"
            ],
            "text/html": [
              " View sweep at <a href='https://wandb.ai/krmfaahith/movie_review_tuning/sweeps/7rbs4twg' target=\"_blank\">https://wandb.ai/krmfaahith/movie_review_tuning/sweeps/7rbs4twg</a>"
            ]
          },
          "metadata": {}
        },
        {
          "output_type": "display_data",
          "data": {
            "text/plain": [
              "<IPython.core.display.HTML object>"
            ],
            "text/html": [
              " View run at <a href='https://wandb.ai/krmfaahith/movie_review_tuning/runs/2htd5iui' target=\"_blank\">https://wandb.ai/krmfaahith/movie_review_tuning/runs/2htd5iui</a>"
            ]
          },
          "metadata": {}
        },
        {
          "output_type": "stream",
          "name": "stderr",
          "text": [
            "Traceback (most recent call last):\n",
            "  File \"/usr/local/lib/python3.12/dist-packages/wandb/agents/pyagent.py\", line 297, in _run_job\n",
            "    self._function()\n",
            "  File \"/tmp/ipython-input-615664361.py\", line 28, in train_sweep\n",
            "    X_train_tfidf = vectorizer.fit_transform(X_train)\n",
            "                    ^^^^^^^^^^^^^^^^^^^^^^^^^^^^^^^^^\n",
            "  File \"/usr/local/lib/python3.12/dist-packages/sklearn/feature_extraction/text.py\", line 2104, in fit_transform\n",
            "    X = super().fit_transform(raw_documents)\n",
            "        ^^^^^^^^^^^^^^^^^^^^^^^^^^^^^^^^^^^^\n",
            "  File \"/usr/local/lib/python3.12/dist-packages/sklearn/base.py\", line 1382, in wrapper\n",
            "    estimator._validate_params()\n",
            "  File \"/usr/local/lib/python3.12/dist-packages/sklearn/base.py\", line 436, in _validate_params\n",
            "    validate_parameter_constraints(\n",
            "  File \"/usr/local/lib/python3.12/dist-packages/sklearn/utils/_param_validation.py\", line 98, in validate_parameter_constraints\n",
            "    raise InvalidParameterError(\n",
            "sklearn.utils._param_validation.InvalidParameterError: The 'ngram_range' parameter of TfidfVectorizer must be an instance of 'tuple'. Got [1, 3] instead.\n",
            "\n"
          ]
        },
        {
          "output_type": "display_data",
          "data": {
            "text/plain": [
              "<IPython.core.display.HTML object>"
            ],
            "text/html": []
          },
          "metadata": {}
        },
        {
          "output_type": "display_data",
          "data": {
            "text/plain": [
              "<IPython.core.display.HTML object>"
            ],
            "text/html": [
              " View run <strong style=\"color:#cdcd00\">kind-sweep-1</strong> at: <a href='https://wandb.ai/krmfaahith/movie_review_tuning/runs/2htd5iui' target=\"_blank\">https://wandb.ai/krmfaahith/movie_review_tuning/runs/2htd5iui</a><br> View project at: <a href='https://wandb.ai/krmfaahith/movie_review_tuning' target=\"_blank\">https://wandb.ai/krmfaahith/movie_review_tuning</a><br>Synced 5 W&B file(s), 0 media file(s), 0 artifact file(s) and 0 other file(s)"
            ]
          },
          "metadata": {}
        },
        {
          "output_type": "display_data",
          "data": {
            "text/plain": [
              "<IPython.core.display.HTML object>"
            ],
            "text/html": [
              "Find logs at: <code>./wandb/run-20250924_171933-2htd5iui/logs</code>"
            ]
          },
          "metadata": {}
        },
        {
          "output_type": "stream",
          "name": "stderr",
          "text": [
            "\u001b[34m\u001b[1mwandb\u001b[0m: \u001b[32m\u001b[41mERROR\u001b[0m Run 2htd5iui errored: The 'ngram_range' parameter of TfidfVectorizer must be an instance of 'tuple'. Got [1, 3] instead.\n",
            "\u001b[34m\u001b[1mwandb\u001b[0m: Agent Starting Run: 8kdw8ufd with config:\n",
            "\u001b[34m\u001b[1mwandb\u001b[0m: \tC: 1.0637100028681252\n",
            "\u001b[34m\u001b[1mwandb\u001b[0m: \tmax_features: 2000\n",
            "\u001b[34m\u001b[1mwandb\u001b[0m: \tmin_df: 2\n",
            "\u001b[34m\u001b[1mwandb\u001b[0m: \tngram_range: [1, 2]\n",
            "\u001b[34m\u001b[1mwandb\u001b[0m: \tsolver: liblinear\n",
            "\u001b[34m\u001b[1mwandb\u001b[0m: \tvader_weight: 1.501771924602397\n"
          ]
        },
        {
          "output_type": "display_data",
          "data": {
            "text/plain": [
              "<IPython.core.display.HTML object>"
            ],
            "text/html": []
          },
          "metadata": {}
        },
        {
          "output_type": "display_data",
          "data": {
            "text/plain": [
              "<IPython.core.display.HTML object>"
            ],
            "text/html": [
              "Tracking run with wandb version 0.21.4"
            ]
          },
          "metadata": {}
        },
        {
          "output_type": "display_data",
          "data": {
            "text/plain": [
              "<IPython.core.display.HTML object>"
            ],
            "text/html": [
              "Run data is saved locally in <code>/content/wandb/run-20250924_171939-8kdw8ufd</code>"
            ]
          },
          "metadata": {}
        },
        {
          "output_type": "display_data",
          "data": {
            "text/plain": [
              "<IPython.core.display.HTML object>"
            ],
            "text/html": [
              "Syncing run <strong><a href='https://wandb.ai/krmfaahith/movie_review_tuning/runs/8kdw8ufd' target=\"_blank\">denim-sweep-2</a></strong> to <a href='https://wandb.ai/krmfaahith/movie_review_tuning' target=\"_blank\">Weights & Biases</a> (<a href='https://wandb.me/developer-guide' target=\"_blank\">docs</a>)<br>Sweep page: <a href='https://wandb.ai/krmfaahith/movie_review_tuning/sweeps/7rbs4twg' target=\"_blank\">https://wandb.ai/krmfaahith/movie_review_tuning/sweeps/7rbs4twg</a>"
            ]
          },
          "metadata": {}
        },
        {
          "output_type": "display_data",
          "data": {
            "text/plain": [
              "<IPython.core.display.HTML object>"
            ],
            "text/html": [
              " View project at <a href='https://wandb.ai/krmfaahith/movie_review_tuning' target=\"_blank\">https://wandb.ai/krmfaahith/movie_review_tuning</a>"
            ]
          },
          "metadata": {}
        },
        {
          "output_type": "display_data",
          "data": {
            "text/plain": [
              "<IPython.core.display.HTML object>"
            ],
            "text/html": [
              " View sweep at <a href='https://wandb.ai/krmfaahith/movie_review_tuning/sweeps/7rbs4twg' target=\"_blank\">https://wandb.ai/krmfaahith/movie_review_tuning/sweeps/7rbs4twg</a>"
            ]
          },
          "metadata": {}
        },
        {
          "output_type": "display_data",
          "data": {
            "text/plain": [
              "<IPython.core.display.HTML object>"
            ],
            "text/html": [
              " View run at <a href='https://wandb.ai/krmfaahith/movie_review_tuning/runs/8kdw8ufd' target=\"_blank\">https://wandb.ai/krmfaahith/movie_review_tuning/runs/8kdw8ufd</a>"
            ]
          },
          "metadata": {}
        },
        {
          "output_type": "stream",
          "name": "stderr",
          "text": [
            "Traceback (most recent call last):\n",
            "  File \"/usr/local/lib/python3.12/dist-packages/wandb/agents/pyagent.py\", line 297, in _run_job\n",
            "    self._function()\n",
            "  File \"/tmp/ipython-input-615664361.py\", line 28, in train_sweep\n",
            "    X_train_tfidf = vectorizer.fit_transform(X_train)\n",
            "                    ^^^^^^^^^^^^^^^^^^^^^^^^^^^^^^^^^\n",
            "  File \"/usr/local/lib/python3.12/dist-packages/sklearn/feature_extraction/text.py\", line 2104, in fit_transform\n",
            "    X = super().fit_transform(raw_documents)\n",
            "        ^^^^^^^^^^^^^^^^^^^^^^^^^^^^^^^^^^^^\n",
            "  File \"/usr/local/lib/python3.12/dist-packages/sklearn/base.py\", line 1382, in wrapper\n",
            "    estimator._validate_params()\n",
            "  File \"/usr/local/lib/python3.12/dist-packages/sklearn/base.py\", line 436, in _validate_params\n",
            "    validate_parameter_constraints(\n",
            "  File \"/usr/local/lib/python3.12/dist-packages/sklearn/utils/_param_validation.py\", line 98, in validate_parameter_constraints\n",
            "    raise InvalidParameterError(\n",
            "sklearn.utils._param_validation.InvalidParameterError: The 'ngram_range' parameter of TfidfVectorizer must be an instance of 'tuple'. Got [1, 2] instead.\n",
            "\n"
          ]
        },
        {
          "output_type": "display_data",
          "data": {
            "text/plain": [
              "<IPython.core.display.HTML object>"
            ],
            "text/html": []
          },
          "metadata": {}
        },
        {
          "output_type": "display_data",
          "data": {
            "text/plain": [
              "<IPython.core.display.HTML object>"
            ],
            "text/html": [
              " View run <strong style=\"color:#cdcd00\">denim-sweep-2</strong> at: <a href='https://wandb.ai/krmfaahith/movie_review_tuning/runs/8kdw8ufd' target=\"_blank\">https://wandb.ai/krmfaahith/movie_review_tuning/runs/8kdw8ufd</a><br> View project at: <a href='https://wandb.ai/krmfaahith/movie_review_tuning' target=\"_blank\">https://wandb.ai/krmfaahith/movie_review_tuning</a><br>Synced 5 W&B file(s), 0 media file(s), 0 artifact file(s) and 0 other file(s)"
            ]
          },
          "metadata": {}
        },
        {
          "output_type": "display_data",
          "data": {
            "text/plain": [
              "<IPython.core.display.HTML object>"
            ],
            "text/html": [
              "Find logs at: <code>./wandb/run-20250924_171939-8kdw8ufd/logs</code>"
            ]
          },
          "metadata": {}
        },
        {
          "output_type": "stream",
          "name": "stderr",
          "text": [
            "\u001b[34m\u001b[1mwandb\u001b[0m: \u001b[32m\u001b[41mERROR\u001b[0m Run 8kdw8ufd errored: The 'ngram_range' parameter of TfidfVectorizer must be an instance of 'tuple'. Got [1, 2] instead.\n",
            "\u001b[34m\u001b[1mwandb\u001b[0m: Agent Starting Run: 81k1pd0t with config:\n",
            "\u001b[34m\u001b[1mwandb\u001b[0m: \tC: 1.5660012618111538\n",
            "\u001b[34m\u001b[1mwandb\u001b[0m: \tmax_features: 2000\n",
            "\u001b[34m\u001b[1mwandb\u001b[0m: \tmin_df: 2\n",
            "\u001b[34m\u001b[1mwandb\u001b[0m: \tngram_range: [1, 3]\n",
            "\u001b[34m\u001b[1mwandb\u001b[0m: \tsolver: liblinear\n",
            "\u001b[34m\u001b[1mwandb\u001b[0m: \tvader_weight: 0.5874020283173036\n"
          ]
        },
        {
          "output_type": "display_data",
          "data": {
            "text/plain": [
              "<IPython.core.display.HTML object>"
            ],
            "text/html": []
          },
          "metadata": {}
        },
        {
          "output_type": "display_data",
          "data": {
            "text/plain": [
              "<IPython.core.display.HTML object>"
            ],
            "text/html": [
              "Tracking run with wandb version 0.21.4"
            ]
          },
          "metadata": {}
        },
        {
          "output_type": "display_data",
          "data": {
            "text/plain": [
              "<IPython.core.display.HTML object>"
            ],
            "text/html": [
              "Run data is saved locally in <code>/content/wandb/run-20250924_171944-81k1pd0t</code>"
            ]
          },
          "metadata": {}
        },
        {
          "output_type": "display_data",
          "data": {
            "text/plain": [
              "<IPython.core.display.HTML object>"
            ],
            "text/html": [
              "Syncing run <strong><a href='https://wandb.ai/krmfaahith/movie_review_tuning/runs/81k1pd0t' target=\"_blank\">sandy-sweep-3</a></strong> to <a href='https://wandb.ai/krmfaahith/movie_review_tuning' target=\"_blank\">Weights & Biases</a> (<a href='https://wandb.me/developer-guide' target=\"_blank\">docs</a>)<br>Sweep page: <a href='https://wandb.ai/krmfaahith/movie_review_tuning/sweeps/7rbs4twg' target=\"_blank\">https://wandb.ai/krmfaahith/movie_review_tuning/sweeps/7rbs4twg</a>"
            ]
          },
          "metadata": {}
        },
        {
          "output_type": "display_data",
          "data": {
            "text/plain": [
              "<IPython.core.display.HTML object>"
            ],
            "text/html": [
              " View project at <a href='https://wandb.ai/krmfaahith/movie_review_tuning' target=\"_blank\">https://wandb.ai/krmfaahith/movie_review_tuning</a>"
            ]
          },
          "metadata": {}
        },
        {
          "output_type": "display_data",
          "data": {
            "text/plain": [
              "<IPython.core.display.HTML object>"
            ],
            "text/html": [
              " View sweep at <a href='https://wandb.ai/krmfaahith/movie_review_tuning/sweeps/7rbs4twg' target=\"_blank\">https://wandb.ai/krmfaahith/movie_review_tuning/sweeps/7rbs4twg</a>"
            ]
          },
          "metadata": {}
        },
        {
          "output_type": "display_data",
          "data": {
            "text/plain": [
              "<IPython.core.display.HTML object>"
            ],
            "text/html": [
              " View run at <a href='https://wandb.ai/krmfaahith/movie_review_tuning/runs/81k1pd0t' target=\"_blank\">https://wandb.ai/krmfaahith/movie_review_tuning/runs/81k1pd0t</a>"
            ]
          },
          "metadata": {}
        },
        {
          "output_type": "stream",
          "name": "stderr",
          "text": [
            "Traceback (most recent call last):\n",
            "  File \"/usr/local/lib/python3.12/dist-packages/wandb/agents/pyagent.py\", line 297, in _run_job\n",
            "    self._function()\n",
            "  File \"/tmp/ipython-input-615664361.py\", line 28, in train_sweep\n",
            "    X_train_tfidf = vectorizer.fit_transform(X_train)\n",
            "                    ^^^^^^^^^^^^^^^^^^^^^^^^^^^^^^^^^\n",
            "  File \"/usr/local/lib/python3.12/dist-packages/sklearn/feature_extraction/text.py\", line 2104, in fit_transform\n",
            "    X = super().fit_transform(raw_documents)\n",
            "        ^^^^^^^^^^^^^^^^^^^^^^^^^^^^^^^^^^^^\n",
            "  File \"/usr/local/lib/python3.12/dist-packages/sklearn/base.py\", line 1382, in wrapper\n",
            "    estimator._validate_params()\n",
            "  File \"/usr/local/lib/python3.12/dist-packages/sklearn/base.py\", line 436, in _validate_params\n",
            "    validate_parameter_constraints(\n",
            "  File \"/usr/local/lib/python3.12/dist-packages/sklearn/utils/_param_validation.py\", line 98, in validate_parameter_constraints\n",
            "    raise InvalidParameterError(\n",
            "sklearn.utils._param_validation.InvalidParameterError: The 'ngram_range' parameter of TfidfVectorizer must be an instance of 'tuple'. Got [1, 3] instead.\n",
            "\n"
          ]
        },
        {
          "output_type": "display_data",
          "data": {
            "text/plain": [
              "<IPython.core.display.HTML object>"
            ],
            "text/html": []
          },
          "metadata": {}
        },
        {
          "output_type": "display_data",
          "data": {
            "text/plain": [
              "<IPython.core.display.HTML object>"
            ],
            "text/html": [
              " View run <strong style=\"color:#cdcd00\">sandy-sweep-3</strong> at: <a href='https://wandb.ai/krmfaahith/movie_review_tuning/runs/81k1pd0t' target=\"_blank\">https://wandb.ai/krmfaahith/movie_review_tuning/runs/81k1pd0t</a><br> View project at: <a href='https://wandb.ai/krmfaahith/movie_review_tuning' target=\"_blank\">https://wandb.ai/krmfaahith/movie_review_tuning</a><br>Synced 5 W&B file(s), 0 media file(s), 0 artifact file(s) and 0 other file(s)"
            ]
          },
          "metadata": {}
        },
        {
          "output_type": "display_data",
          "data": {
            "text/plain": [
              "<IPython.core.display.HTML object>"
            ],
            "text/html": [
              "Find logs at: <code>./wandb/run-20250924_171944-81k1pd0t/logs</code>"
            ]
          },
          "metadata": {}
        },
        {
          "output_type": "stream",
          "name": "stderr",
          "text": [
            "\u001b[34m\u001b[1mwandb\u001b[0m: \u001b[32m\u001b[41mERROR\u001b[0m Run 81k1pd0t errored: The 'ngram_range' parameter of TfidfVectorizer must be an instance of 'tuple'. Got [1, 3] instead.\n",
            "\u001b[34m\u001b[1mwandb\u001b[0m: \u001b[32m\u001b[41mERROR\u001b[0m Detected 3 failed runs in the first 60 seconds, killing sweep.\n",
            "\u001b[34m\u001b[1mwandb\u001b[0m: To disable this check set WANDB_AGENT_DISABLE_FLAPPING=true\n"
          ]
        },
        {
          "output_type": "stream",
          "name": "stdout",
          "text": [
            "Step 5: Hyperparameter tuning completed. Check W&B dashboard for best params!\n"
          ]
        }
      ]
    },
    {
      "cell_type": "code",
      "source": [
        "# **Step 6: Train ML Models with Best Hyperparameters**\n",
        "# Use best params from sweeps (placeholders; replace with actual after Step 5).\n",
        "# Example values based on typical good configs.\n",
        "best_max_features = 5000  # Update from W&B\n",
        "best_ngram_range = (1, 2)\n",
        "best_min_df = 2\n",
        "best_C = 2.5\n",
        "best_solver = 'liblinear'\n",
        "best_vader_weight = 1.2\n",
        "\n",
        "vectorizer = TfidfVectorizer(ngram_range=best_ngram_range, stop_words='english',\n",
        "                             max_features=best_max_features, min_df=best_min_df)\n",
        "X_train_tfidf = vectorizer.fit_transform(X_train)\n",
        "X_test_tfidf = vectorizer.transform(X_test)\n",
        "\n",
        "# Logistic Regression\n",
        "lr_model = LogisticRegression(max_iter=1000, C=best_C, solver=best_solver)\n",
        "lr_model.fit(X_train_tfidf, y_train)\n",
        "y_pred_lr = lr_model.predict(X_test_tfidf)\n",
        "acc_lr = accuracy_score(y_test, y_pred_lr)\n",
        "print(\"Step 6: Logistic Regression Evaluation:\")\n",
        "print(classification_report(y_test, y_pred_lr, target_names=le.classes_, zero_division=0))"
      ],
      "metadata": {
        "colab": {
          "base_uri": "https://localhost:8080/"
        },
        "id": "WlEJeUOMq7VQ",
        "outputId": "fc58968e-0562-4cb8-ebb3-ec6315c5ef0f"
      },
      "id": "WlEJeUOMq7VQ",
      "execution_count": 7,
      "outputs": [
        {
          "output_type": "stream",
          "name": "stdout",
          "text": [
            "Step 6: Logistic Regression Evaluation:\n",
            "              precision    recall  f1-score   support\n",
            "\n",
            "         neg       0.66      0.66      0.66      6371\n",
            "         pos       0.67      0.67      0.67      6573\n",
            "\n",
            "    accuracy                           0.66     12944\n",
            "   macro avg       0.66      0.66      0.66     12944\n",
            "weighted avg       0.66      0.66      0.66     12944\n",
            "\n"
          ]
        }
      ]
    },
    {
      "cell_type": "code",
      "source": [
        "# Naive Bayes\n",
        "nb_model = MultinomialNB(alpha=0.5)\n",
        "nb_model.fit(X_train_tfidf, y_train)\n",
        "y_pred_nb = nb_model.predict(X_test_tfidf)\n",
        "acc_nb = accuracy_score(y_test, y_pred_nb)\n",
        "print(\"Naive Bayes Evaluation:\")\n",
        "print(classification_report(y_test, y_pred_nb, target_names=le.classes_, zero_division=0))"
      ],
      "metadata": {
        "id": "hXf53-xp0caX",
        "outputId": "ad65dd29-5a78-48f9-a986-7ea060490f08",
        "colab": {
          "base_uri": "https://localhost:8080/"
        }
      },
      "id": "hXf53-xp0caX",
      "execution_count": 8,
      "outputs": [
        {
          "output_type": "stream",
          "name": "stdout",
          "text": [
            "Naive Bayes Evaluation:\n",
            "              precision    recall  f1-score   support\n",
            "\n",
            "         neg       0.66      0.62      0.64      6371\n",
            "         pos       0.66      0.70      0.67      6573\n",
            "\n",
            "    accuracy                           0.66     12944\n",
            "   macro avg       0.66      0.66      0.66     12944\n",
            "weighted avg       0.66      0.66      0.66     12944\n",
            "\n"
          ]
        }
      ]
    },
    {
      "cell_type": "code",
      "source": [
        "# Random Forest\n",
        "rf_model = RandomForestClassifier(n_estimators=100, random_state=42, max_depth=10)\n",
        "rf_model.fit(X_train_tfidf, y_train)\n",
        "y_pred_rf = rf_model.predict(X_test_tfidf)\n",
        "acc_rf = accuracy_score(y_test, y_pred_rf)\n",
        "print(\"Random Forest Evaluation:\")\n",
        "print(classification_report(y_test, y_pred_rf, target_names=le.classes_, zero_division=0))"
      ],
      "metadata": {
        "id": "f0Yy3BDO0g4Y",
        "outputId": "28868c1e-36c4-4440-d806-ea3b22e2c8f0",
        "colab": {
          "base_uri": "https://localhost:8080/"
        }
      },
      "id": "f0Yy3BDO0g4Y",
      "execution_count": 9,
      "outputs": [
        {
          "output_type": "stream",
          "name": "stdout",
          "text": [
            "Random Forest Evaluation:\n",
            "              precision    recall  f1-score   support\n",
            "\n",
            "         neg       0.74      0.18      0.29      6371\n",
            "         pos       0.54      0.94      0.69      6573\n",
            "\n",
            "    accuracy                           0.57     12944\n",
            "   macro avg       0.64      0.56      0.49     12944\n",
            "weighted avg       0.64      0.57      0.49     12944\n",
            "\n"
          ]
        }
      ]
    },
    {
      "cell_type": "code",
      "source": [
        "# SVM\n",
        "svm_model = SVC(kernel='linear', C=best_C)\n",
        "svm_model.fit(X_train_tfidf, y_train)\n",
        "y_pred_svm = svm_model.predict(X_test_tfidf)\n",
        "acc_svm = accuracy_score(y_test, y_pred_svm)\n",
        "print(\"SVM Evaluation:\")\n",
        "print(classification_report(y_test, y_pred_svm, target_names=le.classes_, zero_division=0))"
      ],
      "metadata": {
        "id": "gGxj7sA-0YuA",
        "outputId": "33fea7d5-e777-4891-ce48-054cd0f54a3d",
        "colab": {
          "base_uri": "https://localhost:8080/"
        }
      },
      "id": "gGxj7sA-0YuA",
      "execution_count": 10,
      "outputs": [
        {
          "output_type": "stream",
          "name": "stdout",
          "text": [
            "SVM Evaluation:\n",
            "              precision    recall  f1-score   support\n",
            "\n",
            "         neg       0.65      0.66      0.66      6371\n",
            "         pos       0.67      0.65      0.66      6573\n",
            "\n",
            "    accuracy                           0.66     12944\n",
            "   macro avg       0.66      0.66      0.66     12944\n",
            "weighted avg       0.66      0.66      0.66     12944\n",
            "\n"
          ]
        }
      ]
    },
    {
      "cell_type": "code",
      "source": [
        "# **Step 7: Hybrid Model with Best Hyperparameters**\n",
        "# Train Hybrid model with tuned params.\n",
        "rule_scores_train = np.array([sia.polarity_scores(text)['compound'] for text in X_train]).reshape(-1, 1) * best_vader_weight\n",
        "rule_scores_test = np.array([sia.polarity_scores(text)['compound'] for text in X_test]).reshape(-1, 1) * best_vader_weight\n",
        "\n",
        "X_train_hybrid = hstack((X_train_tfidf, rule_scores_train))\n",
        "X_test_hybrid = hstack((X_test_tfidf, rule_scores_test))\n",
        "\n",
        "hybrid_model = LogisticRegression(max_iter=1000, C=best_C, solver=best_solver)\n",
        "hybrid_model.fit(X_train_hybrid, y_train)\n",
        "y_pred_hybrid = hybrid_model.predict(X_test_hybrid)\n",
        "acc_hybrid = accuracy_score(y_test, y_pred_hybrid)\n",
        "print(\"Step 7: Hybrid Model Evaluation:\")\n",
        "print(classification_report(y_test, y_pred_hybrid, target_names=le.classes_, zero_division=0))"
      ],
      "metadata": {
        "colab": {
          "base_uri": "https://localhost:8080/"
        },
        "id": "COnMs229q-Sn",
        "outputId": "bb903ae5-5762-4267-914d-8b8a25155bdb"
      },
      "id": "COnMs229q-Sn",
      "execution_count": 11,
      "outputs": [
        {
          "output_type": "stream",
          "name": "stdout",
          "text": [
            "Step 7: Hybrid Model Evaluation:\n",
            "              precision    recall  f1-score   support\n",
            "\n",
            "         neg       0.66      0.66      0.66      6371\n",
            "         pos       0.67      0.67      0.67      6573\n",
            "\n",
            "    accuracy                           0.66     12944\n",
            "   macro avg       0.66      0.66      0.66     12944\n",
            "weighted avg       0.66      0.66      0.66     12944\n",
            "\n"
          ]
        }
      ]
    },
    {
      "cell_type": "code",
      "source": [
        "# **Step 8: Compare All Models**\n",
        "# Compare results in a table and visualize.\n",
        "results = {\n",
        "    'Model': ['Rule-Based', 'Logistic Regression', 'SVM', 'Random Forest', 'Naive Bayes', 'Hybrid'],\n",
        "    'Accuracy': [acc_rule, acc_lr, acc_svm, acc_rf, acc_nb, acc_hybrid],\n",
        "    'Precision (macro)': [precision_score(y_test, pred, average='macro', zero_division=0) for pred in [y_pred_rule, y_pred_lr, y_pred_svm, y_pred_rf, y_pred_nb, y_pred_hybrid]],\n",
        "    'Recall (macro)': [recall_score(y_test, pred, average='macro', zero_division=0) for pred in [y_pred_rule, y_pred_lr, y_pred_svm, y_pred_rf, y_pred_nb, y_pred_hybrid]],\n",
        "    'F1-Score (macro)': [f1_score(y_test, pred, average='macro', zero_division=0) for pred in [y_pred_rule, y_pred_lr, y_pred_svm, y_pred_rf, y_pred_nb, y_pred_hybrid]]\n",
        "}\n",
        "\n",
        "results_df = pd.DataFrame(results)\n",
        "print(\"Step 8: Model Comparison:\")\n",
        "print(results_df)\n",
        "\n",
        "plt.figure(figsize=(10, 6))\n",
        "plt.bar(results_df['Model'], results_df['Accuracy'])\n",
        "plt.xlabel('Models')\n",
        "plt.ylabel('Accuracy')\n",
        "plt.title('Model Performance Comparison')\n",
        "plt.xticks(rotation=45)\n",
        "plt.show()"
      ],
      "metadata": {
        "colab": {
          "base_uri": "https://localhost:8080/",
          "height": 932
        },
        "id": "-jStt_FYrBWs",
        "outputId": "1fd66d68-21c9-44ca-ff4c-f1f2d9561c9a"
      },
      "id": "-jStt_FYrBWs",
      "execution_count": 12,
      "outputs": [
        {
          "output_type": "stream",
          "name": "stdout",
          "text": [
            "Step 8: Model Comparison:\n",
            "                 Model  Accuracy  Precision (macro)  Recall (macro)  \\\n",
            "0           Rule-Based  0.534920           0.537436        0.531934   \n",
            "1  Logistic Regression  0.663628           0.663541        0.663529   \n",
            "2                  SVM  0.656984           0.657022        0.657057   \n",
            "3        Random Forest  0.565127           0.638902        0.559231   \n",
            "4          Naive Bayes  0.659533           0.659922        0.658952   \n",
            "5               Hybrid  0.664169           0.664084        0.664078   \n",
            "\n",
            "   F1-Score (macro)  \n",
            "0          0.515616  \n",
            "1          0.663534  \n",
            "2          0.656973  \n",
            "3          0.488751  \n",
            "4          0.658763  \n",
            "5          0.664081  \n"
          ]
        },
        {
          "output_type": "display_data",
          "data": {
            "text/plain": [
              "<Figure size 1000x600 with 1 Axes>"
            ],
            "image/png": "[encoded data removed]"
          },
          "metadata": {}
        }
      ]
    },
    {
      "cell_type": "code",
      "source": [
        "# **Step 9: Prediction Function for New Reviews**\n",
        "# Predict on new inputs using optimized models.\n",
        "def predict_sentiment(new_review):\n",
        "    processed_review = preprocess_text(new_review)\n",
        "    tfidf_vec = vectorizer.transform([processed_review])\n",
        "    rule_score = np.array([sia.polarity_scores(processed_review)['compound']]).reshape(-1, 1) * best_vader_weight\n",
        "    hybrid_vec = hstack((tfidf_vec, rule_score))\n",
        "\n",
        "    rule_pred = rule_based_sentiment(processed_review)\n",
        "    lr_pred = lr_model.predict(tfidf_vec)[0]\n",
        "    hybrid_pred = hybrid_model.predict(hybrid_vec)[0]\n",
        "\n",
        "    return {\n",
        "        'Rule-Based': le.inverse_transform([rule_pred])[0],\n",
        "        'Logistic Regression': le.inverse_transform([lr_pred])[0],\n",
        "        'Hybrid': le.inverse_transform([hybrid_pred])[0]\n",
        "    }\n",
        "\n",
        "new_reviews = [\n",
        "    \"The battery life is amazing, lasts all day!\",\n",
        "    \"This product is terrible, broke after a week.\",\n",
        "    \"It's okay, nothing special but works fine.\",\n",
        "    \"False statements or representation\"\n",
        "]\n",
        "\n",
        "for review in new_reviews:\n",
        "    print(f\"\\nStep 9: Review: {review}\")\n",
        "    print(predict_sentiment(review))\n",
        "\n",
        "print(\"All steps completed!\")"
      ],
      "metadata": {
        "colab": {
          "base_uri": "https://localhost:8080/"
        },
        "id": "FtkoPousqWFG",
        "outputId": "754ec515-eed1-4308-ee86-bfd4181039a8"
      },
      "id": "FtkoPousqWFG",
      "execution_count": 13,
      "outputs": [
        {
          "output_type": "stream",
          "name": "stdout",
          "text": [
            "\n",
            "Step 9: Review: The battery life is amazing, lasts all day!\n",
            "{'Rule-Based': 'pos', 'Logistic Regression': 'pos', 'Hybrid': 'pos'}\n",
            "\n",
            "Step 9: Review: This product is terrible, broke after a week.\n",
            "{'Rule-Based': 'neg', 'Logistic Regression': 'neg', 'Hybrid': 'neg'}\n",
            "\n",
            "Step 9: Review: It's okay, nothing special but works fine.\n",
            "{'Rule-Based': 'pos', 'Logistic Regression': 'pos', 'Hybrid': 'pos'}\n",
            "\n",
            "Step 9: Review: False statements or representation\n",
            "{'Rule-Based': 'pos', 'Logistic Regression': 'pos', 'Hybrid': 'pos'}\n",
            "All steps completed!\n"
          ]
        }
      ]
    },
    {
      "cell_type": "markdown",
      "source": [
        "C: 2.881880275717074\n",
        "wandb: \tmax_features: 2000\n",
        "wandb: \tmin_df: 1\n",
        "wandb: \tngram_range: [1, 3]\n",
        "wandb: \tsolver: lbfgs\n",
        "wandb: \tvader_weight: 1.3012761402857902"
      ],
      "metadata": {
        "id": "fD8TElmswU3O"
      },
      "id": "fD8TElmswU3O"
    },
    {
      "cell_type": "code",
      "source": [
        "# **Step 6: Train ML Models with Best Hyperparameters**\n",
        "# Use best params from sweeps (placeholders; replace with actual after Step 5).\n",
        "# Example values based on typical good configs.\n",
        "best_max_features = 2000  # Update from W&B\n",
        "best_ngram_range = (1, 3)\n",
        "best_min_df = 1\n",
        "best_C = 2.881880275717074\n",
        "best_solver = 'lbfgs'\n",
        "best_vader_weight = 1.3012761402857902\n",
        "\n",
        "vectorizer = TfidfVectorizer(ngram_range=best_ngram_range, stop_words='english',\n",
        "                             max_features=best_max_features, min_df=best_min_df)\n",
        "X_train_tfidf = vectorizer.fit_transform(X_train)\n",
        "X_test_tfidf = vectorizer.transform(X_test)\n",
        "\n",
        "# Logistic Regression\n",
        "lr_model = LogisticRegression(max_iter=1000, C=best_C, solver=best_solver)\n",
        "lr_model.fit(X_train_tfidf, y_train)\n",
        "y_pred_lr = lr_model.predict(X_test_tfidf)\n",
        "acc_lr = accuracy_score(y_test, y_pred_lr)\n",
        "print(\"Step 6: Logistic Regression Evaluation:\")\n",
        "print(classification_report(y_test, y_pred_lr, target_names=le.classes_, zero_division=0))"
      ],
      "metadata": {
        "id": "N9JhP33h2pHn",
        "outputId": "2bc98461-4f29-4c2d-ccea-e9caaf769c3e",
        "colab": {
          "base_uri": "https://localhost:8080/"
        }
      },
      "id": "N9JhP33h2pHn",
      "execution_count": 14,
      "outputs": [
        {
          "output_type": "stream",
          "name": "stdout",
          "text": [
            "Step 6: Logistic Regression Evaluation:\n",
            "              precision    recall  f1-score   support\n",
            "\n",
            "         neg       0.63      0.64      0.63      6371\n",
            "         pos       0.64      0.64      0.64      6573\n",
            "\n",
            "    accuracy                           0.64     12944\n",
            "   macro avg       0.64      0.64      0.64     12944\n",
            "weighted avg       0.64      0.64      0.64     12944\n",
            "\n"
          ]
        }
      ]
    },
    {
      "cell_type": "code",
      "source": [
        "# Naive Bayes\n",
        "nb_model = MultinomialNB(alpha=0.5)\n",
        "nb_model.fit(X_train_tfidf, y_train)\n",
        "y_pred_nb = nb_model.predict(X_test_tfidf)\n",
        "acc_nb = accuracy_score(y_test, y_pred_nb)\n",
        "print(\"Naive Bayes Evaluation:\")\n",
        "print(classification_report(y_test, y_pred_nb, target_names=le.classes_, zero_division=0))"
      ],
      "metadata": {
        "id": "P9Mbtw2Z3QJ-",
        "outputId": "207317eb-a546-4401-d5f7-3602f04d1e64",
        "colab": {
          "base_uri": "https://localhost:8080/"
        }
      },
      "id": "P9Mbtw2Z3QJ-",
      "execution_count": 15,
      "outputs": [
        {
          "output_type": "stream",
          "name": "stdout",
          "text": [
            "Naive Bayes Evaluation:\n",
            "              precision    recall  f1-score   support\n",
            "\n",
            "         neg       0.64      0.58      0.61      6371\n",
            "         pos       0.63      0.68      0.65      6573\n",
            "\n",
            "    accuracy                           0.63     12944\n",
            "   macro avg       0.63      0.63      0.63     12944\n",
            "weighted avg       0.63      0.63      0.63     12944\n",
            "\n"
          ]
        }
      ]
    },
    {
      "cell_type": "code",
      "source": [
        "# Random Forest\n",
        "rf_model = RandomForestClassifier(n_estimators=100, random_state=42, max_depth=10)\n",
        "rf_model.fit(X_train_tfidf, y_train)\n",
        "y_pred_rf = rf_model.predict(X_test_tfidf)\n",
        "acc_rf = accuracy_score(y_test, y_pred_rf)\n",
        "print(\"Random Forest Evaluation:\")\n",
        "print(classification_report(y_test, y_pred_rf, target_names=le.classes_, zero_division=0))"
      ],
      "metadata": {
        "id": "P0TdZgZr3Yxc",
        "outputId": "89d12efa-31d5-4ba4-93c5-dd0cfc85bd0d",
        "colab": {
          "base_uri": "https://localhost:8080/"
        }
      },
      "id": "P0TdZgZr3Yxc",
      "execution_count": 16,
      "outputs": [
        {
          "output_type": "stream",
          "name": "stdout",
          "text": [
            "Random Forest Evaluation:\n",
            "              precision    recall  f1-score   support\n",
            "\n",
            "         neg       0.69      0.23      0.34      6371\n",
            "         pos       0.55      0.90      0.68      6573\n",
            "\n",
            "    accuracy                           0.57     12944\n",
            "   macro avg       0.62      0.56      0.51     12944\n",
            "weighted avg       0.62      0.57      0.51     12944\n",
            "\n"
          ]
        }
      ]
    },
    {
      "cell_type": "code",
      "source": [
        "# SVM\n",
        "svm_model = SVC(kernel='linear', C=best_C)\n",
        "svm_model.fit(X_train_tfidf, y_train)\n",
        "y_pred_svm = svm_model.predict(X_test_tfidf)\n",
        "acc_svm = accuracy_score(y_test, y_pred_svm)\n",
        "print(\"SVM Evaluation:\")\n",
        "print(classification_report(y_test, y_pred_svm, target_names=le.classes_, zero_division=0))"
      ],
      "metadata": {
        "id": "qqxbb7V83fBL",
        "outputId": "4404cc8b-333c-4975-d73e-392a7968772a",
        "colab": {
          "base_uri": "https://localhost:8080/"
        }
      },
      "id": "qqxbb7V83fBL",
      "execution_count": 17,
      "outputs": [
        {
          "output_type": "stream",
          "name": "stdout",
          "text": [
            "SVM Evaluation:\n",
            "              precision    recall  f1-score   support\n",
            "\n",
            "         neg       0.62      0.65      0.63      6371\n",
            "         pos       0.64      0.62      0.63      6573\n",
            "\n",
            "    accuracy                           0.63     12944\n",
            "   macro avg       0.63      0.63      0.63     12944\n",
            "weighted avg       0.63      0.63      0.63     12944\n",
            "\n"
          ]
        }
      ]
    },
    {
      "cell_type": "code",
      "source": [
        "# **Step 7: Hybrid Model with Best Hyperparameters**\n",
        "# Train Hybrid model with tuned params.\n",
        "rule_scores_train = np.array([sia.polarity_scores(text)['compound'] for text in X_train]).reshape(-1, 1) * best_vader_weight\n",
        "rule_scores_test = np.array([sia.polarity_scores(text)['compound'] for text in X_test]).reshape(-1, 1) * best_vader_weight\n",
        "\n",
        "X_train_hybrid = hstack((X_train_tfidf, rule_scores_train))\n",
        "X_test_hybrid = hstack((X_test_tfidf, rule_scores_test))\n",
        "\n",
        "hybrid_model = LogisticRegression(max_iter=1000, C=best_C, solver=best_solver)\n",
        "hybrid_model.fit(X_train_hybrid, y_train)\n",
        "y_pred_hybrid = hybrid_model.predict(X_test_hybrid)\n",
        "acc_hybrid = accuracy_score(y_test, y_pred_hybrid)\n",
        "print(\"Step 7: Hybrid Model Evaluation:\")\n",
        "print(classification_report(y_test, y_pred_hybrid, target_names=le.classes_, zero_division=0))"
      ],
      "metadata": {
        "id": "RUR-bQ6g3qPU",
        "outputId": "a09f5ab8-c4da-4342-bd43-89a1dd334d13",
        "colab": {
          "base_uri": "https://localhost:8080/"
        }
      },
      "id": "RUR-bQ6g3qPU",
      "execution_count": 19,
      "outputs": [
        {
          "output_type": "stream",
          "name": "stdout",
          "text": [
            "Step 7: Hybrid Model Evaluation:\n",
            "              precision    recall  f1-score   support\n",
            "\n",
            "         neg       0.63      0.64      0.64      6371\n",
            "         pos       0.65      0.64      0.64      6573\n",
            "\n",
            "    accuracy                           0.64     12944\n",
            "   macro avg       0.64      0.64      0.64     12944\n",
            "weighted avg       0.64      0.64      0.64     12944\n",
            "\n"
          ]
        }
      ]
    },
    {
      "cell_type": "code",
      "source": [
        "# **Step 8: Compare All Models**\n",
        "# Compare results in a table and visualize.\n",
        "results = {\n",
        "    'Model': ['Rule-Based', 'Logistic Regression', 'SVM', 'Random Forest', 'Naive Bayes', 'Hybrid'],\n",
        "    'Accuracy': [acc_rule, acc_lr, acc_svm, acc_rf, acc_nb, acc_hybrid],\n",
        "    'Precision (macro)': [precision_score(y_test, pred, average='macro', zero_division=0) for pred in [y_pred_rule, y_pred_lr, y_pred_svm, y_pred_rf, y_pred_nb, y_pred_hybrid]],\n",
        "    'Recall (macro)': [recall_score(y_test, pred, average='macro', zero_division=0) for pred in [y_pred_rule, y_pred_lr, y_pred_svm, y_pred_rf, y_pred_nb, y_pred_hybrid]],\n",
        "    'F1-Score (macro)': [f1_score(y_test, pred, average='macro', zero_division=0) for pred in [y_pred_rule, y_pred_lr, y_pred_svm, y_pred_rf, y_pred_nb, y_pred_hybrid]]\n",
        "}\n",
        "\n",
        "results_df = pd.DataFrame(results)\n",
        "print(\"Step 8: Model Comparison:\")\n",
        "print(results_df)\n",
        "\n",
        "plt.figure(figsize=(10, 6))\n",
        "plt.bar(results_df['Model'], results_df['Accuracy'])\n",
        "plt.xlabel('Models')\n",
        "plt.ylabel('Accuracy')\n",
        "plt.title('Model Performance Comparison')\n",
        "plt.xticks(rotation=45)\n",
        "plt.show()"
      ],
      "metadata": {
        "id": "8hRWbC_o3wT_",
        "outputId": "2dc8601a-193f-4ce2-d461-6483532c6a79",
        "colab": {
          "base_uri": "https://localhost:8080/",
          "height": 932
        }
      },
      "id": "8hRWbC_o3wT_",
      "execution_count": 20,
      "outputs": [
        {
          "output_type": "stream",
          "name": "stdout",
          "text": [
            "Step 8: Model Comparison:\n",
            "                 Model  Accuracy  Precision (macro)  Recall (macro)  \\\n",
            "0           Rule-Based  0.534920           0.537436        0.531934   \n",
            "1  Logistic Regression  0.637206           0.637153        0.637178   \n",
            "2                  SVM  0.634502           0.634682        0.634673   \n",
            "3        Random Forest  0.569299           0.616750        0.564072   \n",
            "4          Naive Bayes  0.630562           0.630993        0.629857   \n",
            "5               Hybrid  0.640142           0.640083        0.640105   \n",
            "\n",
            "   F1-Score (macro)  \n",
            "0          0.515616  \n",
            "1          0.637156  \n",
            "2          0.634502  \n",
            "3          0.511600  \n",
            "4          0.629441  \n",
            "5          0.640087  \n"
          ]
        },
        {
          "output_type": "display_data",
          "data": {
            "text/plain": [
              "<Figure size 1000x600 with 1 Axes>"
            ],
            "image/png": "[encoded data removed]"
          },
          "metadata": {}
        }
      ]
    },
    {
      "cell_type": "code",
      "source": [
        "# **Step 9: Prediction Function for New Reviews**\n",
        "# Predict on new inputs using optimized models.\n",
        "def predict_sentiment(new_review):\n",
        "    processed_review = preprocess_text(new_review)\n",
        "    tfidf_vec = vectorizer.transform([processed_review])\n",
        "    rule_score = np.array([sia.polarity_scores(processed_review)['compound']]).reshape(-1, 1) * best_vader_weight\n",
        "    hybrid_vec = hstack((tfidf_vec, rule_score))\n",
        "\n",
        "    rule_pred = rule_based_sentiment(processed_review)\n",
        "    lr_pred = lr_model.predict(tfidf_vec)[0]\n",
        "    svm_pred = svm_model.predict(tfidf_vec)[0]\n",
        "    rf_pred = rf_model.predict(tfidf_vec)[0]\n",
        "    nb_pred = nb_model.predict(tfidf_vec)[0]\n",
        "    hybrid_pred = hybrid_model.predict(hybrid_vec)[0]\n",
        "\n",
        "    return {\n",
        "        'Rule-Based': le.inverse_transform([rule_pred])[0],\n",
        "        'Logistic Regression': le.inverse_transform([lr_pred])[0],\n",
        "        'SVM': le.inverse_transform([svm_pred])[0],\n",
        "        'Random Forest': le.inverse_transform([rf_pred])[0],\n",
        "        'Naive Bayes': le.inverse_transform([nb_pred])[0],\n",
        "        'Hybrid': le.inverse_transform([hybrid_pred])[0],\n",
        "    }\n",
        "\n",
        "new_reviews = [\n",
        "    \"The battery life is amazing, lasts all day!\",\n",
        "    \"This product is terrible, broke after a week.\",\n",
        "    \"It's okay, nothing special but works fine.\",\n",
        "    \"False statements or representation\"\n",
        "]\n",
        "\n",
        "for review in new_reviews:\n",
        "    print(f\"\\nStep 9: Review: {review}\")\n",
        "    print(predict_sentiment(review))\n",
        "\n",
        "print(\"All steps completed!\")"
      ],
      "metadata": {
        "id": "WQ-1xKYW34Ey",
        "outputId": "6ca5afbf-abec-401b-ba08-1cd1fd548f9d",
        "colab": {
          "base_uri": "https://localhost:8080/"
        }
      },
      "id": "WQ-1xKYW34Ey",
      "execution_count": 21,
      "outputs": [
        {
          "output_type": "stream",
          "name": "stdout",
          "text": [
            "\n",
            "Step 9: Review: The battery life is amazing, lasts all day!\n",
            "{'Rule-Based': 'pos', 'Logistic Regression': 'pos', 'SVM': 'pos', 'Random Forest': 'pos', 'Naive Bayes': 'pos', 'Hybrid': 'pos'}\n",
            "\n",
            "Step 9: Review: This product is terrible, broke after a week.\n",
            "{'Rule-Based': 'neg', 'Logistic Regression': 'neg', 'SVM': 'neg', 'Random Forest': 'neg', 'Naive Bayes': 'neg', 'Hybrid': 'neg'}\n",
            "\n",
            "Step 9: Review: It's okay, nothing special but works fine.\n",
            "{'Rule-Based': 'pos', 'Logistic Regression': 'pos', 'SVM': 'pos', 'Random Forest': 'pos', 'Naive Bayes': 'pos', 'Hybrid': 'pos'}\n",
            "\n",
            "Step 9: Review: False statements or representation\n",
            "{'Rule-Based': 'pos', 'Logistic Regression': 'neg', 'SVM': 'neg', 'Random Forest': 'pos', 'Naive Bayes': 'pos', 'Hybrid': 'neg'}\n",
            "All steps completed!\n"
          ]
        }
      ]
    },
    {
      "cell_type": "markdown",
      "source": [
        "wandb: \tC: 1.0637100028681252\n",
        "wandb: \tmax_features: 2000\n",
        "wandb: \tmin_df: 2\n",
        "wandb: \tngram_range: [1, 2]\n",
        "wandb: \tsolver: liblinear\n",
        "wandb: \tvader_weight: 1.501771924602397"
      ],
      "metadata": {
        "id": "BHvXCFyH3CvX"
      },
      "id": "BHvXCFyH3CvX"
    },
    {
      "cell_type": "code",
      "source": [
        "# **Step 6: Train ML Models with Best Hyperparameters**\n",
        "# Use best params from sweeps (placeholders; replace with actual after Step 5).\n",
        "# Example values based on typical good configs.\n",
        "best_max_features = 2000  # Update from W&B\n",
        "best_ngram_range = (1, 2)\n",
        "best_min_df = 2\n",
        "best_C = 1.0637100028681252\n",
        "best_solver = 'liblinear'\n",
        "best_vader_weight = 1.501771924602397\n",
        "\n",
        "vectorizer = TfidfVectorizer(ngram_range=best_ngram_range, stop_words='english',\n",
        "                             max_features=best_max_features, min_df=best_min_df)\n",
        "X_train_tfidf = vectorizer.fit_transform(X_train)\n",
        "X_test_tfidf = vectorizer.transform(X_test)\n",
        "\n",
        "# Logistic Regression\n",
        "lr_model = LogisticRegression(max_iter=1000, C=best_C, solver=best_solver)\n",
        "lr_model.fit(X_train_tfidf, y_train)\n",
        "y_pred_lr = lr_model.predict(X_test_tfidf)\n",
        "acc_lr = accuracy_score(y_test, y_pred_lr)\n",
        "print(\"Step 6: Logistic Regression Evaluation:\")\n",
        "print(classification_report(y_test, y_pred_lr, target_names=le.classes_, zero_division=0))"
      ],
      "metadata": {
        "id": "qZgndZgz3UCb",
        "outputId": "ecf300b8-9648-48b5-df02-3619e2437206",
        "colab": {
          "base_uri": "https://localhost:8080/"
        }
      },
      "id": "qZgndZgz3UCb",
      "execution_count": 22,
      "outputs": [
        {
          "output_type": "stream",
          "name": "stdout",
          "text": [
            "Step 6: Logistic Regression Evaluation:\n",
            "              precision    recall  f1-score   support\n",
            "\n",
            "         neg       0.63      0.63      0.63      6371\n",
            "         pos       0.64      0.64      0.64      6573\n",
            "\n",
            "    accuracy                           0.64     12944\n",
            "   macro avg       0.64      0.64      0.64     12944\n",
            "weighted avg       0.64      0.64      0.64     12944\n",
            "\n"
          ]
        }
      ]
    },
    {
      "cell_type": "code",
      "source": [
        "# Naive Bayes\n",
        "nb_model = MultinomialNB(alpha=0.5)\n",
        "nb_model.fit(X_train_tfidf, y_train)\n",
        "y_pred_nb = nb_model.predict(X_test_tfidf)\n",
        "acc_nb = accuracy_score(y_test, y_pred_nb)\n",
        "print(\"Naive Bayes Evaluation:\")\n",
        "print(classification_report(y_test, y_pred_nb, target_names=le.classes_, zero_division=0))"
      ],
      "metadata": {
        "id": "YEm4fbgl3RGp",
        "outputId": "252d9917-7ff2-4240-bdfa-eb338154e5dc",
        "colab": {
          "base_uri": "https://localhost:8080/"
        }
      },
      "id": "YEm4fbgl3RGp",
      "execution_count": 23,
      "outputs": [
        {
          "output_type": "stream",
          "name": "stdout",
          "text": [
            "Naive Bayes Evaluation:\n",
            "              precision    recall  f1-score   support\n",
            "\n",
            "         neg       0.64      0.58      0.61      6371\n",
            "         pos       0.63      0.68      0.65      6573\n",
            "\n",
            "    accuracy                           0.63     12944\n",
            "   macro avg       0.63      0.63      0.63     12944\n",
            "weighted avg       0.63      0.63      0.63     12944\n",
            "\n"
          ]
        }
      ]
    },
    {
      "cell_type": "code",
      "source": [
        "# Random Forest\n",
        "rf_model = RandomForestClassifier(n_estimators=100, random_state=42, max_depth=10)\n",
        "rf_model.fit(X_train_tfidf, y_train)\n",
        "y_pred_rf = rf_model.predict(X_test_tfidf)\n",
        "acc_rf = accuracy_score(y_test, y_pred_rf)\n",
        "print(\"Random Forest Evaluation:\")\n",
        "print(classification_report(y_test, y_pred_rf, target_names=le.classes_, zero_division=0))"
      ],
      "metadata": {
        "id": "vxKIBBQX3aSn",
        "outputId": "5996bedd-fdfd-43d2-f5a6-061a842991a2",
        "colab": {
          "base_uri": "https://localhost:8080/"
        }
      },
      "id": "vxKIBBQX3aSn",
      "execution_count": 24,
      "outputs": [
        {
          "output_type": "stream",
          "name": "stdout",
          "text": [
            "Random Forest Evaluation:\n",
            "              precision    recall  f1-score   support\n",
            "\n",
            "         neg       0.69      0.23      0.34      6371\n",
            "         pos       0.55      0.90      0.68      6573\n",
            "\n",
            "    accuracy                           0.57     12944\n",
            "   macro avg       0.62      0.56      0.51     12944\n",
            "weighted avg       0.62      0.57      0.51     12944\n",
            "\n"
          ]
        }
      ]
    },
    {
      "cell_type": "code",
      "source": [
        "# SVM\n",
        "svm_model = SVC(kernel='linear', C=best_C)\n",
        "svm_model.fit(X_train_tfidf, y_train)\n",
        "y_pred_svm = svm_model.predict(X_test_tfidf)\n",
        "acc_svm = accuracy_score(y_test, y_pred_svm)\n",
        "print(\"SVM Evaluation:\")\n",
        "print(classification_report(y_test, y_pred_svm, target_names=le.classes_, zero_division=0))"
      ],
      "metadata": {
        "id": "YpQISyE-3ipb",
        "outputId": "d45af7ce-e08f-4ebd-e547-9017e2213cdf",
        "colab": {
          "base_uri": "https://localhost:8080/"
        }
      },
      "id": "YpQISyE-3ipb",
      "execution_count": 25,
      "outputs": [
        {
          "output_type": "stream",
          "name": "stdout",
          "text": [
            "SVM Evaluation:\n",
            "              precision    recall  f1-score   support\n",
            "\n",
            "         neg       0.63      0.64      0.64      6371\n",
            "         pos       0.65      0.63      0.64      6573\n",
            "\n",
            "    accuracy                           0.64     12944\n",
            "   macro avg       0.64      0.64      0.64     12944\n",
            "weighted avg       0.64      0.64      0.64     12944\n",
            "\n"
          ]
        }
      ]
    },
    {
      "cell_type": "code",
      "source": [
        "# **Step 7: Hybrid Model with Best Hyperparameters**\n",
        "# Train Hybrid model with tuned params.\n",
        "rule_scores_train = np.array([sia.polarity_scores(text)['compound'] for text in X_train]).reshape(-1, 1) * best_vader_weight\n",
        "rule_scores_test = np.array([sia.polarity_scores(text)['compound'] for text in X_test]).reshape(-1, 1) * best_vader_weight\n",
        "\n",
        "X_train_hybrid = hstack((X_train_tfidf, rule_scores_train))\n",
        "X_test_hybrid = hstack((X_test_tfidf, rule_scores_test))\n",
        "\n",
        "hybrid_model = LogisticRegression(max_iter=1000, C=best_C, solver=best_solver)\n",
        "hybrid_model.fit(X_train_hybrid, y_train)\n",
        "y_pred_hybrid = hybrid_model.predict(X_test_hybrid)\n",
        "acc_hybrid = accuracy_score(y_test, y_pred_hybrid)\n",
        "print(\"Step 7: Hybrid Model Evaluation:\")\n",
        "print(classification_report(y_test, y_pred_hybrid, target_names=le.classes_, zero_division=0))"
      ],
      "metadata": {
        "id": "tGDo0IFE3r1p",
        "outputId": "4b717b78-35d2-4267-c0ec-7e418d4e47a2",
        "colab": {
          "base_uri": "https://localhost:8080/"
        }
      },
      "id": "tGDo0IFE3r1p",
      "execution_count": 26,
      "outputs": [
        {
          "output_type": "stream",
          "name": "stdout",
          "text": [
            "Step 7: Hybrid Model Evaluation:\n",
            "              precision    recall  f1-score   support\n",
            "\n",
            "         neg       0.63      0.63      0.63      6371\n",
            "         pos       0.64      0.64      0.64      6573\n",
            "\n",
            "    accuracy                           0.64     12944\n",
            "   macro avg       0.64      0.64      0.64     12944\n",
            "weighted avg       0.64      0.64      0.64     12944\n",
            "\n"
          ]
        }
      ]
    },
    {
      "cell_type": "code",
      "source": [
        "# **Step 8: Compare All Models**\n",
        "# Compare results in a table and visualize.\n",
        "results = {\n",
        "    'Model': ['Rule-Based', 'Logistic Regression', 'SVM', 'Random Forest', 'Naive Bayes', 'Hybrid'],\n",
        "    'Accuracy': [acc_rule, acc_lr, acc_svm, acc_rf, acc_nb, acc_hybrid],\n",
        "    'Precision (macro)': [precision_score(y_test, pred, average='macro', zero_division=0) for pred in [y_pred_rule, y_pred_lr, y_pred_svm, y_pred_rf, y_pred_nb, y_pred_hybrid]],\n",
        "    'Recall (macro)': [recall_score(y_test, pred, average='macro', zero_division=0) for pred in [y_pred_rule, y_pred_lr, y_pred_svm, y_pred_rf, y_pred_nb, y_pred_hybrid]],\n",
        "    'F1-Score (macro)': [f1_score(y_test, pred, average='macro', zero_division=0) for pred in [y_pred_rule, y_pred_lr, y_pred_svm, y_pred_rf, y_pred_nb, y_pred_hybrid]]\n",
        "}\n",
        "\n",
        "results_df = pd.DataFrame(results)\n",
        "print(\"Step 8: Model Comparison:\")\n",
        "print(results_df)\n",
        "\n",
        "plt.figure(figsize=(10, 6))\n",
        "plt.bar(results_df['Model'], results_df['Accuracy'])\n",
        "plt.xlabel('Models')\n",
        "plt.ylabel('Accuracy')\n",
        "plt.title('Model Performance Comparison')\n",
        "plt.xticks(rotation=45)\n",
        "plt.show()"
      ],
      "metadata": {
        "id": "HwdFm9JN3yXL",
        "outputId": "4ba3d91d-d66e-4e18-ed3b-bf703284bb99",
        "colab": {
          "base_uri": "https://localhost:8080/",
          "height": 932
        }
      },
      "id": "HwdFm9JN3yXL",
      "execution_count": 27,
      "outputs": [
        {
          "output_type": "stream",
          "name": "stdout",
          "text": [
            "Step 8: Model Comparison:\n",
            "                 Model  Accuracy  Precision (macro)  Recall (macro)  \\\n",
            "0           Rule-Based  0.534920           0.537436        0.531934   \n",
            "1  Logistic Regression  0.638365           0.638279        0.638281   \n",
            "2                  SVM  0.636279           0.636381        0.636398   \n",
            "3        Random Forest  0.569144           0.618178        0.563869   \n",
            "4          Naive Bayes  0.630640           0.631069        0.629936   \n",
            "5               Hybrid  0.637438           0.637356        0.637363   \n",
            "\n",
            "   F1-Score (macro)  \n",
            "0          0.515616  \n",
            "1          0.638280  \n",
            "2          0.636277  \n",
            "3          0.510240  \n",
            "4          0.629522  \n",
            "5          0.637359  \n"
          ]
        },
        {
          "output_type": "display_data",
          "data": {
            "text/plain": [
              "<Figure size 1000x600 with 1 Axes>"
            ],
            "image/png": "[encoded data removed]"
          },
          "metadata": {}
        }
      ]
    },
    {
      "cell_type": "code",
      "source": [
        "# **Step 9: Prediction Function for New Reviews**\n",
        "# Predict on new inputs using optimized models.\n",
        "def predict_sentiment(new_review):\n",
        "    processed_review = preprocess_text(new_review)\n",
        "    tfidf_vec = vectorizer.transform([processed_review])\n",
        "    rule_score = np.array([sia.polarity_scores(processed_review)['compound']]).reshape(-1, 1) * best_vader_weight\n",
        "    hybrid_vec = hstack((tfidf_vec, rule_score))\n",
        "\n",
        "    rule_pred = rule_based_sentiment(processed_review)\n",
        "    lr_pred = lr_model.predict(tfidf_vec)[0]\n",
        "    svm_pred = svm_model.predict(tfidf_vec)[0]\n",
        "    rf_pred = rf_model.predict(tfidf_vec)[0]\n",
        "    nb_pred = nb_model.predict(tfidf_vec)[0]\n",
        "    hybrid_pred = hybrid_model.predict(hybrid_vec)[0]\n",
        "\n",
        "    return {\n",
        "        'Rule-Based': le.inverse_transform([rule_pred])[0],\n",
        "        'Logistic Regression': le.inverse_transform([lr_pred])[0],\n",
        "        'SVM': le.inverse_transform([svm_pred])[0],\n",
        "        'Random Forest': le.inverse_transform([rf_pred])[0],\n",
        "        'Naive Bayes': le.inverse_transform([nb_pred])[0],\n",
        "        'Hybrid': le.inverse_transform([hybrid_pred])[0],\n",
        "    }\n",
        "\n",
        "new_reviews = [\n",
        "    \"The battery life is amazing, lasts all day!\",\n",
        "    \"This product is terrible, broke after a week.\",\n",
        "    \"It's okay, nothing special but works fine.\",\n",
        "    \"False statements or representation\"\n",
        "]\n",
        "\n",
        "for review in new_reviews:\n",
        "    print(f\"\\nStep 9: Review: {review}\")\n",
        "    print(predict_sentiment(review))\n",
        "\n",
        "print(\"All steps completed!\")"
      ],
      "metadata": {
        "id": "9siAWBV-35_3",
        "outputId": "eed8ece4-ae36-49de-be7f-d8f7be5ddff7",
        "colab": {
          "base_uri": "https://localhost:8080/"
        }
      },
      "id": "9siAWBV-35_3",
      "execution_count": 28,
      "outputs": [
        {
          "output_type": "stream",
          "name": "stdout",
          "text": [
            "\n",
            "Step 9: Review: The battery life is amazing, lasts all day!\n",
            "{'Rule-Based': 'pos', 'Logistic Regression': 'pos', 'SVM': 'pos', 'Random Forest': 'pos', 'Naive Bayes': 'pos', 'Hybrid': 'pos'}\n",
            "\n",
            "Step 9: Review: This product is terrible, broke after a week.\n",
            "{'Rule-Based': 'neg', 'Logistic Regression': 'neg', 'SVM': 'neg', 'Random Forest': 'neg', 'Naive Bayes': 'neg', 'Hybrid': 'neg'}\n",
            "\n",
            "Step 9: Review: It's okay, nothing special but works fine.\n",
            "{'Rule-Based': 'pos', 'Logistic Regression': 'pos', 'SVM': 'pos', 'Random Forest': 'pos', 'Naive Bayes': 'pos', 'Hybrid': 'pos'}\n",
            "\n",
            "Step 9: Review: False statements or representation\n",
            "{'Rule-Based': 'pos', 'Logistic Regression': 'neg', 'SVM': 'neg', 'Random Forest': 'pos', 'Naive Bayes': 'pos', 'Hybrid': 'neg'}\n",
            "All steps completed!\n"
          ]
        }
      ]
    },
    {
      "cell_type": "markdown",
      "source": [
        "wandb: \tC: 1.5660012618111538\n",
        "wandb: \tmax_features: 2000\n",
        "wandb: \tmin_df: 2\n",
        "wandb: \tngram_range: [1, 3]\n",
        "wandb: \tsolver: liblinear\n",
        "wandb: \tvader_weight: 0.5874020283173036"
      ],
      "metadata": {
        "id": "nsPtN2GJ23Cj"
      },
      "id": "nsPtN2GJ23Cj"
    },
    {
      "cell_type": "code",
      "source": [
        "# **Step 6: Train ML Models with Best Hyperparameters**\n",
        "# Use best params from sweeps (placeholders; replace with actual after Step 5).\n",
        "# Example values based on typical good configs.\n",
        "best_max_features = 2000  # Update from W&B\n",
        "best_ngram_range = (1, 3)\n",
        "best_min_df = 2\n",
        "best_C = 1.5660012618111538\n",
        "best_solver = 'liblinear'\n",
        "best_vader_weight = 0.5874020283173036\n",
        "\n",
        "vectorizer = TfidfVectorizer(ngram_range=best_ngram_range, stop_words='english',\n",
        "                             max_features=best_max_features, min_df=best_min_df)\n",
        "X_train_tfidf = vectorizer.fit_transform(X_train)\n",
        "X_test_tfidf = vectorizer.transform(X_test)\n",
        "\n",
        "# Logistic Regression\n",
        "lr_model = LogisticRegression(max_iter=1000, C=best_C, solver=best_solver)\n",
        "lr_model.fit(X_train_tfidf, y_train)\n",
        "y_pred_lr = lr_model.predict(X_test_tfidf)\n",
        "acc_lr = accuracy_score(y_test, y_pred_lr)\n",
        "print(\"Step 6: Logistic Regression Evaluation:\")\n",
        "print(classification_report(y_test, y_pred_lr, target_names=le.classes_, zero_division=0))"
      ],
      "metadata": {
        "id": "TObP2BRB3VMG",
        "outputId": "3d0cbaa8-11c8-4d11-dd72-197c8605b27c",
        "colab": {
          "base_uri": "https://localhost:8080/"
        }
      },
      "id": "TObP2BRB3VMG",
      "execution_count": 29,
      "outputs": [
        {
          "output_type": "stream",
          "name": "stdout",
          "text": [
            "Step 6: Logistic Regression Evaluation:\n",
            "              precision    recall  f1-score   support\n",
            "\n",
            "         neg       0.63      0.64      0.63      6371\n",
            "         pos       0.65      0.64      0.64      6573\n",
            "\n",
            "    accuracy                           0.64     12944\n",
            "   macro avg       0.64      0.64      0.64     12944\n",
            "weighted avg       0.64      0.64      0.64     12944\n",
            "\n"
          ]
        }
      ]
    },
    {
      "cell_type": "code",
      "source": [
        "# Naive Bayes\n",
        "nb_model = MultinomialNB(alpha=0.5)\n",
        "nb_model.fit(X_train_tfidf, y_train)\n",
        "y_pred_nb = nb_model.predict(X_test_tfidf)\n",
        "acc_nb = accuracy_score(y_test, y_pred_nb)\n",
        "print(\"Naive Bayes Evaluation:\")\n",
        "print(classification_report(y_test, y_pred_nb, target_names=le.classes_, zero_division=0))"
      ],
      "metadata": {
        "id": "Xy48aUoY3R3A"
      },
      "id": "Xy48aUoY3R3A",
      "execution_count": null,
      "outputs": []
    },
    {
      "cell_type": "code",
      "source": [
        "# Random Forest\n",
        "rf_model = RandomForestClassifier(n_estimators=100, random_state=42, max_depth=10)\n",
        "rf_model.fit(X_train_tfidf, y_train)\n",
        "y_pred_rf = rf_model.predict(X_test_tfidf)\n",
        "acc_rf = accuracy_score(y_test, y_pred_rf)\n",
        "print(\"Random Forest Evaluation:\")\n",
        "print(classification_report(y_test, y_pred_rf, target_names=le.classes_, zero_division=0))"
      ],
      "metadata": {
        "id": "2S3tQJTA3bMj"
      },
      "id": "2S3tQJTA3bMj",
      "execution_count": null,
      "outputs": []
    },
    {
      "cell_type": "code",
      "source": [
        "# SVM\n",
        "svm_model = SVC(kernel='linear', C=best_C)\n",
        "svm_model.fit(X_train_tfidf, y_train)\n",
        "y_pred_svm = svm_model.predict(X_test_tfidf)\n",
        "acc_svm = accuracy_score(y_test, y_pred_svm)\n",
        "print(\"SVM Evaluation:\")\n",
        "print(classification_report(y_test, y_pred_svm, target_names=le.classes_, zero_division=0))"
      ],
      "metadata": {
        "id": "jI2f8VJA3j77"
      },
      "id": "jI2f8VJA3j77",
      "execution_count": null,
      "outputs": []
    },
    {
      "cell_type": "code",
      "source": [
        "# **Step 7: Hybrid Model with Best Hyperparameters**\n",
        "# Train Hybrid model with tuned params.\n",
        "rule_scores_train = np.array([sia.polarity_scores(text)['compound'] for text in X_train]).reshape(-1, 1) * best_vader_weight\n",
        "rule_scores_test = np.array([sia.polarity_scores(text)['compound'] for text in X_test]).reshape(-1, 1) * best_vader_weight\n",
        "\n",
        "X_train_hybrid = hstack((X_train_tfidf, rule_scores_train))\n",
        "X_test_hybrid = hstack((X_test_tfidf, rule_scores_test))\n",
        "\n",
        "hybrid_model = LogisticRegression(max_iter=1000, C=best_C, solver=best_solver)\n",
        "hybrid_model.fit(X_train_hybrid, y_train)\n",
        "y_pred_hybrid = hybrid_model.predict(X_test_hybrid)\n",
        "acc_hybrid = accuracy_score(y_test, y_pred_hybrid)\n",
        "print(\"Step 7: Hybrid Model Evaluation:\")\n",
        "print(classification_report(y_test, y_pred_hybrid, target_names=le.classes_, zero_division=0))"
      ],
      "metadata": {
        "id": "9i_IN1zy3ss2"
      },
      "id": "9i_IN1zy3ss2",
      "execution_count": null,
      "outputs": []
    },
    {
      "cell_type": "code",
      "source": [
        "# **Step 8: Compare All Models**\n",
        "# Compare results in a table and visualize.\n",
        "results = {\n",
        "    'Model': ['Rule-Based', 'Logistic Regression', 'SVM', 'Random Forest', 'Naive Bayes', 'Hybrid'],\n",
        "    'Accuracy': [acc_rule, acc_lr, acc_svm, acc_rf, acc_nb, acc_hybrid],\n",
        "    'Precision (macro)': [precision_score(y_test, pred, average='macro', zero_division=0) for pred in [y_pred_rule, y_pred_lr, y_pred_svm, y_pred_rf, y_pred_nb, y_pred_hybrid]],\n",
        "    'Recall (macro)': [recall_score(y_test, pred, average='macro', zero_division=0) for pred in [y_pred_rule, y_pred_lr, y_pred_svm, y_pred_rf, y_pred_nb, y_pred_hybrid]],\n",
        "    'F1-Score (macro)': [f1_score(y_test, pred, average='macro', zero_division=0) for pred in [y_pred_rule, y_pred_lr, y_pred_svm, y_pred_rf, y_pred_nb, y_pred_hybrid]]\n",
        "}\n",
        "\n",
        "results_df = pd.DataFrame(results)\n",
        "print(\"Step 8: Model Comparison:\")\n",
        "print(results_df)\n",
        "\n",
        "plt.figure(figsize=(10, 6))\n",
        "plt.bar(results_df['Model'], results_df['Accuracy'])\n",
        "plt.xlabel('Models')\n",
        "plt.ylabel('Accuracy')\n",
        "plt.title('Model Performance Comparison')\n",
        "plt.xticks(rotation=45)\n",
        "plt.show()"
      ],
      "metadata": {
        "id": "QpOrWdQo3zYf"
      },
      "id": "QpOrWdQo3zYf",
      "execution_count": null,
      "outputs": []
    },
    {
      "cell_type": "code",
      "source": [
        "# **Step 9: Prediction Function for New Reviews**\n",
        "# Predict on new inputs using optimized models.\n",
        "def predict_sentiment(new_review):\n",
        "    processed_review = preprocess_text(new_review)\n",
        "    tfidf_vec = vectorizer.transform([processed_review])\n",
        "    rule_score = np.array([sia.polarity_scores(processed_review)['compound']]).reshape(-1, 1) * best_vader_weight\n",
        "    hybrid_vec = hstack((tfidf_vec, rule_score))\n",
        "\n",
        "    rule_pred = rule_based_sentiment(processed_review)\n",
        "    lr_pred = lr_model.predict(tfidf_vec)[0]\n",
        "    svm_pred = svm_model.predict(tfidf_vec)[0]\n",
        "    rf_pred = rf_model.predict(tfidf_vec)[0]\n",
        "    nb_pred = nb_model.predict(tfidf_vec)[0]\n",
        "    hybrid_pred = hybrid_model.predict(hybrid_vec)[0]\n",
        "\n",
        "    return {\n",
        "        'Rule-Based': le.inverse_transform([rule_pred])[0],\n",
        "        'Logistic Regression': le.inverse_transform([lr_pred])[0],\n",
        "        'SVM': le.inverse_transform([svm_pred])[0],\n",
        "        'Random Forest': le.inverse_transform([rf_pred])[0],\n",
        "        'Naive Bayes': le.inverse_transform([nb_pred])[0],\n",
        "        'Hybrid': le.inverse_transform([hybrid_pred])[0],\n",
        "    }\n",
        "\n",
        "new_reviews = [\n",
        "    \"The battery life is amazing, lasts all day!\",\n",
        "    \"This product is terrible, broke after a week.\",\n",
        "    \"It's okay, nothing special but works fine.\",\n",
        "    \"False statements or representation\"\n",
        "]\n",
        "\n",
        "for review in new_reviews:\n",
        "    print(f\"\\nStep 9: Review: {review}\")\n",
        "    print(predict_sentiment(review))\n",
        "\n",
        "print(\"All steps completed!\")"
      ],
      "metadata": {
        "id": "axiQTUX737lz"
      },
      "id": "axiQTUX737lz",
      "execution_count": null,
      "outputs": []
    }
  ],
  "metadata": {
    "colab": {
      "provenance": []
    },
    "kernelspec": {
      "display_name": "Python 3",
      "name": "python3"
    },
    "language_info": {
      "name": "python"
    }
  },
  "nbformat": 4,
  "nbformat_minor": 5
}
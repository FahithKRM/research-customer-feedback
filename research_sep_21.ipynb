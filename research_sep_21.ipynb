{
  "cells": [
    {
      "cell_type": "markdown",
      "source": [
        "# Code 1"
      ],
      "metadata": {
        "id": "fo2VcL-hUjTx"
      },
      "id": "fo2VcL-hUjTx"
    },
    {
      "cell_type": "code",
      "source": [
        "# Step 1: Set Up Environment (No changes needed)\n",
        "!pip install -q pandas numpy scikit-learn nltk textblob spacy lightgbm\n",
        "!python -m spacy download en_core_web_sm\n",
        "\n",
        "import nltk\n",
        "nltk.download('vader_lexicon')\n",
        "nltk.download('punkt')\n",
        "nltk.download('stopwords')\n",
        "nltk.download('wordnet') # NEW: For lemmatization\n",
        "\n",
        "import pandas as pd\n",
        "import numpy as np\n",
        "import spacy\n",
        "import re\n",
        "from nltk.corpus import stopwords\n",
        "\n",
        "# ML Imports\n",
        "from sklearn.model_selection import train_test_split, GridSearchCV\n",
        "from sklearn.feature_extraction.text import TfidfVectorizer\n",
        "from sklearn.preprocessing import LabelEncoder\n",
        "from sklearn.pipeline import Pipeline\n",
        "from sklearn.compose import ColumnTransformer\n",
        "\n",
        "# Models\n",
        "from sklearn.linear_model import LogisticRegression\n",
        "from sklearn.svm import SVC\n",
        "from sklearn.ensemble import RandomForestClassifier\n",
        "import lightgbm as lgb\n",
        "\n",
        "# Evaluation\n",
        "from sklearn.metrics import classification_report, accuracy_score, confusion_matrix\n",
        "import seaborn as sns\n",
        "import matplotlib.pyplot as plt\n",
        "\n",
        "# Rule-Based\n",
        "from nltk.sentiment.vader import SentimentIntensityAnalyzer\n",
        "\n",
        "# Load resources\n",
        "nlp = spacy.load('en_core_web_sm')\n",
        "sia = SentimentIntensityAnalyzer()\n",
        "stop_words = set(stopwords.words('english'))\n",
        "\n",
        "print(\"Environment setup complete!\")"
      ],
      "metadata": {
        "colab": {
          "base_uri": "https://localhost:8080/"
        },
        "id": "6fugfmmklgIK",
        "outputId": "b06b65af-a5d9-438e-e8b1-ee2329952e68"
      },
      "id": "6fugfmmklgIK",
      "execution_count": 53,
      "outputs": [
        {
          "output_type": "stream",
          "name": "stdout",
          "text": [
            "Collecting en-core-web-sm==3.8.0\n",
            "  Downloading https://github.com/explosion/spacy-models/releases/download/en_core_web_sm-3.8.0/en_core_web_sm-3.8.0-py3-none-any.whl (12.8 MB)\n",
            "\u001b[2K     \u001b[90m━━━━━━━━━━━━━━━━━━━━━━━━━━━━━━━━━━━━━━━━\u001b[0m \u001b[32m12.8/12.8 MB\u001b[0m \u001b[31m29.1 MB/s\u001b[0m eta \u001b[36m0:00:00\u001b[0m\n",
            "\u001b[?25h\u001b[38;5;2m✔ Download and installation successful\u001b[0m\n",
            "You can now load the package via spacy.load('en_core_web_sm')\n",
            "\u001b[38;5;3m⚠ Restart to reload dependencies\u001b[0m\n",
            "If you are in a Jupyter or Colab notebook, you may need to restart Python in\n",
            "order to load all the package's dependencies. You can do this by selecting the\n",
            "'Restart kernel' or 'Restart runtime' option.\n"
          ]
        },
        {
          "output_type": "stream",
          "name": "stderr",
          "text": [
            "[nltk_data] Downloading package vader_lexicon to /root/nltk_data...\n",
            "[nltk_data]   Package vader_lexicon is already up-to-date!\n",
            "[nltk_data] Downloading package punkt to /root/nltk_data...\n",
            "[nltk_data]   Package punkt is already up-to-date!\n",
            "[nltk_data] Downloading package stopwords to /root/nltk_data...\n",
            "[nltk_data]   Package stopwords is already up-to-date!\n",
            "[nltk_data] Downloading package wordnet to /root/nltk_data...\n"
          ]
        },
        {
          "output_type": "stream",
          "name": "stdout",
          "text": [
            "Environment setup complete!\n"
          ]
        }
      ]
    },
    {
      "cell_type": "code",
      "source": [
        "# Step 2: Mount Google Drive and Load Dataset (Assuming same setup)\n",
        "from google.colab import drive\n",
        "drive.mount('/content/drive')\n",
        "\n",
        "data_path = '/content/drive/MyDrive/Dataset/dummy_reviews.csv'\n",
        "df = pd.read_csv(data_path)"
      ],
      "metadata": {
        "colab": {
          "base_uri": "https://localhost:8080/"
        },
        "id": "0ly1aMSRlrv3",
        "outputId": "06e042b9-aef2-46c5-b2ee-8bc95425cfcf"
      },
      "id": "0ly1aMSRlrv3",
      "execution_count": 55,
      "outputs": [
        {
          "output_type": "stream",
          "name": "stdout",
          "text": [
            "Drive already mounted at /content/drive; to attempt to forcibly remount, call drive.mount(\"/content/drive\", force_remount=True).\n"
          ]
        }
      ]
    },
    {
      "cell_type": "code",
      "source": [
        "# ---\n",
        "# Step 3: Enhanced Preprocessing and Feature Engineering\n",
        "# ---\n",
        "\n",
        "# IMPROVEMENT: A dedicated text cleaning and preprocessing function\n",
        "def preprocess_text(text):\n",
        "    \"\"\"Cleans and lemmatizes text data.\"\"\"\n",
        "    # Lowercase\n",
        "    text = text.lower()\n",
        "    # Remove punctuation and numbers\n",
        "    text = re.sub(r'[^a-z\\s]', '', text)\n",
        "    # Lemmatize with SpaCy\n",
        "    doc = nlp(text)\n",
        "    lemmatized_tokens = [token.lemma_ for token in doc if token.text not in stop_words]\n",
        "    return ' '.join(lemmatized_tokens)\n",
        "\n",
        "# Apply preprocessing to the review text\n",
        "df['cleaned_review_text'] = df['review_text'].apply(preprocess_text)\n",
        "\n",
        "print(\"Preprocessing complete. Example:\")\n",
        "print(f\"Original: {df['review_text'][0]}\")\n",
        "print(f\"Cleaned: {df['cleaned_review_text'][0]}\")\n",
        "\n",
        "# Select features (X) and target (y)\n",
        "# NEW: Using 'star_rating' as an additional feature\n",
        "features = ['cleaned_review_text', 'star_rating']\n",
        "target = 'sentiment'\n",
        "\n",
        "X = df[features]\n",
        "y = df[target]\n",
        "\n",
        "# Encode target labels\n",
        "le = LabelEncoder()\n",
        "y_encoded = le.fit_transform(y)\n",
        "class_names = le.classes_\n",
        "print(f\"\\nLabels encoded. Classes: {class_names}\")\n",
        "\n",
        "# IMPROVEMENT: Use stratify to handle potential class imbalance during split\n",
        "X_train, X_test, y_train, y_test = train_test_split(\n",
        "    X, y_encoded, test_size=0.2, random_state=42, stratify=y_encoded\n",
        ")\n",
        "\n",
        "print(f\"Data split. Train shape: {X_train.shape}, Test shape: {X_test.shape}\")"
      ],
      "metadata": {
        "colab": {
          "base_uri": "https://localhost:8080/"
        },
        "id": "AYGgMP1Dlw0O",
        "outputId": "bcb8e4fe-59a6-4fc1-e6bd-0ec408cb4139"
      },
      "id": "AYGgMP1Dlw0O",
      "execution_count": 56,
      "outputs": [
        {
          "output_type": "stream",
          "name": "stdout",
          "text": [
            "Preprocessing complete. Example:\n",
            "Original: Avoid this Smartphone. sound is a major issue.\n",
            "Cleaned: avoid smartphone sound major issue\n",
            "\n",
            "Labels encoded. Classes: ['Negative' 'Positive']\n",
            "Data split. Train shape: (800, 2), Test shape: (200, 2)\n"
          ]
        }
      ]
    },
    {
      "cell_type": "code",
      "source": [
        "# ---\n",
        "# Step 4: Rule-Based Model (Using VADER for baseline)\n",
        "# ---\n",
        "\n",
        "def rule_based_sentiment(text):\n",
        "    \"\"\"Predicts sentiment using VADER.\"\"\"\n",
        "    score = sia.polarity_scores(text)['compound']\n",
        "    # Map VADER score to our label encoding (Negative:0, Neutral:1, Positive:2)\n",
        "    if score >= 0.05:\n",
        "        return 2  # Positive\n",
        "    elif score <= -0.05:\n",
        "        return 0  # Negative\n",
        "    else:\n",
        "        return 1  # Neutral\n",
        "\n",
        "y_pred_rule = X_test['cleaned_review_text'].apply(rule_based_sentiment) # Use original text for VADER\n",
        "class_names = ['Negative', 'Neutral', 'Positive']  # Explicitly define 3 classes\n",
        "\n",
        "print(\"\\nRule-Based (VADER) Evaluation:\")\n",
        "print(classification_report(y_test, y_pred_rule, target_names=class_names))\n",
        "acc_rule = accuracy_score(y_test, y_pred_rule)"
      ],
      "metadata": {
        "colab": {
          "base_uri": "https://localhost:8080/"
        },
        "id": "y07PPOT0l8H0",
        "outputId": "bf2cfbc5-59d6-4f73-98a7-a7418863c2de"
      },
      "id": "y07PPOT0l8H0",
      "execution_count": 59,
      "outputs": [
        {
          "output_type": "stream",
          "name": "stdout",
          "text": [
            "\n",
            "Rule-Based (VADER) Evaluation:\n",
            "              precision    recall  f1-score   support\n",
            "\n",
            "    Negative       1.00      1.00      1.00       117\n",
            "     Neutral       0.00      0.00      0.00        83\n",
            "    Positive       0.00      0.00      0.00         0\n",
            "\n",
            "    accuracy                           0.58       200\n",
            "   macro avg       0.33      0.33      0.33       200\n",
            "weighted avg       0.58      0.58      0.58       200\n",
            "\n"
          ]
        },
        {
          "output_type": "stream",
          "name": "stderr",
          "text": [
            "/usr/local/lib/python3.12/dist-packages/sklearn/metrics/_classification.py:1565: UndefinedMetricWarning: Precision is ill-defined and being set to 0.0 in labels with no predicted samples. Use `zero_division` parameter to control this behavior.\n",
            "  _warn_prf(average, modifier, f\"{metric.capitalize()} is\", len(result))\n",
            "/usr/local/lib/python3.12/dist-packages/sklearn/metrics/_classification.py:1565: UndefinedMetricWarning: Recall is ill-defined and being set to 0.0 in labels with no true samples. Use `zero_division` parameter to control this behavior.\n",
            "  _warn_prf(average, modifier, f\"{metric.capitalize()} is\", len(result))\n",
            "/usr/local/lib/python3.12/dist-packages/sklearn/metrics/_classification.py:1565: UndefinedMetricWarning: Precision is ill-defined and being set to 0.0 in labels with no predicted samples. Use `zero_division` parameter to control this behavior.\n",
            "  _warn_prf(average, modifier, f\"{metric.capitalize()} is\", len(result))\n",
            "/usr/local/lib/python3.12/dist-packages/sklearn/metrics/_classification.py:1565: UndefinedMetricWarning: Recall is ill-defined and being set to 0.0 in labels with no true samples. Use `zero_division` parameter to control this behavior.\n",
            "  _warn_prf(average, modifier, f\"{metric.capitalize()} is\", len(result))\n",
            "/usr/local/lib/python3.12/dist-packages/sklearn/metrics/_classification.py:1565: UndefinedMetricWarning: Precision is ill-defined and being set to 0.0 in labels with no predicted samples. Use `zero_division` parameter to control this behavior.\n",
            "  _warn_prf(average, modifier, f\"{metric.capitalize()} is\", len(result))\n",
            "/usr/local/lib/python3.12/dist-packages/sklearn/metrics/_classification.py:1565: UndefinedMetricWarning: Recall is ill-defined and being set to 0.0 in labels with no true samples. Use `zero_division` parameter to control this behavior.\n",
            "  _warn_prf(average, modifier, f\"{metric.capitalize()} is\", len(result))\n"
          ]
        }
      ]
    },
    {
      "cell_type": "code",
      "source": [
        "# ---\n",
        "# Step 5 & 6: ML Models with Pipelines and Hyperparameter Tuning\n",
        "# ---\n",
        "\n",
        "# IMPROVEMENT: Use a ColumnTransformer to handle text and numeric features separately\n",
        "preprocessor = ColumnTransformer(\n",
        "    transformers=[\n",
        "        ('tfidf', TfidfVectorizer(ngram_range=(1, 2), stop_words='english'), 'cleaned_review_text'),\n",
        "        # 'passthrough' means the 'star_rating' column is not changed\n",
        "        ('numeric', 'passthrough', ['star_rating'])\n",
        "    ],\n",
        "    remainder='drop' # Drop other columns if any\n",
        ")\n",
        "\n",
        "# --- Model 1: Logistic Regression Pipeline ---\n",
        "lr_pipeline = Pipeline(steps=[\n",
        "    ('preprocessor', preprocessor),\n",
        "    ('classifier', LogisticRegression(max_iter=1000, random_state=42))\n",
        "])\n",
        "lr_pipeline.fit(X_train, y_train)\n",
        "y_pred_lr = lr_pipeline.predict(X_test)\n",
        "acc_lr = accuracy_score(y_test, y_pred_lr)\n",
        "print(\"\\nLogistic Regression Evaluation:\")\n",
        "print(classification_report(y_test, y_pred_lr, target_names=le.classes_))\n",
        "\n",
        "# --- Model 2: SVM Pipeline with Hyperparameter Tuning ---\n",
        "svm_pipeline = Pipeline(steps=[\n",
        "    ('preprocessor', preprocessor),\n",
        "    ('classifier', SVC(random_state=42))\n",
        "])\n",
        "\n",
        "# NEW: Use GridSearchCV to find the best parameters\n",
        "param_grid = {\n",
        "    'classifier__C': [0.1, 1, 10],\n",
        "    'classifier__kernel': ['linear', 'rbf']\n",
        "}\n",
        "grid_search_svm = GridSearchCV(svm_pipeline, param_grid, cv=3, n_jobs=-1, verbose=1)\n",
        "grid_search_svm.fit(X_train, y_train)\n",
        "\n",
        "print(f\"\\nBest SVM parameters: {grid_search_svm.best_params_}\")\n",
        "y_pred_svm = grid_search_svm.predict(X_test)\n",
        "acc_svm = accuracy_score(y_test, y_pred_svm)\n",
        "print(\"Tuned SVM Evaluation:\")\n",
        "print(classification_report(y_test, y_pred_svm, target_names=le.classes_))\n",
        "\n",
        "\n",
        "# --- Model 3: LightGBM (Advanced Gradient Boosting Model) ---\n",
        "# NEW: Adding a more powerful model\n",
        "lgbm_pipeline = Pipeline(steps=[\n",
        "    ('preprocessor', preprocessor),\n",
        "    ('classifier', lgb.LGBMClassifier(random_state=42))\n",
        "])\n",
        "lgbm_pipeline.fit(X_train, y_train)\n",
        "y_pred_lgbm = lgbm_pipeline.predict(X_test)\n",
        "acc_lgbm = accuracy_score(y_test, y_pred_lgbm)\n",
        "print(\"\\nLightGBM Evaluation:\")\n",
        "print(classification_report(y_test, y_pred_lgbm, target_names=le.classes_))"
      ],
      "metadata": {
        "colab": {
          "base_uri": "https://localhost:8080/"
        },
        "id": "Y2L07jtsmV8_",
        "outputId": "7d2a26db-0aea-4226-cc45-43e99a412043"
      },
      "id": "Y2L07jtsmV8_",
      "execution_count": 62,
      "outputs": [
        {
          "output_type": "stream",
          "name": "stdout",
          "text": [
            "\n",
            "Logistic Regression Evaluation:\n",
            "              precision    recall  f1-score   support\n",
            "\n",
            "    Negative       1.00      1.00      1.00       117\n",
            "    Positive       1.00      1.00      1.00        83\n",
            "\n",
            "    accuracy                           1.00       200\n",
            "   macro avg       1.00      1.00      1.00       200\n",
            "weighted avg       1.00      1.00      1.00       200\n",
            "\n",
            "Fitting 3 folds for each of 6 candidates, totalling 18 fits\n",
            "\n",
            "Best SVM parameters: {'classifier__C': 0.1, 'classifier__kernel': 'linear'}\n",
            "Tuned SVM Evaluation:\n",
            "              precision    recall  f1-score   support\n",
            "\n",
            "    Negative       1.00      1.00      1.00       117\n",
            "    Positive       1.00      1.00      1.00        83\n",
            "\n",
            "    accuracy                           1.00       200\n",
            "   macro avg       1.00      1.00      1.00       200\n",
            "weighted avg       1.00      1.00      1.00       200\n",
            "\n",
            "[LightGBM] [Info] Number of positive: 331, number of negative: 469\n",
            "[LightGBM] [Info] Auto-choosing row-wise multi-threading, the overhead of testing was 0.000828 seconds.\n",
            "You can set `force_row_wise=true` to remove the overhead.\n",
            "And if memory is not enough, you can set `force_col_wise=true`.\n",
            "[LightGBM] [Info] Total Bins 96\n",
            "[LightGBM] [Info] Number of data points in the train set: 800, number of used features: 43\n",
            "[LightGBM] [Info] [binary:BoostFromScore]: pavg=0.413750 -> initscore=-0.348484\n",
            "[LightGBM] [Info] Start training from score -0.348484\n",
            "[LightGBM] [Warning] No further splits with positive gain, best gain: -inf\n",
            "[LightGBM] [Warning] No further splits with positive gain, best gain: -inf\n",
            "[LightGBM] [Warning] No further splits with positive gain, best gain: -inf\n",
            "[LightGBM] [Warning] No further splits with positive gain, best gain: -inf\n",
            "[LightGBM] [Warning] No further splits with positive gain, best gain: -inf\n",
            "[LightGBM] [Warning] No further splits with positive gain, best gain: -inf\n",
            "[LightGBM] [Warning] No further splits with positive gain, best gain: -inf\n",
            "[LightGBM] [Warning] No further splits with positive gain, best gain: -inf\n",
            "[LightGBM] [Warning] No further splits with positive gain, best gain: -inf\n",
            "[LightGBM] [Warning] No further splits with positive gain, best gain: -inf\n",
            "[LightGBM] [Warning] No further splits with positive gain, best gain: -inf\n",
            "[LightGBM] [Warning] No further splits with positive gain, best gain: -inf\n",
            "[LightGBM] [Warning] No further splits with positive gain, best gain: -inf\n",
            "[LightGBM] [Warning] No further splits with positive gain, best gain: -inf\n",
            "[LightGBM] [Warning] No further splits with positive gain, best gain: -inf\n",
            "[LightGBM] [Warning] No further splits with positive gain, best gain: -inf\n",
            "[LightGBM] [Warning] No further splits with positive gain, best gain: -inf\n",
            "[LightGBM] [Warning] No further splits with positive gain, best gain: -inf\n",
            "[LightGBM] [Warning] No further splits with positive gain, best gain: -inf\n",
            "[LightGBM] [Warning] No further splits with positive gain, best gain: -inf\n",
            "[LightGBM] [Warning] No further splits with positive gain, best gain: -inf\n",
            "[LightGBM] [Warning] No further splits with positive gain, best gain: -inf\n",
            "[LightGBM] [Warning] No further splits with positive gain, best gain: -inf\n",
            "[LightGBM] [Warning] No further splits with positive gain, best gain: -inf\n",
            "[LightGBM] [Warning] No further splits with positive gain, best gain: -inf\n",
            "[LightGBM] [Warning] No further splits with positive gain, best gain: -inf\n",
            "[LightGBM] [Warning] No further splits with positive gain, best gain: -inf\n",
            "[LightGBM] [Warning] No further splits with positive gain, best gain: -inf\n",
            "[LightGBM] [Warning] No further splits with positive gain, best gain: -inf\n",
            "[LightGBM] [Warning] No further splits with positive gain, best gain: -inf\n",
            "[LightGBM] [Warning] No further splits with positive gain, best gain: -inf\n",
            "[LightGBM] [Warning] No further splits with positive gain, best gain: -inf\n",
            "[LightGBM] [Warning] No further splits with positive gain, best gain: -inf\n",
            "[LightGBM] [Warning] No further splits with positive gain, best gain: -inf\n",
            "[LightGBM] [Warning] No further splits with positive gain, best gain: -inf\n",
            "[LightGBM] [Warning] No further splits with positive gain, best gain: -inf\n",
            "[LightGBM] [Warning] No further splits with positive gain, best gain: -inf\n",
            "[LightGBM] [Warning] No further splits with positive gain, best gain: -inf\n",
            "[LightGBM] [Warning] No further splits with positive gain, best gain: -inf\n",
            "[LightGBM] [Warning] No further splits with positive gain, best gain: -inf\n",
            "[LightGBM] [Warning] No further splits with positive gain, best gain: -inf\n",
            "[LightGBM] [Warning] No further splits with positive gain, best gain: -inf\n",
            "[LightGBM] [Warning] No further splits with positive gain, best gain: -inf\n",
            "[LightGBM] [Warning] No further splits with positive gain, best gain: -inf\n",
            "[LightGBM] [Warning] No further splits with positive gain, best gain: -inf\n",
            "[LightGBM] [Warning] No further splits with positive gain, best gain: -inf\n",
            "[LightGBM] [Warning] No further splits with positive gain, best gain: -inf\n",
            "[LightGBM] [Warning] No further splits with positive gain, best gain: -inf\n",
            "[LightGBM] [Warning] No further splits with positive gain, best gain: -inf\n",
            "[LightGBM] [Warning] No further splits with positive gain, best gain: -inf\n",
            "[LightGBM] [Warning] No further splits with positive gain, best gain: -inf\n",
            "[LightGBM] [Warning] No further splits with positive gain, best gain: -inf\n",
            "[LightGBM] [Warning] No further splits with positive gain, best gain: -inf\n",
            "[LightGBM] [Warning] No further splits with positive gain, best gain: -inf\n",
            "[LightGBM] [Warning] No further splits with positive gain, best gain: -inf\n",
            "[LightGBM] [Warning] No further splits with positive gain, best gain: -inf\n",
            "[LightGBM] [Warning] No further splits with positive gain, best gain: -inf\n",
            "[LightGBM] [Warning] No further splits with positive gain, best gain: -inf\n",
            "[LightGBM] [Warning] No further splits with positive gain, best gain: -inf\n",
            "[LightGBM] [Warning] No further splits with positive gain, best gain: -inf\n",
            "[LightGBM] [Warning] No further splits with positive gain, best gain: -inf\n",
            "[LightGBM] [Warning] No further splits with positive gain, best gain: -inf\n",
            "[LightGBM] [Warning] No further splits with positive gain, best gain: -inf\n",
            "[LightGBM] [Warning] No further splits with positive gain, best gain: -inf\n",
            "[LightGBM] [Warning] No further splits with positive gain, best gain: -inf\n",
            "[LightGBM] [Warning] No further splits with positive gain, best gain: -inf\n",
            "[LightGBM] [Warning] No further splits with positive gain, best gain: -inf\n",
            "[LightGBM] [Warning] No further splits with positive gain, best gain: -inf\n",
            "[LightGBM] [Warning] No further splits with positive gain, best gain: -inf\n",
            "[LightGBM] [Warning] No further splits with positive gain, best gain: -inf\n",
            "[LightGBM] [Warning] No further splits with positive gain, best gain: -inf\n",
            "[LightGBM] [Warning] No further splits with positive gain, best gain: -inf\n",
            "[LightGBM] [Warning] No further splits with positive gain, best gain: -inf\n",
            "[LightGBM] [Warning] No further splits with positive gain, best gain: -inf\n",
            "[LightGBM] [Warning] No further splits with positive gain, best gain: -inf\n",
            "[LightGBM] [Warning] No further splits with positive gain, best gain: -inf\n",
            "[LightGBM] [Warning] No further splits with positive gain, best gain: -inf\n",
            "[LightGBM] [Warning] No further splits with positive gain, best gain: -inf\n",
            "[LightGBM] [Warning] No further splits with positive gain, best gain: -inf\n",
            "[LightGBM] [Warning] No further splits with positive gain, best gain: -inf\n",
            "[LightGBM] [Warning] No further splits with positive gain, best gain: -inf\n",
            "[LightGBM] [Warning] No further splits with positive gain, best gain: -inf\n",
            "[LightGBM] [Warning] No further splits with positive gain, best gain: -inf\n",
            "[LightGBM] [Warning] No further splits with positive gain, best gain: -inf\n",
            "[LightGBM] [Warning] No further splits with positive gain, best gain: -inf\n",
            "[LightGBM] [Warning] No further splits with positive gain, best gain: -inf\n",
            "[LightGBM] [Warning] No further splits with positive gain, best gain: -inf\n",
            "[LightGBM] [Warning] No further splits with positive gain, best gain: -inf\n",
            "[LightGBM] [Warning] No further splits with positive gain, best gain: -inf\n",
            "[LightGBM] [Warning] No further splits with positive gain, best gain: -inf\n",
            "[LightGBM] [Warning] No further splits with positive gain, best gain: -inf\n",
            "[LightGBM] [Warning] No further splits with positive gain, best gain: -inf\n",
            "[LightGBM] [Warning] No further splits with positive gain, best gain: -inf\n",
            "[LightGBM] [Warning] No further splits with positive gain, best gain: -inf\n",
            "[LightGBM] [Warning] No further splits with positive gain, best gain: -inf\n",
            "[LightGBM] [Warning] No further splits with positive gain, best gain: -inf\n",
            "[LightGBM] [Warning] No further splits with positive gain, best gain: -inf\n",
            "[LightGBM] [Warning] No further splits with positive gain, best gain: -inf\n",
            "[LightGBM] [Warning] No further splits with positive gain, best gain: -inf\n",
            "[LightGBM] [Warning] No further splits with positive gain, best gain: -inf\n",
            "\n",
            "LightGBM Evaluation:\n",
            "              precision    recall  f1-score   support\n",
            "\n",
            "    Negative       1.00      1.00      1.00       117\n",
            "    Positive       1.00      1.00      1.00        83\n",
            "\n",
            "    accuracy                           1.00       200\n",
            "   macro avg       1.00      1.00      1.00       200\n",
            "weighted avg       1.00      1.00      1.00       200\n",
            "\n"
          ]
        },
        {
          "output_type": "stream",
          "name": "stderr",
          "text": [
            "/usr/local/lib/python3.12/dist-packages/sklearn/utils/validation.py:2739: UserWarning: X does not have valid feature names, but LGBMClassifier was fitted with feature names\n",
            "  warnings.warn(\n"
          ]
        }
      ]
    },
    {
      "cell_type": "code",
      "source": [
        "# ---\n",
        "# Step 7: Compare All Models\n",
        "# ---\n",
        "\n",
        "results = {\n",
        "    'Model': ['Rule-Based (VADER)', 'Logistic Regression', 'Tuned SVM', 'LightGBM'],\n",
        "    'Accuracy': [acc_rule, acc_lr, acc_svm, acc_lgbm]\n",
        "}\n",
        "\n",
        "results_df = pd.DataFrame(results).sort_values(by='Accuracy', ascending=False)\n",
        "print(\"\\n--- Model Comparison ---\")\n",
        "print(results_df)\n",
        "\n",
        "# Visualize\n",
        "plt.figure(figsize=(10, 6))\n",
        "sns.barplot(x='Accuracy', y='Model', data=results_df, palette='viridis')\n",
        "plt.title('Model Performance Comparison')\n",
        "plt.xlabel('Accuracy')\n",
        "plt.ylabel('Model')\n",
        "plt.show()\n",
        "\n",
        "# NEW: Plot confusion matrix for the best model (e.g., Tuned SVM)\n",
        "cm = confusion_matrix(y_test, y_pred_svm)\n",
        "plt.figure(figsize=(8, 6))\n",
        "sns.heatmap(cm, annot=True, fmt='d', cmap='Blues', xticklabels=class_names, yticklabels=class_names)\n",
        "plt.title('Confusion Matrix for Tuned SVM')\n",
        "plt.xlabel('Predicted')\n",
        "plt.ylabel('Actual')\n",
        "plt.show()"
      ],
      "metadata": {
        "colab": {
          "base_uri": "https://localhost:8080/",
          "height": 1000
        },
        "id": "zRqTzPAGlbtQ",
        "outputId": "ff13967a-5d8a-48c9-eb33-5ac3313ae546"
      },
      "id": "zRqTzPAGlbtQ",
      "execution_count": 63,
      "outputs": [
        {
          "output_type": "stream",
          "name": "stdout",
          "text": [
            "\n",
            "--- Model Comparison ---\n",
            "                 Model  Accuracy\n",
            "1  Logistic Regression     1.000\n",
            "2            Tuned SVM     1.000\n",
            "3             LightGBM     1.000\n",
            "0   Rule-Based (VADER)     0.585\n"
          ]
        },
        {
          "output_type": "stream",
          "name": "stderr",
          "text": [
            "/tmp/ipython-input-1459232312.py:16: FutureWarning: \n",
            "\n",
            "Passing `palette` without assigning `hue` is deprecated and will be removed in v0.14.0. Assign the `y` variable to `hue` and set `legend=False` for the same effect.\n",
            "\n",
            "  sns.barplot(x='Accuracy', y='Model', data=results_df, palette='viridis')\n"
          ]
        },
        {
          "output_type": "display_data",
          "data": {
            "text/plain": [
              "<Figure size 1000x600 with 1 Axes>"
            ],
            "image/png": "[encoded data removed]"
          },
          "metadata": {}
        },
        {
          "output_type": "display_data",
          "data": {
            "text/plain": [
              "<Figure size 800x600 with 2 Axes>"
            ],
            "image/png": "[encoded data removed]"
          },
          "metadata": {}
        }
      ]
    },
    {
      "cell_type": "code",
      "source": [
        "# ---\n",
        "# Step 8: Input Different Reviews and Predict\n",
        "# ---\n",
        "# IMPROVEMENT: Simplified prediction function using the saved pipeline\n",
        "def predict_sentiment(review_text, star_rating, model_pipeline):\n",
        "    \"\"\"Predicts sentiment for a new review using a trained pipeline.\"\"\"\n",
        "    # Create a DataFrame with the same structure as the training data\n",
        "    new_data = pd.DataFrame({'cleaned_review_text': [preprocess_text(review_text)], 'star_rating': [star_rating]})\n",
        "    prediction_encoded = model_pipeline.predict(new_data)\n",
        "    return le.inverse_transform(prediction_encoded)[0]\n",
        "\n",
        "# Example usage with the best model (Tuned SVM)\n",
        "best_model_pipeline = grid_search_svm.best_estimator_\n",
        "\n",
        "new_reviews = [\n",
        "    {\"text\": \"The battery life is amazing, lasts all day!\", \"rating\": 5},\n",
        "    {\"text\": \"This product is terrible, broke after a week.\", \"rating\": 1},\n",
        "    {\"text\": \"It's okay, nothing special but it works fine.\", \"rating\": 3}\n",
        "]\n",
        "\n",
        "print(\"\\n--- Testing with New Reviews ---\")\n",
        "for review in new_reviews:\n",
        "    prediction = predict_sentiment(review[\"text\"], review[\"rating\"], best_model_pipeline)\n",
        "    print(f\"Review: '{review['text']}' (Rating: {review['rating']}) -> Predicted Sentiment: {prediction}\")"
      ],
      "metadata": {
        "id": "Yoqq6Xl5mujV",
        "outputId": "1572f6de-6d3c-4127-dab3-da411f6f4551",
        "colab": {
          "base_uri": "https://localhost:8080/"
        }
      },
      "id": "Yoqq6Xl5mujV",
      "execution_count": 64,
      "outputs": [
        {
          "output_type": "stream",
          "name": "stdout",
          "text": [
            "\n",
            "--- Testing with New Reviews ---\n",
            "Review: 'The battery life is amazing, lasts all day!' (Rating: 5) -> Predicted Sentiment: Positive\n",
            "Review: 'This product is terrible, broke after a week.' (Rating: 1) -> Predicted Sentiment: Negative\n",
            "Review: 'It's okay, nothing special but it works fine.' (Rating: 3) -> Predicted Sentiment: Negative\n"
          ]
        }
      ]
    },
    {
      "cell_type": "markdown",
      "source": [
        "# Code 2"
      ],
      "metadata": {
        "id": "mr70f_b-cOYR"
      },
      "id": "mr70f_b-cOYR"
    },
    {
      "cell_type": "code",
      "source": [
        "# Step 1: Set Up Environment and Install Dependencies\n",
        "!pip install -q pandas numpy scikit-learn nltk textblob spacy transformers sentence-transformers\n",
        "!python -m spacy download en_core_web_sm\n",
        "\n",
        "import nltk\n",
        "nltk.download('vader_lexicon')\n",
        "nltk.download('punkt')\n",
        "nltk.download('stopwords')\n",
        "\n",
        "import pandas as pd\n",
        "import numpy as np\n",
        "from sklearn.model_selection import train_test_split\n",
        "from sklearn.feature_extraction.text import TfidfVectorizer\n",
        "from sklearn.linear_model import LogisticRegression\n",
        "from sklearn.svm import SVC\n",
        "from sklearn.ensemble import RandomForestClassifier\n",
        "from sklearn.metrics import accuracy_score, precision_score, recall_score, f1_score, classification_report\n",
        "from nltk.sentiment.vader import SentimentIntensityAnalyzer\n",
        "from textblob import TextBlob\n",
        "import spacy\n",
        "from sklearn.preprocessing import LabelEncoder\n",
        "import matplotlib.pyplot as plt\n",
        "\n",
        "nlp = spacy.load('en_core_web_sm')\n",
        "sia = SentimentIntensityAnalyzer()\n",
        "\n",
        "print(\"Environment setup complete!\")"
      ],
      "metadata": {
        "colab": {
          "base_uri": "https://localhost:8080/"
        },
        "id": "ZgT5McHGdji7",
        "outputId": "84b93a88-41b9-4214-f621-956465444cbb"
      },
      "id": "ZgT5McHGdji7",
      "execution_count": 35,
      "outputs": [
        {
          "output_type": "stream",
          "name": "stdout",
          "text": [
            "Collecting en-core-web-sm==3.8.0\n",
            "  Downloading https://github.com/explosion/spacy-models/releases/download/en_core_web_sm-3.8.0/en_core_web_sm-3.8.0-py3-none-any.whl (12.8 MB)\n",
            "\u001b[2K     \u001b[90m━━━━━━━━━━━━━━━━━━━━━━━━━━━━━━━━━━━━━━━━\u001b[0m \u001b[32m12.8/12.8 MB\u001b[0m \u001b[31m83.3 MB/s\u001b[0m eta \u001b[36m0:00:00\u001b[0m\n",
            "\u001b[?25h\u001b[38;5;2m✔ Download and installation successful\u001b[0m\n",
            "You can now load the package via spacy.load('en_core_web_sm')\n",
            "\u001b[38;5;3m⚠ Restart to reload dependencies\u001b[0m\n",
            "If you are in a Jupyter or Colab notebook, you may need to restart Python in\n",
            "order to load all the package's dependencies. You can do this by selecting the\n",
            "'Restart kernel' or 'Restart runtime' option.\n"
          ]
        },
        {
          "output_type": "stream",
          "name": "stderr",
          "text": [
            "[nltk_data] Downloading package vader_lexicon to /root/nltk_data...\n",
            "[nltk_data]   Package vader_lexicon is already up-to-date!\n",
            "[nltk_data] Downloading package punkt to /root/nltk_data...\n",
            "[nltk_data]   Package punkt is already up-to-date!\n",
            "[nltk_data] Downloading package stopwords to /root/nltk_data...\n",
            "[nltk_data]   Unzipping corpora/stopwords.zip.\n"
          ]
        },
        {
          "output_type": "stream",
          "name": "stdout",
          "text": [
            "Environment setup complete!\n"
          ]
        }
      ]
    },
    {
      "cell_type": "code",
      "source": [
        "# Step 2: Mount Google Drive and Load Dataset\n",
        "from google.colab import drive\n",
        "drive.mount('/content/drive')\n",
        "\n",
        "# Assume the dummy CSV is saved in your Google Drive as 'dummy_customer_feedback.csv'\n",
        "# Upload it to MyDrive if not already there.\n",
        "data_path = '/content/drive/MyDrive/Dataset/dummy_reviews.csv'\n",
        "df = pd.read_csv(data_path)\n",
        "\n",
        "print(\"Dataset loaded:\")\n",
        "print(df.head())\n",
        "print(f\"Shape: {df.shape}\")"
      ],
      "metadata": {
        "colab": {
          "base_uri": "https://localhost:8080/"
        },
        "id": "LP5Vl0uQdwK2",
        "outputId": "79cab265-1f09-42c5-94f9-94750c612e03"
      },
      "id": "LP5Vl0uQdwK2",
      "execution_count": 36,
      "outputs": [
        {
          "output_type": "stream",
          "name": "stdout",
          "text": [
            "Drive already mounted at /content/drive; to attempt to forcibly remount, call drive.mount(\"/content/drive\", force_remount=True).\n",
            "Dataset loaded:\n",
            "   review_id                                        review_text sentiment  \\\n",
            "0          0     Avoid this Smartphone. sound is a major issue.  Negative   \n",
            "1          1  Great Book, highly recommend. battery exceeded...  Positive   \n",
            "2          2    Poor Laptop, not worth it. plot failed quickly.  Negative   \n",
            "3          3  Great Book, highly recommend. battery exceeded...  Positive   \n",
            "4          4  Great Book, highly recommend. battery exceeded...  Positive   \n",
            "\n",
            "   star_rating     product   aspect  \n",
            "0            2  Smartphone    sound  \n",
            "1            4        Book  battery  \n",
            "2            2      Laptop     plot  \n",
            "3            4        Book  battery  \n",
            "4            4        Book  battery  \n",
            "Shape: (1000, 6)\n"
          ]
        }
      ]
    },
    {
      "cell_type": "code",
      "source": [
        "# Step 3: Select Relevant Columns (Remove unwanted like review_id, product_category, star_rating if not needed)\n",
        "# Keep 'review_text' as input, 'sentiment' as target\n",
        "df = df[['review_text', 'sentiment']]\n",
        "\n",
        "# Encode sentiment labels (Positive: 2, Neutral: 1, Negative: 0)\n",
        "le = LabelEncoder()\n",
        "df['sentiment_encoded'] = le.fit_transform(df['sentiment'])\n",
        "\n",
        "# Split data into train/test (80/20)\n",
        "X = df['review_text']\n",
        "y = df['sentiment_encoded']\n",
        "X_train, X_test, y_train, y_test = train_test_split(X, y, test_size=0.2, random_state=42)\n",
        "\n",
        "print(\"Data prepared. Train shape:\", X_train.shape, \"Test shape:\", X_test.shape)"
      ],
      "metadata": {
        "colab": {
          "base_uri": "https://localhost:8080/"
        },
        "id": "BqqHGySmd_FW",
        "outputId": "8a7ec965-8502-40f7-8658-c79cc804a20b"
      },
      "id": "BqqHGySmd_FW",
      "execution_count": 37,
      "outputs": [
        {
          "output_type": "stream",
          "name": "stdout",
          "text": [
            "Data prepared. Train shape: (800,) Test shape: (200,)\n"
          ]
        }
      ]
    },
    {
      "cell_type": "code",
      "source": [
        "# Step 4: Rule-Based Model (Using VADER for sentiment with negation handling)\n",
        "# VADER handles negations (e.g., \"not good\" -> negative), compounds, and boosters.\n",
        "def rule_based_sentiment(text):\n",
        "    score = sia.polarity_scores(text)['compound']\n",
        "    if score > 0.05:\n",
        "        return 2  # Positive\n",
        "    elif score < -0.05:\n",
        "        return 0  # Negative\n",
        "    else:\n",
        "        return 1  # Neutral\n",
        "\n",
        "# Apply to test set\n",
        "y_pred_rule = [rule_based_sentiment(text) for text in X_test]\n",
        "\n",
        "# Evaluate Rule-Based\n",
        "print(\"Rule-Based Evaluation:\")\n",
        "# Ensure target_names matches the number of classes (0, 1, 2)\n",
        "target_names = ['Negative', 'Neutral', 'Positive']  # Explicitly define 3 classes\n",
        "print(classification_report(y_test, y_pred_rule, target_names=target_names))\n",
        "acc_rule = accuracy_score(y_test, y_pred_rule)"
      ],
      "metadata": {
        "colab": {
          "base_uri": "https://localhost:8080/"
        },
        "id": "6cJGkRZHessR",
        "outputId": "4a7f52b8-1ec6-494c-c1a8-29e903e86bd7"
      },
      "id": "6cJGkRZHessR",
      "execution_count": 47,
      "outputs": [
        {
          "output_type": "stream",
          "name": "stdout",
          "text": [
            "Rule-Based Evaluation:\n",
            "              precision    recall  f1-score   support\n",
            "\n",
            "    Negative       1.00      1.00      1.00       122\n",
            "     Neutral       0.00      0.00      0.00        78\n",
            "    Positive       0.00      0.00      0.00         0\n",
            "\n",
            "    accuracy                           0.61       200\n",
            "   macro avg       0.33      0.33      0.33       200\n",
            "weighted avg       0.61      0.61      0.61       200\n",
            "\n"
          ]
        },
        {
          "output_type": "stream",
          "name": "stderr",
          "text": [
            "/usr/local/lib/python3.12/dist-packages/sklearn/metrics/_classification.py:1565: UndefinedMetricWarning: Precision is ill-defined and being set to 0.0 in labels with no predicted samples. Use `zero_division` parameter to control this behavior.\n",
            "  _warn_prf(average, modifier, f\"{metric.capitalize()} is\", len(result))\n",
            "/usr/local/lib/python3.12/dist-packages/sklearn/metrics/_classification.py:1565: UndefinedMetricWarning: Recall is ill-defined and being set to 0.0 in labels with no true samples. Use `zero_division` parameter to control this behavior.\n",
            "  _warn_prf(average, modifier, f\"{metric.capitalize()} is\", len(result))\n",
            "/usr/local/lib/python3.12/dist-packages/sklearn/metrics/_classification.py:1565: UndefinedMetricWarning: Precision is ill-defined and being set to 0.0 in labels with no predicted samples. Use `zero_division` parameter to control this behavior.\n",
            "  _warn_prf(average, modifier, f\"{metric.capitalize()} is\", len(result))\n",
            "/usr/local/lib/python3.12/dist-packages/sklearn/metrics/_classification.py:1565: UndefinedMetricWarning: Recall is ill-defined and being set to 0.0 in labels with no true samples. Use `zero_division` parameter to control this behavior.\n",
            "  _warn_prf(average, modifier, f\"{metric.capitalize()} is\", len(result))\n",
            "/usr/local/lib/python3.12/dist-packages/sklearn/metrics/_classification.py:1565: UndefinedMetricWarning: Precision is ill-defined and being set to 0.0 in labels with no predicted samples. Use `zero_division` parameter to control this behavior.\n",
            "  _warn_prf(average, modifier, f\"{metric.capitalize()} is\", len(result))\n",
            "/usr/local/lib/python3.12/dist-packages/sklearn/metrics/_classification.py:1565: UndefinedMetricWarning: Recall is ill-defined and being set to 0.0 in labels with no true samples. Use `zero_division` parameter to control this behavior.\n",
            "  _warn_prf(average, modifier, f\"{metric.capitalize()} is\", len(result))\n"
          ]
        }
      ]
    },
    {
      "cell_type": "code",
      "source": [
        "# Step 5 & 6: ML Models with N-gram Features (TF-IDF with 1-3 grams), Evaluation (Accuracy, Precision, Recall, F1)\n",
        "# Vectorizer for n-grams\n",
        "vectorizer = TfidfVectorizer(ngram_range=(1, 3), stop_words='english', max_features=5000)\n",
        "X_train_tfidf = vectorizer.fit_transform(X_train)\n",
        "X_test_tfidf = vectorizer.transform(X_test)\n",
        "\n",
        "# Model 1: Logistic Regression\n",
        "lr_model = LogisticRegression(max_iter=1000)\n",
        "lr_model.fit(X_train_tfidf, y_train)\n",
        "y_pred_lr = lr_model.predict(X_test_tfidf)\n",
        "acc_lr = accuracy_score(y_test, y_pred_lr)\n",
        "print(\"Logistic Regression Evaluation:\")\n",
        "print(classification_report(y_test, y_pred_lr, target_names=le.classes_))\n",
        "\n",
        "# Model 2: SVM\n",
        "svm_model = SVC(kernel='linear')\n",
        "svm_model.fit(X_train_tfidf, y_train)\n",
        "y_pred_svm = svm_model.predict(X_test_tfidf)\n",
        "acc_svm = accuracy_score(y_test, y_pred_svm)\n",
        "print(\"SVM Evaluation:\")\n",
        "print(classification_report(y_test, y_pred_svm, target_names=le.classes_))\n",
        "\n",
        "# Model 3: Random Forest\n",
        "rf_model = RandomForestClassifier(n_estimators=100, random_state=42)\n",
        "rf_model.fit(X_train_tfidf, y_train)\n",
        "y_pred_rf = rf_model.predict(X_test_tfidf)\n",
        "acc_rf = accuracy_score(y_test, y_pred_rf)\n",
        "print(\"Random Forest Evaluation:\")\n",
        "print(classification_report(y_test, y_pred_rf, target_names=le.classes_))"
      ],
      "metadata": {
        "colab": {
          "base_uri": "https://localhost:8080/"
        },
        "id": "7vT4_-6UeZlr",
        "outputId": "3311603a-d03d-4f5a-dc0c-fe7942c30d2a"
      },
      "id": "7vT4_-6UeZlr",
      "execution_count": 48,
      "outputs": [
        {
          "output_type": "stream",
          "name": "stdout",
          "text": [
            "Logistic Regression Evaluation:\n",
            "              precision    recall  f1-score   support\n",
            "\n",
            "    Negative       1.00      1.00      1.00       122\n",
            "    Positive       1.00      1.00      1.00        78\n",
            "\n",
            "    accuracy                           1.00       200\n",
            "   macro avg       1.00      1.00      1.00       200\n",
            "weighted avg       1.00      1.00      1.00       200\n",
            "\n",
            "SVM Evaluation:\n",
            "              precision    recall  f1-score   support\n",
            "\n",
            "    Negative       1.00      1.00      1.00       122\n",
            "    Positive       1.00      1.00      1.00        78\n",
            "\n",
            "    accuracy                           1.00       200\n",
            "   macro avg       1.00      1.00      1.00       200\n",
            "weighted avg       1.00      1.00      1.00       200\n",
            "\n",
            "Random Forest Evaluation:\n",
            "              precision    recall  f1-score   support\n",
            "\n",
            "    Negative       1.00      1.00      1.00       122\n",
            "    Positive       1.00      1.00      1.00        78\n",
            "\n",
            "    accuracy                           1.00       200\n",
            "   macro avg       1.00      1.00      1.00       200\n",
            "weighted avg       1.00      1.00      1.00       200\n",
            "\n"
          ]
        }
      ]
    },
    {
      "cell_type": "code",
      "source": [
        "# Step 7: Hybrid Approach (Combine Rule-Based Scores with ML Features)\n",
        "# Add rule-based compound score as an extra feature\n",
        "rule_scores_train = np.array([sia.polarity_scores(text)['compound'] for text in X_train]).reshape(-1, 1)\n",
        "rule_scores_test = np.array([sia.polarity_scores(text)['compound'] for text in X_test]).reshape(-1, 1)\n",
        "\n",
        "# Combine with TF-IDF\n",
        "from scipy.sparse import hstack\n",
        "X_train_hybrid = hstack((X_train_tfidf, rule_scores_train))\n",
        "X_test_hybrid = hstack((X_test_tfidf, rule_scores_test))\n",
        "\n",
        "# Train Hybrid on Logistic Regression (as base ML, can change)\n",
        "hybrid_model = LogisticRegression(max_iter=1000)\n",
        "hybrid_model.fit(X_train_hybrid, y_train)\n",
        "y_pred_hybrid = hybrid_model.predict(X_test_hybrid)\n",
        "acc_hybrid = accuracy_score(y_test, y_pred_hybrid)\n",
        "print(\"Hybrid Model Evaluation:\")\n",
        "print(classification_report(y_test, y_pred_hybrid, target_names=le.classes_))"
      ],
      "metadata": {
        "colab": {
          "base_uri": "https://localhost:8080/"
        },
        "id": "rltZV-7VedET",
        "outputId": "8690a0d3-2937-46c6-c8e9-406ec79eea13"
      },
      "id": "rltZV-7VedET",
      "execution_count": 49,
      "outputs": [
        {
          "output_type": "stream",
          "name": "stdout",
          "text": [
            "Hybrid Model Evaluation:\n",
            "              precision    recall  f1-score   support\n",
            "\n",
            "    Negative       1.00      1.00      1.00       122\n",
            "    Positive       1.00      1.00      1.00        78\n",
            "\n",
            "    accuracy                           1.00       200\n",
            "   macro avg       1.00      1.00      1.00       200\n",
            "weighted avg       1.00      1.00      1.00       200\n",
            "\n"
          ]
        }
      ]
    },
    {
      "cell_type": "code",
      "source": [
        "# Step 8: Compare All Models (Rule-Based, ML Models, Hybrid)\n",
        "results = {\n",
        "    'Model': ['Rule-Based', 'Logistic Regression', 'SVM', 'Random Forest', 'Hybrid'],\n",
        "    'Accuracy': [acc_rule, acc_lr, acc_svm, acc_rf, acc_hybrid]\n",
        "}\n",
        "\n",
        "results_df = pd.DataFrame(results)\n",
        "print(\"Model Comparison:\")\n",
        "print(results_df)\n",
        "\n",
        "# Visualize\n",
        "plt.bar(results_df['Model'], results_df['Accuracy'])\n",
        "plt.xlabel('Models')\n",
        "plt.ylabel('Accuracy')\n",
        "plt.title('Model Performance Comparison')\n",
        "plt.xticks(rotation=45)\n",
        "plt.show()"
      ],
      "metadata": {
        "colab": {
          "base_uri": "https://localhost:8080/",
          "height": 683
        },
        "id": "bhXK9JkSemMB",
        "outputId": "3553b304-db7c-487f-957c-ed362eb48184"
      },
      "id": "bhXK9JkSemMB",
      "execution_count": 50,
      "outputs": [
        {
          "output_type": "stream",
          "name": "stdout",
          "text": [
            "Model Comparison:\n",
            "                 Model  Accuracy\n",
            "0           Rule-Based      0.61\n",
            "1  Logistic Regression      1.00\n",
            "2                  SVM      1.00\n",
            "3        Random Forest      1.00\n",
            "4               Hybrid      1.00\n"
          ]
        },
        {
          "output_type": "display_data",
          "data": {
            "text/plain": [
              "<Figure size 640x480 with 1 Axes>"
            ],
            "image/png": "[encoded data removed]"
          },
          "metadata": {}
        }
      ]
    },
    {
      "cell_type": "code",
      "source": [
        "# Step 9: Input Different Reviews and Compare Results\n",
        "def predict_sentiment(new_review):\n",
        "    # Preprocess\n",
        "    tfidf_vec = vectorizer.transform([new_review])\n",
        "    rule_score = np.array([sia.polarity_scores(new_review)['compound']]).reshape(-1, 1)\n",
        "    hybrid_vec = hstack((tfidf_vec, rule_score))\n",
        "\n",
        "    # Predictions\n",
        "    rule_pred = rule_based_sentiment(new_review)\n",
        "    lr_pred = lr_model.predict(tfidf_vec)[0]\n",
        "    svm_pred = svm_model.predict(tfidf_vec)[0]\n",
        "    rf_pred = rf_model.predict(tfidf_vec)[0]\n",
        "    hybrid_pred = hybrid_model.predict(hybrid_vec)[0]\n",
        "\n",
        "    # Decode labels\n",
        "    # Fit the label encoder on all possible labels before inverse transforming\n",
        "    le.fit(['Negative', 'Neutral', 'Positive'])\n",
        "    preds = {\n",
        "        'Rule-Based': le.inverse_transform([rule_pred])[0],\n",
        "        'Logistic Regression': le.inverse_transform([lr_pred])[0],\n",
        "        'SVM': le.inverse_transform([svm_pred])[0],\n",
        "        'Random Forest': le.inverse_transform([rf_pred])[0],\n",
        "        'Hybrid': le.inverse_transform([hybrid_pred])[0]\n",
        "    }\n",
        "    return preds\n",
        "\n",
        "# Example usage: Input new reviews\n",
        "new_reviews = [\n",
        "    \"The battery life is amazing, lasts all day!\",\n",
        "    \"This product is terrible, broke after a week.\",\n",
        "    \"It's okay, nothing special but works fine.\"\n",
        "]\n",
        "\n",
        "for review in new_reviews:\n",
        "    print(f\"\\nReview: {review}\")\n",
        "    print(predict_sentiment(review))"
      ],
      "metadata": {
        "colab": {
          "base_uri": "https://localhost:8080/"
        },
        "id": "r2F_LAgZdfNX",
        "outputId": "921a8f91-11e4-4871-a44d-12b33584873d"
      },
      "id": "r2F_LAgZdfNX",
      "execution_count": 52,
      "outputs": [
        {
          "output_type": "stream",
          "name": "stdout",
          "text": [
            "\n",
            "Review: The battery life is amazing, lasts all day!\n",
            "{'Rule-Based': np.str_('Positive'), 'Logistic Regression': np.str_('Neutral'), 'SVM': np.str_('Neutral'), 'Random Forest': np.str_('Neutral'), 'Hybrid': np.str_('Neutral')}\n",
            "\n",
            "Review: This product is terrible, broke after a week.\n",
            "{'Rule-Based': np.str_('Negative'), 'Logistic Regression': np.str_('Negative'), 'SVM': np.str_('Negative'), 'Random Forest': np.str_('Negative'), 'Hybrid': np.str_('Negative')}\n",
            "\n",
            "Review: It's okay, nothing special but works fine.\n",
            "{'Rule-Based': np.str_('Positive'), 'Logistic Regression': np.str_('Negative'), 'SVM': np.str_('Negative'), 'Random Forest': np.str_('Negative'), 'Hybrid': np.str_('Negative')}\n"
          ]
        }
      ]
    },
    {
      "cell_type": "markdown",
      "source": [
        "# Code 3"
      ],
      "metadata": {
        "id": "uMjKLBNp0OY4"
      },
      "id": "uMjKLBNp0OY4"
    },
    {
      "cell_type": "code",
      "source": [
        "# Step 1: Set Up Environment and Install Dependencies\n",
        "!pip install -q pandas numpy scikit-learn nltk textblob spacy transformers sentence-transformers\n",
        "!python -m spacy download en_core_web_sm\n",
        "\n",
        "import nltk\n",
        "nltk.download('vader_lexicon')\n",
        "nltk.download('punkt')\n",
        "nltk.download('stopwords')\n",
        "\n",
        "import pandas as pd\n",
        "import numpy as np\n",
        "from sklearn.model_selection import train_test_split\n",
        "from sklearn.feature_extraction.text import TfidfVectorizer\n",
        "from sklearn.linear_model import LogisticRegression\n",
        "from sklearn.svm import SVC\n",
        "from sklearn.ensemble import RandomForestClassifier\n",
        "from sklearn.metrics import accuracy_score, precision_score, recall_score, f1_score, classification_report\n",
        "from nltk.sentiment.vader import SentimentIntensityAnalyzer\n",
        "from textblob import TextBlob\n",
        "import spacy\n",
        "from sklearn.preprocessing import LabelEncoder\n",
        "import matplotlib.pyplot as plt\n",
        "from scipy.sparse import hstack\n",
        "\n",
        "nlp = spacy.load('en_core_web_sm')\n",
        "sia = SentimentIntensityAnalyzer()\n",
        "\n",
        "print(\"Environment setup complete!\")\n",
        "\n",
        "# Step 2: Mount Google Drive and Load Dataset\n",
        "from google.colab import drive\n",
        "drive.mount('/content/drive')\n",
        "\n",
        "# Load dataset (adjust path if needed)\n",
        "data_path = '/content/drive/MyDrive/dummy_customer_feedback.csv'  # Update to your path\n",
        "df = pd.read_csv(data_path)\n",
        "\n",
        "print(\"Dataset loaded:\")\n",
        "print(df.head())\n",
        "print(f\"Shape: {df.shape}\")\n",
        "print(\"Sentiment distribution:\", df['sentiment'].value_counts())\n",
        "\n",
        "# Step 3: Select Relevant Columns and Preprocess\n",
        "df = df[['review_text', 'sentiment']]\n",
        "\n",
        "# Encode sentiment labels (Positive: 2, Neutral: 1, Negative: 0)\n",
        "le = LabelEncoder()\n",
        "df['sentiment_encoded'] = le.fit_transform(df['sentiment'])\n",
        "print(\"Encoded classes:\", le.classes_)\n",
        "\n",
        "# Ensure all three classes are present\n",
        "if len(le.classes_) != 3:\n",
        "    raise ValueError(\"Dataset must contain Negative, Neutral, and Positive sentiments.\")\n",
        "\n",
        "# Split data into train/test (80/20, stratified to maintain class balance)\n",
        "X = df['review_text']\n",
        "y = df['sentiment_encoded']\n",
        "X_train, X_test, y_train, y_test = train_test_split(X, y, test_size=0.2, random_state=42, stratify=y)\n",
        "\n",
        "print(\"Data prepared. Train shape:\", X_train.shape, \"Test shape:\", X_test.shape)\n",
        "print(\"Test set sentiment distribution:\", pd.Series(y_test).value_counts())\n",
        "\n",
        "# Step 4: Rule-Based Model with Enhanced Negation Handling\n",
        "def rule_based_sentiment(text):\n",
        "    # VADER sentiment\n",
        "    vader_score = sia.polarity_scores(text)['compound']\n",
        "\n",
        "    # Enhance with spaCy negation detection\n",
        "    doc = nlp(text)\n",
        "    negation = any(token.dep_ == 'neg' for token in doc)\n",
        "\n",
        "    # Adjust thresholds and handle negations\n",
        "    if negation and vader_score > 0:\n",
        "        return 0  # Flip to Negative if negation detected\n",
        "    elif vader_score > 0.1:  # Tighter threshold for Positive\n",
        "        return 2  # Positive\n",
        "    elif vader_score < -0.1:  # Tighter threshold for Negative\n",
        "        return 0  # Negative\n",
        "    else:\n",
        "        return 1  # Neutral\n",
        "\n",
        "# Apply to test set\n",
        "y_pred_rule = [rule_based_sentiment(text) for text in X_test]\n",
        "\n",
        "# Evaluate Rule-Based\n",
        "print(\"Rule-Based Evaluation:\")\n",
        "print(classification_report(y_test, y_pred_rule, target_names=le.classes_, zero_division=0))\n",
        "acc_rule = accuracy_score(y_test, y_pred_rule)\n",
        "\n",
        "# Step 5 & 6: ML Models with N-gram Features (TF-IDF with 1-3 grams), Evaluation\n",
        "# Vectorizer for n-grams (reduced features to prevent overfitting)\n",
        "vectorizer = TfidfVectorizer(ngram_range=(1, 3), stop_words='english', max_features=2000)\n",
        "X_train_tfidf = vectorizer.fit_transform(X_train)\n",
        "X_test_tfidf = vectorizer.transform(X_test)\n",
        "\n",
        "# Model 1: Logistic Regression (with regularization)\n",
        "lr_model = LogisticRegression(max_iter=1000, C=0.5)\n",
        "lr_model.fit(X_train_tfidf, y_train)\n",
        "y_pred_lr = lr_model.predict(X_test_tfidf)\n",
        "acc_lr = accuracy_score(y_test, y_pred_lr)\n",
        "print(\"Logistic Regression Evaluation:\")\n",
        "print(classification_report(y_test, y_pred_lr, target_names=le.classes_, zero_division=0))\n",
        "\n",
        "# Model 2: SVM\n",
        "svm_model = SVC(kernel='linear', C=0.5)\n",
        "svm_model.fit(X_train_tfidf, y_train)\n",
        "y_pred_svm = svm_model.predict(X_test_tfidf)\n",
        "acc_svm = accuracy_score(y_test, y_pred_svm)\n",
        "print(\"SVM Evaluation:\")\n",
        "print(classification_report(y_test, y_pred_svm, target_names=le.classes_, zero_division=0))\n",
        "\n",
        "# Model 3: Random Forest\n",
        "rf_model = RandomForestClassifier(n_estimators=100, random_state=42, max_depth=10)\n",
        "rf_model.fit(X_train_tfidf, y_train)\n",
        "y_pred_rf = rf_model.predict(X_test_tfidf)\n",
        "acc_rf = accuracy_score(y_test, y_pred_rf)\n",
        "print(\"Random Forest Evaluation:\")\n",
        "print(classification_report(y_test, y_pred_rf, target_names=le.classes_, zero_division=0))\n",
        "\n",
        "# Step 7: Hybrid Approach (Combine Rule-Based Scores with ML Features)\n",
        "rule_scores_train = np.array([sia.polarity_scores(text)['compound'] for text in X_train]).reshape(-1, 1)\n",
        "rule_scores_test = np.array([sia.polarity_scores(text)['compound'] for text in X_test]).reshape(-1, 1)\n",
        "\n",
        "# Combine TF-IDF with rule-based scores\n",
        "X_train_hybrid = hstack((X_train_tfidf, rule_scores_train))\n",
        "X_test_hybrid = hstack((X_test_tfidf, rule_scores_test))\n",
        "\n",
        "# Train Hybrid on Logistic Regression\n",
        "hybrid_model = LogisticRegression(max_iter=1000, C=0.5)\n",
        "hybrid_model.fit(X_train_hybrid, y_train)\n",
        "y_pred_hybrid = hybrid_model.predict(X_test_hybrid)\n",
        "acc_hybrid = accuracy_score(y_test, y_pred_hybrid)\n",
        "print(\"Hybrid Model Evaluation:\")\n",
        "print(classification_report(y_test, y_pred_hybrid, target_names=le.classes_, zero_division=0))\n",
        "\n",
        "# Step 8: Compare All Models\n",
        "results = {\n",
        "    'Model': ['Rule-Based', 'Logistic Regression', 'SVM', 'Random Forest', 'Hybrid'],\n",
        "    'Accuracy': [acc_rule, acc_lr, acc_svm, acc_rf, acc_hybrid],\n",
        "    'Precision (macro)': [precision_score(y_test, y_pred_rule, average='macro', zero_division=0),\n",
        "                         precision_score(y_test, y_pred_lr, average='macro', zero_division=0),\n",
        "                         precision_score(y_test, y_pred_svm, average='macro', zero_division=0),\n",
        "                         precision_score(y_test, y_pred_rf, average='macro', zero_division=0),\n",
        "                         precision_score(y_test, y_pred_hybrid, average='macro', zero_division=0)],\n",
        "    'Recall (macro)': [recall_score(y_test, y_pred_rule, average='macro', zero_division=0),\n",
        "                       recall_score(y_test, y_pred_lr, average='macro', zero_division=0),\n",
        "                       recall_score(y_test, y_pred_svm, average='macro', zero_division=0),\n",
        "                       recall_score(y_test, y_pred_rf, average='macro', zero_division=0),\n",
        "                       recall_score(y_test, y_pred_hybrid, average='macro', zero_division=0)],\n",
        "    'F1-Score (macro)': [f1_score(y_test, y_pred_rule, average='macro', zero_division=0),\n",
        "                         f1_score(y_test, y_pred_lr, average='macro', zero_division=0),\n",
        "                         f1_score(y_test, y_pred_svm, average='macro', zero_division=0),\n",
        "                         f1_score(y_test, y_pred_rf, average='macro', zero_division=0),\n",
        "                         f1_score(y_test, y_pred_hybrid, average='macro', zero_division=0)]\n",
        "}\n",
        "\n",
        "results_df = pd.DataFrame(results)\n",
        "print(\"Model Comparison:\")\n",
        "print(results_df)\n",
        "\n",
        "# Visualize\n",
        "plt.figure(figsize=(10, 6))\n",
        "plt.bar(results_df['Model'], results_df['Accuracy'])\n",
        "plt.xlabel('Models')\n",
        "plt.ylabel('Accuracy')\n",
        "plt.title('Model Performance Comparison')\n",
        "plt.xticks(rotation=45)\n",
        "plt.show()\n",
        "\n",
        "# Step 9: Input Different Reviews and Compare Results\n",
        "def predict_sentiment(new_review):\n",
        "    tfidf_vec = vectorizer.transform([new_review])\n",
        "    rule_score = np.array([sia.polarity_scores(new_review)['compound']]).reshape(-1, 1)\n",
        "    hybrid_vec = hstack((tfidf_vec, rule_score))\n",
        "\n",
        "    rule_pred = rule_based_sentiment(new_review)\n",
        "    lr_pred = lr_model.predict(tfidf_vec)[0]\n",
        "    svm_pred = svm_model.predict(tfidf_vec)[0]\n",
        "    rf_pred = rf_model.predict(tfidf_vec)[0]\n",
        "    hybrid_pred = hybrid_model.predict(hybrid_vec)[0]\n",
        "\n",
        "    preds = {\n",
        "        'Rule-Based': le.inverse_transform([rule_pred])[0],\n",
        "        'Logistic Regression': le.inverse_transform([lr_pred])[0],\n",
        "        'SVM': le.inverse_transform([svm_pred])[0],\n",
        "        'Random Forest': le.inverse_transform([rf_pred])[0],\n",
        "        'Hybrid': le.inverse_transform([hybrid_pred])[0]\n",
        "    }\n",
        "    return preds\n",
        "\n",
        "# Test new reviews\n",
        "new_reviews = [\n",
        "    \"The battery life is amazing, lasts all day!\",\n",
        "    \"This product is terrible, broke after a week.\",\n",
        "    \"It's okay, nothing special but works fine.\"\n",
        "]\n",
        "\n",
        "for review in new_reviews:\n",
        "    print(f\"\\nReview: {review}\")\n",
        "    print(predict_sentiment(review))"
      ],
      "metadata": {
        "id": "bN7dS8h40Qf3"
      },
      "id": "bN7dS8h40Qf3",
      "execution_count": null,
      "outputs": []
    }
  ],
  "metadata": {
    "language_info": {
      "name": "python"
    },
    "colab": {
      "provenance": []
    },
    "kernelspec": {
      "name": "python3",
      "display_name": "Python 3"
    }
  },
  "nbformat": 4,
  "nbformat_minor": 5
}
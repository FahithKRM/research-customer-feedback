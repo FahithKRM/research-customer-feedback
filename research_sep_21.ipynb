{
  "cells": [
    {
      "cell_type": "markdown",
      "source": [
        "# Code 1"
      ],
      "metadata": {
        "id": "mr70f_b-cOYR"
      },
      "id": "mr70f_b-cOYR"
    },
    {
      "cell_type": "code",
      "source": [
        "# Step 1: Set Up Environment and Install Dependencies\n",
        "!pip install -q pandas numpy scikit-learn nltk textblob spacy transformers sentence-transformers\n",
        "!python -m spacy download en_core_web_sm\n",
        "\n",
        "import nltk\n",
        "nltk.download('vader_lexicon')\n",
        "nltk.download('punkt')\n",
        "nltk.download('stopwords')\n",
        "\n",
        "import pandas as pd\n",
        "import numpy as np\n",
        "from sklearn.model_selection import train_test_split\n",
        "from sklearn.feature_extraction.text import TfidfVectorizer\n",
        "from sklearn.linear_model import LogisticRegression\n",
        "from sklearn.svm import SVC\n",
        "from sklearn.ensemble import RandomForestClassifier\n",
        "from sklearn.metrics import accuracy_score, precision_score, recall_score, f1_score, classification_report\n",
        "from nltk.sentiment.vader import SentimentIntensityAnalyzer\n",
        "from textblob import TextBlob\n",
        "import spacy\n",
        "from sklearn.preprocessing import LabelEncoder\n",
        "import matplotlib.pyplot as plt\n",
        "\n",
        "nlp = spacy.load('en_core_web_sm')\n",
        "sia = SentimentIntensityAnalyzer()\n",
        "\n",
        "print(\"Environment setup complete!\")"
      ],
      "metadata": {
        "colab": {
          "base_uri": "https://localhost:8080/"
        },
        "id": "ZgT5McHGdji7",
        "outputId": "84b93a88-41b9-4214-f621-956465444cbb"
      },
      "id": "ZgT5McHGdji7",
      "execution_count": null,
      "outputs": [
        {
          "output_type": "stream",
          "name": "stdout",
          "text": [
            "Collecting en-core-web-sm==3.8.0\n",
            "  Downloading https://github.com/explosion/spacy-models/releases/download/en_core_web_sm-3.8.0/en_core_web_sm-3.8.0-py3-none-any.whl (12.8 MB)\n",
            "\u001b[2K     \u001b[90m━━━━━━━━━━━━━━━━━━━━━━━━━━━━━━━━━━━━━━━━\u001b[0m \u001b[32m12.8/12.8 MB\u001b[0m \u001b[31m83.3 MB/s\u001b[0m eta \u001b[36m0:00:00\u001b[0m\n",
            "\u001b[?25h\u001b[38;5;2m✔ Download and installation successful\u001b[0m\n",
            "You can now load the package via spacy.load('en_core_web_sm')\n",
            "\u001b[38;5;3m⚠ Restart to reload dependencies\u001b[0m\n",
            "If you are in a Jupyter or Colab notebook, you may need to restart Python in\n",
            "order to load all the package's dependencies. You can do this by selecting the\n",
            "'Restart kernel' or 'Restart runtime' option.\n"
          ]
        },
        {
          "output_type": "stream",
          "name": "stderr",
          "text": [
            "[nltk_data] Downloading package vader_lexicon to /root/nltk_data...\n",
            "[nltk_data]   Package vader_lexicon is already up-to-date!\n",
            "[nltk_data] Downloading package punkt to /root/nltk_data...\n",
            "[nltk_data]   Package punkt is already up-to-date!\n",
            "[nltk_data] Downloading package stopwords to /root/nltk_data...\n",
            "[nltk_data]   Unzipping corpora/stopwords.zip.\n"
          ]
        },
        {
          "output_type": "stream",
          "name": "stdout",
          "text": [
            "Environment setup complete!\n"
          ]
        }
      ]
    },
    {
      "cell_type": "code",
      "source": [
        "# Step 2: Mount Google Drive and Load Dataset\n",
        "from google.colab import drive\n",
        "drive.mount('/content/drive')\n",
        "\n",
        "# Assume the dummy CSV is saved in your Google Drive as 'dummy_customer_feedback.csv'\n",
        "# Upload it to MyDrive if not already there.\n",
        "data_path = '/content/drive/MyDrive/Dataset/dummy_reviews.csv'\n",
        "df = pd.read_csv(data_path)\n",
        "\n",
        "print(\"Dataset loaded:\")\n",
        "print(df.head())\n",
        "print(f\"Shape: {df.shape}\")"
      ],
      "metadata": {
        "colab": {
          "base_uri": "https://localhost:8080/"
        },
        "id": "LP5Vl0uQdwK2",
        "outputId": "79cab265-1f09-42c5-94f9-94750c612e03"
      },
      "id": "LP5Vl0uQdwK2",
      "execution_count": null,
      "outputs": [
        {
          "output_type": "stream",
          "name": "stdout",
          "text": [
            "Drive already mounted at /content/drive; to attempt to forcibly remount, call drive.mount(\"/content/drive\", force_remount=True).\n",
            "Dataset loaded:\n",
            "   review_id                                        review_text sentiment  \\\n",
            "0          0     Avoid this Smartphone. sound is a major issue.  Negative   \n",
            "1          1  Great Book, highly recommend. battery exceeded...  Positive   \n",
            "2          2    Poor Laptop, not worth it. plot failed quickly.  Negative   \n",
            "3          3  Great Book, highly recommend. battery exceeded...  Positive   \n",
            "4          4  Great Book, highly recommend. battery exceeded...  Positive   \n",
            "\n",
            "   star_rating     product   aspect  \n",
            "0            2  Smartphone    sound  \n",
            "1            4        Book  battery  \n",
            "2            2      Laptop     plot  \n",
            "3            4        Book  battery  \n",
            "4            4        Book  battery  \n",
            "Shape: (1000, 6)\n"
          ]
        }
      ]
    },
    {
      "cell_type": "code",
      "source": [
        "# Step 3: Select Relevant Columns (Remove unwanted like review_id, product_category, star_rating if not needed)\n",
        "# Keep 'review_text' as input, 'sentiment' as target\n",
        "df = df[['review_text', 'sentiment']]\n",
        "\n",
        "# Encode sentiment labels (Positive: 2, Neutral: 1, Negative: 0)\n",
        "le = LabelEncoder()\n",
        "df['sentiment_encoded'] = le.fit_transform(df['sentiment'])\n",
        "\n",
        "# Split data into train/test (80/20)\n",
        "X = df['review_text']\n",
        "y = df['sentiment_encoded']\n",
        "X_train, X_test, y_train, y_test = train_test_split(X, y, test_size=0.2, random_state=42)\n",
        "\n",
        "print(\"Data prepared. Train shape:\", X_train.shape, \"Test shape:\", X_test.shape)"
      ],
      "metadata": {
        "colab": {
          "base_uri": "https://localhost:8080/"
        },
        "id": "BqqHGySmd_FW",
        "outputId": "8a7ec965-8502-40f7-8658-c79cc804a20b"
      },
      "id": "BqqHGySmd_FW",
      "execution_count": null,
      "outputs": [
        {
          "output_type": "stream",
          "name": "stdout",
          "text": [
            "Data prepared. Train shape: (800,) Test shape: (200,)\n"
          ]
        }
      ]
    },
    {
      "cell_type": "code",
      "source": [
        "# Step 4: Rule-Based Model (Using VADER for sentiment with negation handling)\n",
        "# VADER handles negations (e.g., \"not good\" -> negative), compounds, and boosters.\n",
        "def rule_based_sentiment(text):\n",
        "    score = sia.polarity_scores(text)['compound']\n",
        "    if score > 0.05:\n",
        "        return 2  # Positive\n",
        "    elif score < -0.05:\n",
        "        return 0  # Negative\n",
        "    else:\n",
        "        return 1  # Neutral\n",
        "\n",
        "# Apply to test set\n",
        "y_pred_rule = [rule_based_sentiment(text) for text in X_test]\n",
        "\n",
        "# Evaluate Rule-Based\n",
        "print(\"Rule-Based Evaluation:\")\n",
        "# Ensure target_names matches the number of classes (0, 1, 2)\n",
        "target_names = ['Negative', 'Neutral', 'Positive']  # Explicitly define 3 classes\n",
        "print(classification_report(y_test, y_pred_rule, target_names=target_names))\n",
        "acc_rule = accuracy_score(y_test, y_pred_rule)"
      ],
      "metadata": {
        "colab": {
          "base_uri": "https://localhost:8080/"
        },
        "id": "6cJGkRZHessR",
        "outputId": "4a7f52b8-1ec6-494c-c1a8-29e903e86bd7"
      },
      "id": "6cJGkRZHessR",
      "execution_count": null,
      "outputs": [
        {
          "output_type": "stream",
          "name": "stdout",
          "text": [
            "Rule-Based Evaluation:\n",
            "              precision    recall  f1-score   support\n",
            "\n",
            "    Negative       1.00      1.00      1.00       122\n",
            "     Neutral       0.00      0.00      0.00        78\n",
            "    Positive       0.00      0.00      0.00         0\n",
            "\n",
            "    accuracy                           0.61       200\n",
            "   macro avg       0.33      0.33      0.33       200\n",
            "weighted avg       0.61      0.61      0.61       200\n",
            "\n"
          ]
        },
        {
          "output_type": "stream",
          "name": "stderr",
          "text": [
            "/usr/local/lib/python3.12/dist-packages/sklearn/metrics/_classification.py:1565: UndefinedMetricWarning: Precision is ill-defined and being set to 0.0 in labels with no predicted samples. Use `zero_division` parameter to control this behavior.\n",
            "  _warn_prf(average, modifier, f\"{metric.capitalize()} is\", len(result))\n",
            "/usr/local/lib/python3.12/dist-packages/sklearn/metrics/_classification.py:1565: UndefinedMetricWarning: Recall is ill-defined and being set to 0.0 in labels with no true samples. Use `zero_division` parameter to control this behavior.\n",
            "  _warn_prf(average, modifier, f\"{metric.capitalize()} is\", len(result))\n",
            "/usr/local/lib/python3.12/dist-packages/sklearn/metrics/_classification.py:1565: UndefinedMetricWarning: Precision is ill-defined and being set to 0.0 in labels with no predicted samples. Use `zero_division` parameter to control this behavior.\n",
            "  _warn_prf(average, modifier, f\"{metric.capitalize()} is\", len(result))\n",
            "/usr/local/lib/python3.12/dist-packages/sklearn/metrics/_classification.py:1565: UndefinedMetricWarning: Recall is ill-defined and being set to 0.0 in labels with no true samples. Use `zero_division` parameter to control this behavior.\n",
            "  _warn_prf(average, modifier, f\"{metric.capitalize()} is\", len(result))\n",
            "/usr/local/lib/python3.12/dist-packages/sklearn/metrics/_classification.py:1565: UndefinedMetricWarning: Precision is ill-defined and being set to 0.0 in labels with no predicted samples. Use `zero_division` parameter to control this behavior.\n",
            "  _warn_prf(average, modifier, f\"{metric.capitalize()} is\", len(result))\n",
            "/usr/local/lib/python3.12/dist-packages/sklearn/metrics/_classification.py:1565: UndefinedMetricWarning: Recall is ill-defined and being set to 0.0 in labels with no true samples. Use `zero_division` parameter to control this behavior.\n",
            "  _warn_prf(average, modifier, f\"{metric.capitalize()} is\", len(result))\n"
          ]
        }
      ]
    },
    {
      "cell_type": "code",
      "source": [
        "# Step 5 & 6: ML Models with N-gram Features (TF-IDF with 1-3 grams), Evaluation (Accuracy, Precision, Recall, F1)\n",
        "# Vectorizer for n-grams\n",
        "vectorizer = TfidfVectorizer(ngram_range=(1, 3), stop_words='english', max_features=5000)\n",
        "X_train_tfidf = vectorizer.fit_transform(X_train)\n",
        "X_test_tfidf = vectorizer.transform(X_test)\n",
        "\n",
        "# Model 1: Logistic Regression\n",
        "lr_model = LogisticRegression(max_iter=1000)\n",
        "lr_model.fit(X_train_tfidf, y_train)\n",
        "y_pred_lr = lr_model.predict(X_test_tfidf)\n",
        "acc_lr = accuracy_score(y_test, y_pred_lr)\n",
        "print(\"Logistic Regression Evaluation:\")\n",
        "print(classification_report(y_test, y_pred_lr, target_names=le.classes_))\n",
        "\n",
        "# Model 2: SVM\n",
        "svm_model = SVC(kernel='linear')\n",
        "svm_model.fit(X_train_tfidf, y_train)\n",
        "y_pred_svm = svm_model.predict(X_test_tfidf)\n",
        "acc_svm = accuracy_score(y_test, y_pred_svm)\n",
        "print(\"SVM Evaluation:\")\n",
        "print(classification_report(y_test, y_pred_svm, target_names=le.classes_))\n",
        "\n",
        "# Model 3: Random Forest\n",
        "rf_model = RandomForestClassifier(n_estimators=100, random_state=42)\n",
        "rf_model.fit(X_train_tfidf, y_train)\n",
        "y_pred_rf = rf_model.predict(X_test_tfidf)\n",
        "acc_rf = accuracy_score(y_test, y_pred_rf)\n",
        "print(\"Random Forest Evaluation:\")\n",
        "print(classification_report(y_test, y_pred_rf, target_names=le.classes_))"
      ],
      "metadata": {
        "colab": {
          "base_uri": "https://localhost:8080/"
        },
        "id": "7vT4_-6UeZlr",
        "outputId": "3311603a-d03d-4f5a-dc0c-fe7942c30d2a"
      },
      "id": "7vT4_-6UeZlr",
      "execution_count": null,
      "outputs": [
        {
          "output_type": "stream",
          "name": "stdout",
          "text": [
            "Logistic Regression Evaluation:\n",
            "              precision    recall  f1-score   support\n",
            "\n",
            "    Negative       1.00      1.00      1.00       122\n",
            "    Positive       1.00      1.00      1.00        78\n",
            "\n",
            "    accuracy                           1.00       200\n",
            "   macro avg       1.00      1.00      1.00       200\n",
            "weighted avg       1.00      1.00      1.00       200\n",
            "\n",
            "SVM Evaluation:\n",
            "              precision    recall  f1-score   support\n",
            "\n",
            "    Negative       1.00      1.00      1.00       122\n",
            "    Positive       1.00      1.00      1.00        78\n",
            "\n",
            "    accuracy                           1.00       200\n",
            "   macro avg       1.00      1.00      1.00       200\n",
            "weighted avg       1.00      1.00      1.00       200\n",
            "\n",
            "Random Forest Evaluation:\n",
            "              precision    recall  f1-score   support\n",
            "\n",
            "    Negative       1.00      1.00      1.00       122\n",
            "    Positive       1.00      1.00      1.00        78\n",
            "\n",
            "    accuracy                           1.00       200\n",
            "   macro avg       1.00      1.00      1.00       200\n",
            "weighted avg       1.00      1.00      1.00       200\n",
            "\n"
          ]
        }
      ]
    },
    {
      "cell_type": "code",
      "source": [
        "# Step 7: Hybrid Approach (Combine Rule-Based Scores with ML Features)\n",
        "# Add rule-based compound score as an extra feature\n",
        "rule_scores_train = np.array([sia.polarity_scores(text)['compound'] for text in X_train]).reshape(-1, 1)\n",
        "rule_scores_test = np.array([sia.polarity_scores(text)['compound'] for text in X_test]).reshape(-1, 1)\n",
        "\n",
        "# Combine with TF-IDF\n",
        "from scipy.sparse import hstack\n",
        "X_train_hybrid = hstack((X_train_tfidf, rule_scores_train))\n",
        "X_test_hybrid = hstack((X_test_tfidf, rule_scores_test))\n",
        "\n",
        "# Train Hybrid on Logistic Regression (as base ML, can change)\n",
        "hybrid_model = LogisticRegression(max_iter=1000)\n",
        "hybrid_model.fit(X_train_hybrid, y_train)\n",
        "y_pred_hybrid = hybrid_model.predict(X_test_hybrid)\n",
        "acc_hybrid = accuracy_score(y_test, y_pred_hybrid)\n",
        "print(\"Hybrid Model Evaluation:\")\n",
        "print(classification_report(y_test, y_pred_hybrid, target_names=le.classes_))"
      ],
      "metadata": {
        "colab": {
          "base_uri": "https://localhost:8080/"
        },
        "id": "rltZV-7VedET",
        "outputId": "8690a0d3-2937-46c6-c8e9-406ec79eea13"
      },
      "id": "rltZV-7VedET",
      "execution_count": null,
      "outputs": [
        {
          "output_type": "stream",
          "name": "stdout",
          "text": [
            "Hybrid Model Evaluation:\n",
            "              precision    recall  f1-score   support\n",
            "\n",
            "    Negative       1.00      1.00      1.00       122\n",
            "    Positive       1.00      1.00      1.00        78\n",
            "\n",
            "    accuracy                           1.00       200\n",
            "   macro avg       1.00      1.00      1.00       200\n",
            "weighted avg       1.00      1.00      1.00       200\n",
            "\n"
          ]
        }
      ]
    },
    {
      "cell_type": "code",
      "source": [
        "# Step 8: Compare All Models (Rule-Based, ML Models, Hybrid)\n",
        "results = {\n",
        "    'Model': ['Rule-Based', 'Logistic Regression', 'SVM', 'Random Forest', 'Hybrid'],\n",
        "    'Accuracy': [acc_rule, acc_lr, acc_svm, acc_rf, acc_hybrid]\n",
        "}\n",
        "\n",
        "results_df = pd.DataFrame(results)\n",
        "print(\"Model Comparison:\")\n",
        "print(results_df)\n",
        "\n",
        "# Visualize\n",
        "plt.bar(results_df['Model'], results_df['Accuracy'])\n",
        "plt.xlabel('Models')\n",
        "plt.ylabel('Accuracy')\n",
        "plt.title('Model Performance Comparison')\n",
        "plt.xticks(rotation=45)\n",
        "plt.show()"
      ],
      "metadata": {
        "colab": {
          "base_uri": "https://localhost:8080/",
          "height": 683
        },
        "id": "bhXK9JkSemMB",
        "outputId": "3553b304-db7c-487f-957c-ed362eb48184"
      },
      "id": "bhXK9JkSemMB",
      "execution_count": null,
      "outputs": [
        {
          "output_type": "stream",
          "name": "stdout",
          "text": [
            "Model Comparison:\n",
            "                 Model  Accuracy\n",
            "0           Rule-Based      0.61\n",
            "1  Logistic Regression      1.00\n",
            "2                  SVM      1.00\n",
            "3        Random Forest      1.00\n",
            "4               Hybrid      1.00\n"
          ]
        },
        {
          "output_type": "display_data",
          "data": {
            "text/plain": [
              "<Figure size 640x480 with 1 Axes>"
            ],
            "image/png": "[encoded data removed]"
          },
          "metadata": {}
        }
      ]
    },
    {
      "cell_type": "code",
      "source": [
        "# Step 9: Input Different Reviews and Compare Results\n",
        "def predict_sentiment(new_review):\n",
        "    # Preprocess\n",
        "    tfidf_vec = vectorizer.transform([new_review])\n",
        "    rule_score = np.array([sia.polarity_scores(new_review)['compound']]).reshape(-1, 1)\n",
        "    hybrid_vec = hstack((tfidf_vec, rule_score))\n",
        "\n",
        "    # Predictions\n",
        "    rule_pred = rule_based_sentiment(new_review)\n",
        "    lr_pred = lr_model.predict(tfidf_vec)[0]\n",
        "    svm_pred = svm_model.predict(tfidf_vec)[0]\n",
        "    rf_pred = rf_model.predict(tfidf_vec)[0]\n",
        "    hybrid_pred = hybrid_model.predict(hybrid_vec)[0]\n",
        "\n",
        "    # Decode labels\n",
        "    # Fit the label encoder on all possible labels before inverse transforming\n",
        "    le.fit(['Negative', 'Neutral', 'Positive'])\n",
        "    preds = {\n",
        "        'Rule-Based': le.inverse_transform([rule_pred])[0],\n",
        "        'Logistic Regression': le.inverse_transform([lr_pred])[0],\n",
        "        'SVM': le.inverse_transform([svm_pred])[0],\n",
        "        'Random Forest': le.inverse_transform([rf_pred])[0],\n",
        "        'Hybrid': le.inverse_transform([hybrid_pred])[0]\n",
        "    }\n",
        "    return preds\n",
        "\n",
        "# Example usage: Input new reviews\n",
        "new_reviews = [\n",
        "    \"The battery life is amazing, lasts all day!\",\n",
        "    \"This product is terrible, broke after a week.\",\n",
        "    \"It's okay, nothing special but works fine.\"\n",
        "]\n",
        "\n",
        "for review in new_reviews:\n",
        "    print(f\"\\nReview: {review}\")\n",
        "    print(predict_sentiment(review))"
      ],
      "metadata": {
        "colab": {
          "base_uri": "https://localhost:8080/"
        },
        "id": "r2F_LAgZdfNX",
        "outputId": "921a8f91-11e4-4871-a44d-12b33584873d"
      },
      "id": "r2F_LAgZdfNX",
      "execution_count": null,
      "outputs": [
        {
          "output_type": "stream",
          "name": "stdout",
          "text": [
            "\n",
            "Review: The battery life is amazing, lasts all day!\n",
            "{'Rule-Based': np.str_('Positive'), 'Logistic Regression': np.str_('Neutral'), 'SVM': np.str_('Neutral'), 'Random Forest': np.str_('Neutral'), 'Hybrid': np.str_('Neutral')}\n",
            "\n",
            "Review: This product is terrible, broke after a week.\n",
            "{'Rule-Based': np.str_('Negative'), 'Logistic Regression': np.str_('Negative'), 'SVM': np.str_('Negative'), 'Random Forest': np.str_('Negative'), 'Hybrid': np.str_('Negative')}\n",
            "\n",
            "Review: It's okay, nothing special but works fine.\n",
            "{'Rule-Based': np.str_('Positive'), 'Logistic Regression': np.str_('Negative'), 'SVM': np.str_('Negative'), 'Random Forest': np.str_('Negative'), 'Hybrid': np.str_('Negative')}\n"
          ]
        }
      ]
    },
    {
      "cell_type": "markdown",
      "source": [
        "# Code 2"
      ],
      "metadata": {
        "id": "uMjKLBNp0OY4"
      },
      "id": "uMjKLBNp0OY4"
    },
    {
      "cell_type": "code",
      "source": [
        "# Step 1: Set Up Environment and Install Dependencies\n",
        "!pip install -q pandas numpy scikit-learn nltk textblob spacy transformers sentence-transformers\n",
        "!python -m spacy download en_core_web_sm\n",
        "\n",
        "import nltk\n",
        "nltk.download('vader_lexicon')\n",
        "nltk.download('punkt')\n",
        "nltk.download('stopwords')\n",
        "\n",
        "import pandas as pd\n",
        "import numpy as np\n",
        "from sklearn.model_selection import train_test_split\n",
        "from sklearn.feature_extraction.text import TfidfVectorizer\n",
        "from sklearn.linear_model import LogisticRegression\n",
        "from sklearn.svm import SVC\n",
        "from sklearn.ensemble import RandomForestClassifier\n",
        "from sklearn.metrics import accuracy_score, precision_score, recall_score, f1_score, classification_report\n",
        "from nltk.sentiment.vader import SentimentIntensityAnalyzer\n",
        "from textblob import TextBlob\n",
        "import spacy\n",
        "from sklearn.preprocessing import LabelEncoder\n",
        "import matplotlib.pyplot as plt\n",
        "from scipy.sparse import hstack\n",
        "\n",
        "nlp = spacy.load('en_core_web_sm')\n",
        "sia = SentimentIntensityAnalyzer()\n",
        "\n",
        "print(\"Environment setup complete!\")"
      ],
      "metadata": {
        "id": "ggTVqPVSHUOW",
        "outputId": "49532598-c239-4841-e51a-fe2f4a27a7fa",
        "colab": {
          "base_uri": "https://localhost:8080/"
        }
      },
      "id": "ggTVqPVSHUOW",
      "execution_count": 1,
      "outputs": [
        {
          "output_type": "stream",
          "name": "stdout",
          "text": [
            "Collecting en-core-web-sm==3.8.0\n",
            "  Downloading https://github.com/explosion/spacy-models/releases/download/en_core_web_sm-3.8.0/en_core_web_sm-3.8.0-py3-none-any.whl (12.8 MB)\n",
            "\u001b[2K     \u001b[90m━━━━━━━━━━━━━━━━━━━━━━━━━━━━━━━━━━━━━━━━\u001b[0m \u001b[32m12.8/12.8 MB\u001b[0m \u001b[31m93.0 MB/s\u001b[0m eta \u001b[36m0:00:00\u001b[0m\n",
            "\u001b[?25h\u001b[38;5;2m✔ Download and installation successful\u001b[0m\n",
            "You can now load the package via spacy.load('en_core_web_sm')\n",
            "\u001b[38;5;3m⚠ Restart to reload dependencies\u001b[0m\n",
            "If you are in a Jupyter or Colab notebook, you may need to restart Python in\n",
            "order to load all the package's dependencies. You can do this by selecting the\n",
            "'Restart kernel' or 'Restart runtime' option.\n"
          ]
        },
        {
          "output_type": "stream",
          "name": "stderr",
          "text": [
            "[nltk_data] Downloading package vader_lexicon to /root/nltk_data...\n",
            "[nltk_data] Downloading package punkt to /root/nltk_data...\n",
            "[nltk_data]   Unzipping tokenizers/punkt.zip.\n",
            "[nltk_data] Downloading package stopwords to /root/nltk_data...\n",
            "[nltk_data]   Unzipping corpora/stopwords.zip.\n"
          ]
        },
        {
          "output_type": "stream",
          "name": "stdout",
          "text": [
            "Environment setup complete!\n"
          ]
        }
      ]
    },
    {
      "cell_type": "code",
      "source": [
        "# Step 2: Mount Google Drive and Load Dataset\n",
        "from google.colab import drive\n",
        "drive.mount('/content/drive')\n",
        "\n",
        "# Load dataset (adjust path if needed)\n",
        "data_path = '/content/drive/MyDrive/dummy_customer_feedback.csv'  # Update to your path\n",
        "df = pd.read_csv(data_path)\n",
        "\n",
        "print(\"Dataset loaded:\")\n",
        "print(df.head())\n",
        "print(f\"Shape: {df.shape}\")\n",
        "print(\"Sentiment distribution:\", df['sentiment'].value_counts())"
      ],
      "metadata": {
        "id": "ATlxchuSHW0D",
        "outputId": "366364b2-d4e5-478f-86ea-876cafd38b36",
        "colab": {
          "base_uri": "https://localhost:8080/",
          "height": 356
        }
      },
      "id": "ATlxchuSHW0D",
      "execution_count": 2,
      "outputs": [
        {
          "output_type": "error",
          "ename": "MessageError",
          "evalue": "Error: credential propagation was unsuccessful",
          "traceback": [
            "\u001b[0;31m---------------------------------------------------------------------------\u001b[0m",
            "\u001b[0;31mMessageError\u001b[0m                              Traceback (most recent call last)",
            "\u001b[0;32m/tmp/ipython-input-3429757105.py\u001b[0m in \u001b[0;36m<cell line: 0>\u001b[0;34m()\u001b[0m\n\u001b[1;32m      1\u001b[0m \u001b[0;31m# Step 2: Mount Google Drive and Load Dataset\u001b[0m\u001b[0;34m\u001b[0m\u001b[0;34m\u001b[0m\u001b[0m\n\u001b[1;32m      2\u001b[0m \u001b[0;32mfrom\u001b[0m \u001b[0mgoogle\u001b[0m\u001b[0;34m.\u001b[0m\u001b[0mcolab\u001b[0m \u001b[0;32mimport\u001b[0m \u001b[0mdrive\u001b[0m\u001b[0;34m\u001b[0m\u001b[0;34m\u001b[0m\u001b[0m\n\u001b[0;32m----> 3\u001b[0;31m \u001b[0mdrive\u001b[0m\u001b[0;34m.\u001b[0m\u001b[0mmount\u001b[0m\u001b[0;34m(\u001b[0m\u001b[0;34m'/content/drive'\u001b[0m\u001b[0;34m)\u001b[0m\u001b[0;34m\u001b[0m\u001b[0;34m\u001b[0m\u001b[0m\n\u001b[0m\u001b[1;32m      4\u001b[0m \u001b[0;34m\u001b[0m\u001b[0m\n\u001b[1;32m      5\u001b[0m \u001b[0;31m# Load dataset (adjust path if needed)\u001b[0m\u001b[0;34m\u001b[0m\u001b[0;34m\u001b[0m\u001b[0m\n",
            "\u001b[0;32m/usr/local/lib/python3.12/dist-packages/google/colab/drive.py\u001b[0m in \u001b[0;36mmount\u001b[0;34m(mountpoint, force_remount, timeout_ms, readonly)\u001b[0m\n\u001b[1;32m     95\u001b[0m \u001b[0;32mdef\u001b[0m \u001b[0mmount\u001b[0m\u001b[0;34m(\u001b[0m\u001b[0mmountpoint\u001b[0m\u001b[0;34m,\u001b[0m \u001b[0mforce_remount\u001b[0m\u001b[0;34m=\u001b[0m\u001b[0;32mFalse\u001b[0m\u001b[0;34m,\u001b[0m \u001b[0mtimeout_ms\u001b[0m\u001b[0;34m=\u001b[0m\u001b[0;36m120000\u001b[0m\u001b[0;34m,\u001b[0m \u001b[0mreadonly\u001b[0m\u001b[0;34m=\u001b[0m\u001b[0;32mFalse\u001b[0m\u001b[0;34m)\u001b[0m\u001b[0;34m:\u001b[0m\u001b[0;34m\u001b[0m\u001b[0;34m\u001b[0m\u001b[0m\n\u001b[1;32m     96\u001b[0m   \u001b[0;34m\"\"\"Mount your Google Drive at the specified mountpoint path.\"\"\"\u001b[0m\u001b[0;34m\u001b[0m\u001b[0;34m\u001b[0m\u001b[0m\n\u001b[0;32m---> 97\u001b[0;31m   return _mount(\n\u001b[0m\u001b[1;32m     98\u001b[0m       \u001b[0mmountpoint\u001b[0m\u001b[0;34m,\u001b[0m\u001b[0;34m\u001b[0m\u001b[0;34m\u001b[0m\u001b[0m\n\u001b[1;32m     99\u001b[0m       \u001b[0mforce_remount\u001b[0m\u001b[0;34m=\u001b[0m\u001b[0mforce_remount\u001b[0m\u001b[0;34m,\u001b[0m\u001b[0;34m\u001b[0m\u001b[0;34m\u001b[0m\u001b[0m\n",
            "\u001b[0;32m/usr/local/lib/python3.12/dist-packages/google/colab/drive.py\u001b[0m in \u001b[0;36m_mount\u001b[0;34m(mountpoint, force_remount, timeout_ms, ephemeral, readonly)\u001b[0m\n\u001b[1;32m    132\u001b[0m   )\n\u001b[1;32m    133\u001b[0m   \u001b[0;32mif\u001b[0m \u001b[0mephemeral\u001b[0m\u001b[0;34m:\u001b[0m\u001b[0;34m\u001b[0m\u001b[0;34m\u001b[0m\u001b[0m\n\u001b[0;32m--> 134\u001b[0;31m     _message.blocking_request(\n\u001b[0m\u001b[1;32m    135\u001b[0m         \u001b[0;34m'request_auth'\u001b[0m\u001b[0;34m,\u001b[0m\u001b[0;34m\u001b[0m\u001b[0;34m\u001b[0m\u001b[0m\n\u001b[1;32m    136\u001b[0m         \u001b[0mrequest\u001b[0m\u001b[0;34m=\u001b[0m\u001b[0;34m{\u001b[0m\u001b[0;34m'authType'\u001b[0m\u001b[0;34m:\u001b[0m \u001b[0;34m'dfs_ephemeral'\u001b[0m\u001b[0;34m}\u001b[0m\u001b[0;34m,\u001b[0m\u001b[0;34m\u001b[0m\u001b[0;34m\u001b[0m\u001b[0m\n",
            "\u001b[0;32m/usr/local/lib/python3.12/dist-packages/google/colab/_message.py\u001b[0m in \u001b[0;36mblocking_request\u001b[0;34m(request_type, request, timeout_sec, parent)\u001b[0m\n\u001b[1;32m    174\u001b[0m       \u001b[0mrequest_type\u001b[0m\u001b[0;34m,\u001b[0m \u001b[0mrequest\u001b[0m\u001b[0;34m,\u001b[0m \u001b[0mparent\u001b[0m\u001b[0;34m=\u001b[0m\u001b[0mparent\u001b[0m\u001b[0;34m,\u001b[0m \u001b[0mexpect_reply\u001b[0m\u001b[0;34m=\u001b[0m\u001b[0;32mTrue\u001b[0m\u001b[0;34m\u001b[0m\u001b[0;34m\u001b[0m\u001b[0m\n\u001b[1;32m    175\u001b[0m   )\n\u001b[0;32m--> 176\u001b[0;31m   \u001b[0;32mreturn\u001b[0m \u001b[0mread_reply_from_input\u001b[0m\u001b[0;34m(\u001b[0m\u001b[0mrequest_id\u001b[0m\u001b[0;34m,\u001b[0m \u001b[0mtimeout_sec\u001b[0m\u001b[0;34m)\u001b[0m\u001b[0;34m\u001b[0m\u001b[0;34m\u001b[0m\u001b[0m\n\u001b[0m",
            "\u001b[0;32m/usr/local/lib/python3.12/dist-packages/google/colab/_message.py\u001b[0m in \u001b[0;36mread_reply_from_input\u001b[0;34m(message_id, timeout_sec)\u001b[0m\n\u001b[1;32m    101\u001b[0m     ):\n\u001b[1;32m    102\u001b[0m       \u001b[0;32mif\u001b[0m \u001b[0;34m'error'\u001b[0m \u001b[0;32min\u001b[0m \u001b[0mreply\u001b[0m\u001b[0;34m:\u001b[0m\u001b[0;34m\u001b[0m\u001b[0;34m\u001b[0m\u001b[0m\n\u001b[0;32m--> 103\u001b[0;31m         \u001b[0;32mraise\u001b[0m \u001b[0mMessageError\u001b[0m\u001b[0;34m(\u001b[0m\u001b[0mreply\u001b[0m\u001b[0;34m[\u001b[0m\u001b[0;34m'error'\u001b[0m\u001b[0;34m]\u001b[0m\u001b[0;34m)\u001b[0m\u001b[0;34m\u001b[0m\u001b[0;34m\u001b[0m\u001b[0m\n\u001b[0m\u001b[1;32m    104\u001b[0m       \u001b[0;32mreturn\u001b[0m \u001b[0mreply\u001b[0m\u001b[0;34m.\u001b[0m\u001b[0mget\u001b[0m\u001b[0;34m(\u001b[0m\u001b[0;34m'data'\u001b[0m\u001b[0;34m,\u001b[0m \u001b[0;32mNone\u001b[0m\u001b[0;34m)\u001b[0m\u001b[0;34m\u001b[0m\u001b[0;34m\u001b[0m\u001b[0m\n\u001b[1;32m    105\u001b[0m \u001b[0;34m\u001b[0m\u001b[0m\n",
            "\u001b[0;31mMessageError\u001b[0m: Error: credential propagation was unsuccessful"
          ]
        }
      ]
    },
    {
      "cell_type": "code",
      "source": [
        "# Step 3: Select Relevant Columns and Preprocess\n",
        "df = df[['review_text', 'sentiment']]\n",
        "\n",
        "# Encode sentiment labels (Positive: 2, Neutral: 1, Negative: 0)\n",
        "le = LabelEncoder()\n",
        "df['sentiment_encoded'] = le.fit_transform(df['sentiment'])\n",
        "print(\"Encoded classes:\", le.classes_)\n",
        "\n",
        "# Ensure all three classes are present\n",
        "if len(le.classes_) != 3:\n",
        "    raise ValueError(\"Dataset must contain Negative, Neutral, and Positive sentiments.\")\n",
        "\n",
        "# Split data into train/test (80/20, stratified to maintain class balance)\n",
        "X = df['review_text']\n",
        "y = df['sentiment_encoded']\n",
        "X_train, X_test, y_train, y_test = train_test_split(X, y, test_size=0.2, random_state=42, stratify=y)\n",
        "\n",
        "print(\"Data prepared. Train shape:\", X_train.shape, \"Test shape:\", X_test.shape)\n",
        "print(\"Test set sentiment distribution:\", pd.Series(y_test).value_counts())"
      ],
      "metadata": {
        "id": "WZNhsfVgHZge"
      },
      "id": "WZNhsfVgHZge",
      "execution_count": null,
      "outputs": []
    },
    {
      "cell_type": "code",
      "source": [
        "# Step 4: Rule-Based Model with Enhanced Negation Handling\n",
        "def rule_based_sentiment(text):\n",
        "    # VADER sentiment\n",
        "    vader_score = sia.polarity_scores(text)['compound']\n",
        "\n",
        "    # Enhance with spaCy negation detection\n",
        "    doc = nlp(text)\n",
        "    negation = any(token.dep_ == 'neg' for token in doc)\n",
        "\n",
        "    # Adjust thresholds and handle negations\n",
        "    if negation and vader_score > 0:\n",
        "        return 0  # Flip to Negative if negation detected\n",
        "    elif vader_score > 0.1:  # Tighter threshold for Positive\n",
        "        return 2  # Positive\n",
        "    elif vader_score < -0.1:  # Tighter threshold for Negative\n",
        "        return 0  # Negative\n",
        "    else:\n",
        "        return 1  # Neutral\n",
        "\n",
        "# Apply to test set\n",
        "y_pred_rule = [rule_based_sentiment(text) for text in X_test]\n",
        "\n",
        "# Evaluate Rule-Based\n",
        "print(\"Rule-Based Evaluation:\")\n",
        "print(classification_report(y_test, y_pred_rule, target_names=le.classes_, zero_division=0))\n",
        "acc_rule = accuracy_score(y_test, y_pred_rule)"
      ],
      "metadata": {
        "id": "f3je8lGIHdWg"
      },
      "id": "f3je8lGIHdWg",
      "execution_count": null,
      "outputs": []
    },
    {
      "cell_type": "code",
      "source": [
        "# Step 5 & 6: ML Models with N-gram Features (TF-IDF with 1-3 grams), Evaluation\n",
        "# Vectorizer for n-grams (reduced features to prevent overfitting)\n",
        "vectorizer = TfidfVectorizer(ngram_range=(1, 3), stop_words='english', max_features=2000)\n",
        "X_train_tfidf = vectorizer.fit_transform(X_train)\n",
        "X_test_tfidf = vectorizer.transform(X_test)\n",
        "\n",
        "# Model 1: Logistic Regression (with regularization)\n",
        "lr_model = LogisticRegression(max_iter=1000, C=0.5)\n",
        "lr_model.fit(X_train_tfidf, y_train)\n",
        "y_pred_lr = lr_model.predict(X_test_tfidf)\n",
        "acc_lr = accuracy_score(y_test, y_pred_lr)\n",
        "print(\"Logistic Regression Evaluation:\")\n",
        "print(classification_report(y_test, y_pred_lr, target_names=le.classes_, zero_division=0))\n",
        "\n",
        "# Model 2: SVM\n",
        "svm_model = SVC(kernel='linear', C=0.5)\n",
        "svm_model.fit(X_train_tfidf, y_train)\n",
        "y_pred_svm = svm_model.predict(X_test_tfidf)\n",
        "acc_svm = accuracy_score(y_test, y_pred_svm)\n",
        "print(\"SVM Evaluation:\")\n",
        "print(classification_report(y_test, y_pred_svm, target_names=le.classes_, zero_division=0))\n",
        "\n",
        "# Model 3: Random Forest\n",
        "rf_model = RandomForestClassifier(n_estimators=100, random_state=42, max_depth=10)\n",
        "rf_model.fit(X_train_tfidf, y_train)\n",
        "y_pred_rf = rf_model.predict(X_test_tfidf)\n",
        "acc_rf = accuracy_score(y_test, y_pred_rf)\n",
        "print(\"Random Forest Evaluation:\")\n",
        "print(classification_report(y_test, y_pred_rf, target_names=le.classes_, zero_division=0))"
      ],
      "metadata": {
        "id": "CBUbdwxTHhnt"
      },
      "id": "CBUbdwxTHhnt",
      "execution_count": null,
      "outputs": []
    },
    {
      "cell_type": "code",
      "source": [
        "# Step 7: Hybrid Approach (Combine Rule-Based Scores with ML Features)\n",
        "rule_scores_train = np.array([sia.polarity_scores(text)['compound'] for text in X_train]).reshape(-1, 1)\n",
        "rule_scores_test = np.array([sia.polarity_scores(text)['compound'] for text in X_test]).reshape(-1, 1)\n",
        "\n",
        "# Combine TF-IDF with rule-based scores\n",
        "X_train_hybrid = hstack((X_train_tfidf, rule_scores_train))\n",
        "X_test_hybrid = hstack((X_test_tfidf, rule_scores_test))\n",
        "\n",
        "# Train Hybrid on Logistic Regression\n",
        "hybrid_model = LogisticRegression(max_iter=1000, C=0.5)\n",
        "hybrid_model.fit(X_train_hybrid, y_train)\n",
        "y_pred_hybrid = hybrid_model.predict(X_test_hybrid)\n",
        "acc_hybrid = accuracy_score(y_test, y_pred_hybrid)\n",
        "print(\"Hybrid Model Evaluation:\")\n",
        "print(classification_report(y_test, y_pred_hybrid, target_names=le.classes_, zero_division=0))"
      ],
      "metadata": {
        "id": "NLo_IdXXHktm"
      },
      "id": "NLo_IdXXHktm",
      "execution_count": null,
      "outputs": []
    },
    {
      "cell_type": "code",
      "source": [
        "# Step 8: Compare All Models\n",
        "results = {\n",
        "    'Model': ['Rule-Based', 'Logistic Regression', 'SVM', 'Random Forest', 'Hybrid'],\n",
        "    'Accuracy': [acc_rule, acc_lr, acc_svm, acc_rf, acc_hybrid],\n",
        "    'Precision (macro)': [precision_score(y_test, y_pred_rule, average='macro', zero_division=0),\n",
        "                         precision_score(y_test, y_pred_lr, average='macro', zero_division=0),\n",
        "                         precision_score(y_test, y_pred_svm, average='macro', zero_division=0),\n",
        "                         precision_score(y_test, y_pred_rf, average='macro', zero_division=0),\n",
        "                         precision_score(y_test, y_pred_hybrid, average='macro', zero_division=0)],\n",
        "    'Recall (macro)': [recall_score(y_test, y_pred_rule, average='macro', zero_division=0),\n",
        "                       recall_score(y_test, y_pred_lr, average='macro', zero_division=0),\n",
        "                       recall_score(y_test, y_pred_svm, average='macro', zero_division=0),\n",
        "                       recall_score(y_test, y_pred_rf, average='macro', zero_division=0),\n",
        "                       recall_score(y_test, y_pred_hybrid, average='macro', zero_division=0)],\n",
        "    'F1-Score (macro)': [f1_score(y_test, y_pred_rule, average='macro', zero_division=0),\n",
        "                         f1_score(y_test, y_pred_lr, average='macro', zero_division=0),\n",
        "                         f1_score(y_test, y_pred_svm, average='macro', zero_division=0),\n",
        "                         f1_score(y_test, y_pred_rf, average='macro', zero_division=0),\n",
        "                         f1_score(y_test, y_pred_hybrid, average='macro', zero_division=0)]\n",
        "}\n",
        "\n",
        "results_df = pd.DataFrame(results)\n",
        "print(\"Model Comparison:\")\n",
        "print(results_df)\n",
        "\n",
        "# Visualize\n",
        "plt.figure(figsize=(10, 6))\n",
        "plt.bar(results_df['Model'], results_df['Accuracy'])\n",
        "plt.xlabel('Models')\n",
        "plt.ylabel('Accuracy')\n",
        "plt.title('Model Performance Comparison')\n",
        "plt.xticks(rotation=45)\n",
        "plt.show()"
      ],
      "metadata": {
        "id": "9FOGJAobHn_T"
      },
      "id": "9FOGJAobHn_T",
      "execution_count": null,
      "outputs": []
    },
    {
      "cell_type": "code",
      "source": [
        "# Step 9: Input Different Reviews and Compare Results\n",
        "def predict_sentiment(new_review):\n",
        "    tfidf_vec = vectorizer.transform([new_review])\n",
        "    rule_score = np.array([sia.polarity_scores(new_review)['compound']]).reshape(-1, 1)\n",
        "    hybrid_vec = hstack((tfidf_vec, rule_score))\n",
        "\n",
        "    rule_pred = rule_based_sentiment(new_review)\n",
        "    lr_pred = lr_model.predict(tfidf_vec)[0]\n",
        "    svm_pred = svm_model.predict(tfidf_vec)[0]\n",
        "    rf_pred = rf_model.predict(tfidf_vec)[0]\n",
        "    hybrid_pred = hybrid_model.predict(hybrid_vec)[0]\n",
        "\n",
        "    preds = {\n",
        "        'Rule-Based': le.inverse_transform([rule_pred])[0],\n",
        "        'Logistic Regression': le.inverse_transform([lr_pred])[0],\n",
        "        'SVM': le.inverse_transform([svm_pred])[0],\n",
        "        'Random Forest': le.inverse_transform([rf_pred])[0],\n",
        "        'Hybrid': le.inverse_transform([hybrid_pred])[0]\n",
        "    }\n",
        "    return preds\n",
        "\n",
        "# Test new reviews\n",
        "new_reviews = [\n",
        "    \"The battery life is amazing, lasts all day!\",\n",
        "    \"This product is terrible, broke after a week.\",\n",
        "    \"It's okay, nothing special but works fine.\"\n",
        "]\n",
        "\n",
        "for review in new_reviews:\n",
        "    print(f\"\\nReview: {review}\")\n",
        "    print(predict_sentiment(review))"
      ],
      "metadata": {
        "id": "bN7dS8h40Qf3"
      },
      "id": "bN7dS8h40Qf3",
      "execution_count": null,
      "outputs": []
    }
  ],
  "metadata": {
    "language_info": {
      "name": "python"
    },
    "colab": {
      "provenance": []
    },
    "kernelspec": {
      "name": "python3",
      "display_name": "Python 3"
    }
  },
  "nbformat": 4,
  "nbformat_minor": 5
}